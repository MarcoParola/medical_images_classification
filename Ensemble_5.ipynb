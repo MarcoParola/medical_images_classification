{
  "nbformat": 4,
  "nbformat_minor": 0,
  "metadata": {
    "colab": {
      "name": "Ensemble_5.ipynb",
      "provenance": [],
      "collapsed_sections": [],
      "include_colab_link": true
    },
    "kernelspec": {
      "name": "python3",
      "display_name": "Python 3"
    },
    "accelerator": "GPU"
  },
  "cells": [
    {
      "cell_type": "markdown",
      "metadata": {
        "id": "view-in-github",
        "colab_type": "text"
      },
      "source": [
        "<a href=\"https://colab.research.google.com/github/MarcoParola/medical_images_classification/blob/main/Ensemble_5.ipynb\" target=\"_parent\"><img src=\"https://colab.research.google.com/assets/colab-badge.svg\" alt=\"Open In Colab\"/></a>"
      ]
    },
    {
      "cell_type": "code",
      "metadata": {
        "colab": {
          "base_uri": "https://localhost:8080/"
        },
        "id": "huZfftyn8-FN",
        "outputId": "c11c12ff-dace-410a-d5d6-5bccb1a3d5f7"
      },
      "source": [
        "pip install ipynb"
      ],
      "execution_count": null,
      "outputs": [
        {
          "output_type": "stream",
          "text": [
            "Requirement already satisfied: ipynb in /usr/local/lib/python3.6/dist-packages (0.5.1)\n"
          ],
          "name": "stdout"
        }
      ]
    },
    {
      "cell_type": "code",
      "metadata": {
        "colab": {
          "base_uri": "https://localhost:8080/"
        },
        "id": "CQ3BVskl9Ba-",
        "outputId": "ba9ab800-62e6-47f1-c445-0c16c172038d"
      },
      "source": [
        "from google.colab import drive\r\n",
        "drive.mount('/content/drive/')"
      ],
      "execution_count": null,
      "outputs": [
        {
          "output_type": "stream",
          "text": [
            "Drive already mounted at /content/drive/; to attempt to forcibly remount, call drive.mount(\"/content/drive/\", force_remount=True).\n"
          ],
          "name": "stdout"
        }
      ]
    },
    {
      "cell_type": "code",
      "metadata": {
        "id": "O9Ldhx1V9FNi"
      },
      "source": [
        "import os\r\n",
        "import numpy as np\r\n",
        "import matplotlib.pyplot as plt\r\n",
        "import collections \r\n",
        "from tensorflow.keras.utils import to_categorical\r\n",
        "import tensorflow as tf\r\n",
        "from tensorflow import keras\r\n",
        "from numpy import array\r\n",
        "from numpy import argmax"
      ],
      "execution_count": null,
      "outputs": []
    },
    {
      "cell_type": "code",
      "metadata": {
        "id": "pkcW9CiL9HPs"
      },
      "source": [
        "projectPath = 'drive/MyDrive/Colab Notebooks/cidl/'\r\n",
        "dataPath = 'numpy data/'"
      ],
      "execution_count": null,
      "outputs": []
    },
    {
      "cell_type": "code",
      "metadata": {
        "colab": {
          "base_uri": "https://localhost:8080/"
        },
        "id": "smBaxSCP9Hz3",
        "outputId": "2fc5ccda-b4a5-43a7-adb8-ae80561fe013"
      },
      "source": [
        "%cd $projectPath\r\n",
        "%run utils.ipynb\r\n",
        "%cd '../../../..'"
      ],
      "execution_count": null,
      "outputs": [
        {
          "output_type": "stream",
          "text": [
            "/content/drive/MyDrive/Colab Notebooks/cidl\n",
            "/content\n"
          ],
          "name": "stdout"
        }
      ]
    },
    {
      "cell_type": "code",
      "metadata": {
        "id": "DSKAOgLn9Jng"
      },
      "source": [
        "# load data\r\n",
        "imagesTrainPub, labelsTrainPub, imagesTestPub, labelsTestPub, imagesTestPriv = load_data(projectPath + dataPath)\r\n",
        "\r\n",
        "# normalize data \r\n",
        "imagesTrainPub = scaleData(imagesTrainPub)\r\n",
        "imagesTestPub = scaleData(imagesTestPub)"
      ],
      "execution_count": null,
      "outputs": []
    },
    {
      "cell_type": "code",
      "metadata": {
        "id": "fU6WPexE9Q8C"
      },
      "source": [
        "# create (if not exists) the folder to store the models\r\n",
        "dir_name = 'models/'\r\n",
        "if not os.path.exists(projectPath + dir_name):\r\n",
        "  os.makedirs(projectPath + dir_name)"
      ],
      "execution_count": null,
      "outputs": []
    },
    {
      "cell_type": "markdown",
      "metadata": {
        "id": "mIGn7TE099Pw"
      },
      "source": [
        "# **Load data to classify**"
      ]
    },
    {
      "cell_type": "code",
      "metadata": {
        "id": "LzOHYvpf9dVD"
      },
      "source": [
        "# 0 -> mass\r\n",
        "# 1 -> calcification\r\n",
        "\r\n",
        "# prepare test-set\r\n",
        "testSet = []\r\n",
        "testLabels = []\r\n",
        "\r\n",
        "for i in range(len(labelsTestPub)):\r\n",
        "  if labelsTestPub[i] == 1 or labelsTestPub[i] == 2:\r\n",
        "    testSet.append(imagesTestPub[i])\r\n",
        "    testLabels.append(0)\r\n",
        "  if labelsTestPub[i] == 3 or labelsTestPub[i] == 4:\r\n",
        "    testSet.append(imagesTestPub[i])\r\n",
        "    testLabels.append(1)\r\n",
        "\r\n",
        "testSet = np.array(testSet)\r\n",
        "testSet = testSet.reshape(336, 150, 150, 1)\r\n",
        "\r\n",
        "# the output must have a categorigal values\r\n",
        "testLabelsCategorical = to_categorical(np.array(testLabels))"
      ],
      "execution_count": null,
      "outputs": []
    },
    {
      "cell_type": "code",
      "metadata": {
        "id": "aLj-V09RxF2H"
      },
      "source": [
        "# 0 -> benign\r\n",
        "# 1 -> malignant\r\n",
        "\r\n",
        "# prepare test-set\r\n",
        "testSet2 = []\r\n",
        "testLabels2 = []\r\n",
        "\r\n",
        "for i in range(len(labelsTestPub)):\r\n",
        "  if labelsTestPub[i] == 1 or labelsTestPub[i] == 3:\r\n",
        "    testSet2.append(imagesTestPub[i])\r\n",
        "    testLabels2.append(0)\r\n",
        "  if labelsTestPub[i] == 2 or labelsTestPub[i] == 4:\r\n",
        "    testSet2.append(imagesTestPub[i])\r\n",
        "    testLabels2.append(1)\r\n",
        "\r\n",
        "testSet2 = np.array(testSet2)\r\n",
        "testSet2 = testSet2.reshape(336, 150, 150, 1)\r\n",
        "\r\n",
        "# the output must have a categorigal values\r\n",
        "testLabelsCategorical2 = to_categorical(np.array(testLabels2))"
      ],
      "execution_count": null,
      "outputs": []
    },
    {
      "cell_type": "code",
      "metadata": {
        "id": "GScHNENsHh-1"
      },
      "source": [
        "def ensemble_predictions_avg(members, weights, testX):\r\n",
        "\t# make predictions\r\n",
        "\tyhats = [model.predict(testX) for model in members]\r\n",
        "\tyhats = array(yhats)\r\n",
        "\t# weighted sum across ensemble members\r\n",
        "\tsummed = np.tensordot(yhats, weights, axes=((0),(0)))\r\n",
        "\t# argmax across classes\r\n",
        "\tresult = argmax(summed, axis=1)\r\n",
        "\treturn result"
      ],
      "execution_count": null,
      "outputs": []
    },
    {
      "cell_type": "code",
      "metadata": {
        "id": "yGLKPSWVEy5k"
      },
      "source": [
        "def ensemble_predictions_majority(members, weights, testX):\r\n",
        "  # make predictions\r\n",
        "  yhats = [model.predict_classes(testX) for model in members]\r\n",
        "  pred = []\r\n",
        "  for j in range(len(testX)):\r\n",
        "    prediction = 0\r\n",
        "    class0 = 0\r\n",
        "    class1 = 0\r\n",
        "    for i in range(len(members)):\r\n",
        "      if yhats[i][j] == 0:\r\n",
        "        class0 = class0 +1\r\n",
        "      else:\r\n",
        "        class1 = class1 + 1\r\n",
        "    if class0 > class1:\r\n",
        "      pred.append(0)\r\n",
        "    else:\r\n",
        "      pred.append(1)\r\n",
        "\r\n",
        "  return pred\r\n"
      ],
      "execution_count": null,
      "outputs": []
    },
    {
      "cell_type": "code",
      "metadata": {
        "id": "AOe38skixwGg"
      },
      "source": [
        "def show_results(prediction, testLabels, classes):\r\n",
        "  cm = metrics.confusion_matrix(prediction, testLabels)\r\n",
        "  plt.imshow(cm, interpolation='nearest', cmap='OrRd')\r\n",
        "  plt.title('Confusion matrix')\r\n",
        "  plt.colorbar()\r\n",
        "  tick_marks = np.arange(len(classes))\r\n",
        "  print(tick_marks)\r\n",
        "  plt.xticks(tick_marks, classes, rotation=45)\r\n",
        "  plt.yticks(tick_marks, classes)\r\n",
        "\r\n",
        "  cm = np.round( cm.astype('float') / cm.sum(axis=1)[:, np.newaxis] ,2)\r\n",
        "  print(\"Normalized confusion matrix\")\r\n",
        "  thresh = 0.6\r\n",
        "\r\n",
        "  for i, j in itertools.product(range(cm.shape[0]), range(cm.shape[1])):\r\n",
        "      plt.text(j, i, cm[i, j],horizontalalignment=\"center\",color=\"white\" if cm[i, j] > thresh else \"black\")\r\n",
        "\r\n",
        "  plt.tight_layout()\r\n",
        "  plt.ylabel('True label')\r\n",
        "  plt.xlabel('Predicted label')\r\n",
        "  plt.show()\r\n",
        "  print(metrics.accuracy_score(testLabels,prediction))"
      ],
      "execution_count": null,
      "outputs": []
    },
    {
      "cell_type": "markdown",
      "metadata": {
        "id": "vjIST7vZLroH"
      },
      "source": [
        "# **Ensamble 2.1**"
      ]
    },
    {
      "cell_type": "code",
      "metadata": {
        "colab": {
          "base_uri": "https://localhost:8080/",
          "height": 1000
        },
        "id": "6ADbMh3vMBdG",
        "outputId": "921c2643-d68a-4677-ac77-daa6e017d3b4"
      },
      "source": [
        "dir1 = projectPath + dir_name + \"/task2_1/\"\r\n",
        "\r\n",
        "model1 = keras.models.load_model(os.path.join(dir1, \"model1.h5\"))\r\n",
        "pred1 = model1.predict_classes(testSet)\r\n",
        "acc1 = metrics.accuracy_score(testLabels, pred1)\r\n",
        "\r\n",
        "model2 = keras.models.load_model(os.path.join(dir1,\"model2.h5\"))\r\n",
        "pred2 = model2.predict_classes(testSet)\r\n",
        "acc2 = metrics.accuracy_score(testLabels, pred2)\r\n",
        "\r\n",
        "model3 = keras.models.load_model(os.path.join(dir1,\"model3.h5\"))\r\n",
        "pred3 = model3.predict_classes(testSet)\r\n",
        "acc3 = metrics.accuracy_score(testLabels, pred3)\r\n",
        "\r\n",
        "weights = [acc1, acc2, acc3]\r\n",
        "models = [model1, model2, model3]\r\n",
        "\r\n",
        "resAvg = ensemble_predictions_avg(models, weights, testSet)\r\n",
        "resMaj = ensemble_predictions_majority(models, weights, testSet)\r\n",
        "\r\n",
        "\r\n",
        "show_results(resAvg, testLabels, ['mass', 'calcification'])\r\n",
        "print(metrics.classification_report(testLabels, resAvg))\r\n",
        "\r\n",
        "show_results(resMaj, testLabels, ['mass', 'calcification'])\r\n",
        "print(metrics.classification_report(testLabels, resMaj))"
      ],
      "execution_count": null,
      "outputs": [
        {
          "output_type": "stream",
          "text": [
            "/usr/local/lib/python3.6/dist-packages/tensorflow/python/keras/engine/sequential.py:450: UserWarning: `model.predict_classes()` is deprecated and will be removed after 2021-01-01. Please use instead:* `np.argmax(model.predict(x), axis=-1)`,   if your model does multi-class classification   (e.g. if it uses a `softmax` last-layer activation).* `(model.predict(x) > 0.5).astype(\"int32\")`,   if your model does binary classification   (e.g. if it uses a `sigmoid` last-layer activation).\n",
            "  warnings.warn('`model.predict_classes()` is deprecated and '\n"
          ],
          "name": "stderr"
        },
        {
          "output_type": "stream",
          "text": [
            "[0 1]\n",
            "Normalized confusion matrix\n"
          ],
          "name": "stdout"
        },
        {
          "output_type": "display_data",
          "data": {
            "image/png": "[encoded data removed]",
            "text/plain": [
              "<Figure size 432x288 with 2 Axes>"
            ]
          },
          "metadata": {
            "tags": [],
            "needs_background": "light"
          }
        },
        {
          "output_type": "stream",
          "text": [
            "0.8363095238095238\n",
            "              precision    recall  f1-score   support\n",
            "\n",
            "           0       0.83      0.87      0.85       179\n",
            "           1       0.84      0.80      0.82       157\n",
            "\n",
            "    accuracy                           0.84       336\n",
            "   macro avg       0.84      0.83      0.84       336\n",
            "weighted avg       0.84      0.84      0.84       336\n",
            "\n",
            "[0 1]\n",
            "Normalized confusion matrix\n"
          ],
          "name": "stdout"
        },
        {
          "output_type": "display_data",
          "data": {
            "image/png": "[encoded data removed]",
            "text/plain": [
              "<Figure size 432x288 with 2 Axes>"
            ]
          },
          "metadata": {
            "tags": [],
            "needs_background": "light"
          }
        },
        {
          "output_type": "stream",
          "text": [
            "0.8392857142857143\n",
            "              precision    recall  f1-score   support\n",
            "\n",
            "           0       0.84      0.86      0.85       179\n",
            "           1       0.84      0.82      0.83       157\n",
            "\n",
            "    accuracy                           0.84       336\n",
            "   macro avg       0.84      0.84      0.84       336\n",
            "weighted avg       0.84      0.84      0.84       336\n",
            "\n"
          ],
          "name": "stdout"
        }
      ]
    },
    {
      "cell_type": "markdown",
      "metadata": {
        "id": "417HiEaoL00u"
      },
      "source": [
        "# **Ensamble 2.2**"
      ]
    },
    {
      "cell_type": "code",
      "metadata": {
        "id": "wfEXGPXfMCOM"
      },
      "source": [
        "dir1 = projectPath + dir_name + \"/task2_2/\"\r\n",
        "\r\n",
        "model1 = keras.models.load_model(os.path.join(dir1, \"model1.h5\"))\r\n",
        "pred1 = model1.predict_classes(testSet)\r\n",
        "acc1 = metrics.accuracy_score(testLabels, pred1)\r\n",
        "\r\n",
        "model2 = keras.models.load_model(os.path.join(dir1,\"model2.h5\"))\r\n",
        "pred2 = model2.predict_classes(testSet)\r\n",
        "acc2 = metrics.accuracy_score(testLabels, pred2)\r\n",
        "\r\n",
        "model3 = keras.models.load_model(os.path.join(dir1,\"model3.h5\"))\r\n",
        "pred3 = model3.predict_classes(testSet)\r\n",
        "acc3 = metrics.accuracy_score(testLabels, pred3)\r\n",
        "\r\n",
        "weights = [acc1, acc2, acc3]\r\n",
        "models = [model1, model2, model3]\r\n",
        "\r\n",
        "resAvg = ensemble_predictions_avg(models, weights, testSet2)\r\n",
        "resMaj = ensemble_predictions_majority(models, weights, testSet2)\r\n",
        "\r\n",
        "\r\n",
        "show_results(resAvg, testLabels, ['benign', 'malignant'])\r\n",
        "print(metrics.classification_report(testLabels2, resAvg))\r\n",
        "\r\n",
        "show_results(resMaj, testLabels, ['benign', 'malignant'])\r\n",
        "print(metrics.classification_report(testLabels2, resMaj))"
      ],
      "execution_count": null,
      "outputs": []
    },
    {
      "cell_type": "markdown",
      "metadata": {
        "id": "pinTTf85L0V8"
      },
      "source": [
        "# **Ensamble 3.1**"
      ]
    },
    {
      "cell_type": "code",
      "metadata": {
        "colab": {
          "base_uri": "https://localhost:8080/",
          "height": 1000
        },
        "id": "fnPZE_vgMCkv",
        "outputId": "41ebfa94-478b-459f-9d69-6b340311cffd"
      },
      "source": [
        "dir1 = projectPath + dir_name + \"/task3_1/\"\r\n",
        "testSet = np.repeat(testSet,3, axis = 3)\r\n",
        "\r\n",
        "model1 = keras.models.load_model(os.path.join(dir1, \"model1.h5\"))\r\n",
        "pred1 = model1.predict_classes(testSet)\r\n",
        "acc1 = metrics.accuracy_score(testLabels, pred1)\r\n",
        "\r\n",
        "model2 = keras.models.load_model(os.path.join(dir1,\"model2.h5\"))\r\n",
        "pred2 = model2.predict_classes(testSet)\r\n",
        "acc2 = metrics.accuracy_score(testLabels, pred2)\r\n",
        "\r\n",
        "model3 = keras.models.load_model(os.path.join(dir1,\"model3.h5\"))\r\n",
        "pred3 = model3.predict_classes(testSet)\r\n",
        "acc3 = metrics.accuracy_score(testLabels, pred3)\r\n",
        "\r\n",
        "weights = [acc1, acc2, acc3]\r\n",
        "models = [model1, model2, model3]\r\n",
        "\r\n",
        "resAvg = ensemble_predictions_avg(models, weights, testSet)\r\n",
        "resMaj = ensemble_predictions_majority(models, weights, testSet)\r\n",
        "\r\n",
        "\r\n",
        "show_results(resAvg, testLabels, ['mass', 'calcification'])\r\n",
        "print(metrics.classification_report(testLabels, resAvg))\r\n",
        "\r\n",
        "show_results(resMaj, testLabels, ['mass', 'calcification'])\r\n",
        "print(metrics.classification_report(testLabels, resMaj))"
      ],
      "execution_count": null,
      "outputs": [
        {
          "output_type": "stream",
          "text": [
            "/usr/local/lib/python3.6/dist-packages/tensorflow/python/keras/engine/sequential.py:450: UserWarning: `model.predict_classes()` is deprecated and will be removed after 2021-01-01. Please use instead:* `np.argmax(model.predict(x), axis=-1)`,   if your model does multi-class classification   (e.g. if it uses a `softmax` last-layer activation).* `(model.predict(x) > 0.5).astype(\"int32\")`,   if your model does binary classification   (e.g. if it uses a `sigmoid` last-layer activation).\n",
            "  warnings.warn('`model.predict_classes()` is deprecated and '\n"
          ],
          "name": "stderr"
        },
        {
          "output_type": "stream",
          "text": [
            "[0 1]\n",
            "Normalized confusion matrix\n"
          ],
          "name": "stdout"
        },
        {
          "output_type": "display_data",
          "data": {
            "image/png": "[encoded data removed]",
            "text/plain": [
              "<Figure size 432x288 with 2 Axes>"
            ]
          },
          "metadata": {
            "tags": [],
            "needs_background": "light"
          }
        },
        {
          "output_type": "stream",
          "text": [
            "0.8988095238095238\n",
            "              precision    recall  f1-score   support\n",
            "\n",
            "           0       0.91      0.91      0.91       179\n",
            "           1       0.89      0.89      0.89       157\n",
            "\n",
            "    accuracy                           0.90       336\n",
            "   macro avg       0.90      0.90      0.90       336\n",
            "weighted avg       0.90      0.90      0.90       336\n",
            "\n",
            "[0 1]\n",
            "Normalized confusion matrix\n"
          ],
          "name": "stdout"
        },
        {
          "output_type": "display_data",
          "data": {
            "image/png": "[encoded data removed]",
            "text/plain": [
              "<Figure size 432x288 with 2 Axes>"
            ]
          },
          "metadata": {
            "tags": [],
            "needs_background": "light"
          }
        },
        {
          "output_type": "stream",
          "text": [
            "0.8869047619047619\n",
            "              precision    recall  f1-score   support\n",
            "\n",
            "           0       0.90      0.89      0.89       179\n",
            "           1       0.87      0.89      0.88       157\n",
            "\n",
            "    accuracy                           0.89       336\n",
            "   macro avg       0.89      0.89      0.89       336\n",
            "weighted avg       0.89      0.89      0.89       336\n",
            "\n"
          ],
          "name": "stdout"
        }
      ]
    },
    {
      "cell_type": "markdown",
      "metadata": {
        "id": "bcdWf9XtL4sn"
      },
      "source": [
        "# **Ensamble 3.2**"
      ]
    },
    {
      "cell_type": "code",
      "metadata": {
        "id": "_GdTpJpgMDeJ",
        "colab": {
          "base_uri": "https://localhost:8080/",
          "height": 1000
        },
        "outputId": "3fc98638-f2ee-4b54-be91-1fa7de333638"
      },
      "source": [
        "dir1 = projectPath + dir_name + \"/task3_2/\"\r\n",
        "testSet2 = np.repeat(testSet2,3, axis = 3)\r\n",
        "\r\n",
        "model1 = keras.models.load_model(os.path.join(dir1, \"model1.h5\"))\r\n",
        "pred1 = model1.predict_classes(testSet2)\r\n",
        "acc1 = metrics.accuracy_score(testLabels2, pred1)\r\n",
        "\r\n",
        "model2 = keras.models.load_model(os.path.join(dir1,\"model2.h5\"))\r\n",
        "pred2 = model2.predict_classes(testSet2)\r\n",
        "acc2 = metrics.accuracy_score(testLabels2, pred2)\r\n",
        "\r\n",
        "model3 = keras.models.load_model(os.path.join(dir1,\"model3.h5\"))\r\n",
        "pred3 = model3.predict_classes(testSet2)\r\n",
        "acc3 = metrics.accuracy_score(testLabels2, pred3)\r\n",
        "\r\n",
        "weights = [acc1, acc2, acc3]\r\n",
        "models = [model1, model2, model3]\r\n",
        "\r\n",
        "resAvg = ensemble_predictions_avg(models, weights, testSet2)\r\n",
        "resMaj = ensemble_predictions_majority(models, weights, testSet2)\r\n",
        "\r\n",
        "\r\n",
        "show_results(resAvg, testLabels2, ['benign', 'malignant'])\r\n",
        "print(metrics.classification_report(testLabels2, resAvg))\r\n",
        "\r\n",
        "show_results(resMaj, testLabels2, ['benign', 'malignant'])\r\n",
        "print(metrics.classification_report(testLabels2, resMaj))"
      ],
      "execution_count": null,
      "outputs": [
        {
          "output_type": "stream",
          "text": [
            "/usr/local/lib/python3.6/dist-packages/tensorflow/python/keras/engine/sequential.py:450: UserWarning: `model.predict_classes()` is deprecated and will be removed after 2021-01-01. Please use instead:* `np.argmax(model.predict(x), axis=-1)`,   if your model does multi-class classification   (e.g. if it uses a `softmax` last-layer activation).* `(model.predict(x) > 0.5).astype(\"int32\")`,   if your model does binary classification   (e.g. if it uses a `sigmoid` last-layer activation).\n",
            "  warnings.warn('`model.predict_classes()` is deprecated and '\n"
          ],
          "name": "stderr"
        },
        {
          "output_type": "stream",
          "text": [
            "[0 1]\n",
            "Normalized confusion matrix\n"
          ],
          "name": "stdout"
        },
        {
          "output_type": "display_data",
          "data": {
            "image/png": "[encoded data removed]",
            "text/plain": [
              "<Figure size 432x288 with 2 Axes>"
            ]
          },
          "metadata": {
            "tags": [],
            "needs_background": "light"
          }
        },
        {
          "output_type": "stream",
          "text": [
            "0.7023809523809523\n",
            "              precision    recall  f1-score   support\n",
            "\n",
            "           0       0.79      0.74      0.77       219\n",
            "           1       0.57      0.62      0.59       117\n",
            "\n",
            "    accuracy                           0.70       336\n",
            "   macro avg       0.68      0.68      0.68       336\n",
            "weighted avg       0.71      0.70      0.71       336\n",
            "\n",
            "[0 1]\n",
            "Normalized confusion matrix\n"
          ],
          "name": "stdout"
        },
        {
          "output_type": "display_data",
          "data": {
            "image/png": "[encoded data removed]",
            "text/plain": [
              "<Figure size 432x288 with 2 Axes>"
            ]
          },
          "metadata": {
            "tags": [],
            "needs_background": "light"
          }
        },
        {
          "output_type": "stream",
          "text": [
            "0.7023809523809523\n",
            "              precision    recall  f1-score   support\n",
            "\n",
            "           0       0.78      0.75      0.77       219\n",
            "           1       0.57      0.62      0.59       117\n",
            "\n",
            "    accuracy                           0.70       336\n",
            "   macro avg       0.68      0.68      0.68       336\n",
            "weighted avg       0.71      0.70      0.71       336\n",
            "\n"
          ],
          "name": "stdout"
        }
      ]
    }
  ]
}