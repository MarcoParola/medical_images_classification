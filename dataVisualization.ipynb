{
  "nbformat": 4,
  "nbformat_minor": 0,
  "metadata": {
    "colab": {
      "name": "dataVisualization.ipynb",
      "provenance": [],
      "collapsed_sections": [],
      "include_colab_link": true
    },
    "kernelspec": {
      "display_name": "Python 3",
      "name": "python3"
    }
  },
  "cells": [
    {
      "cell_type": "markdown",
      "metadata": {
        "id": "view-in-github",
        "colab_type": "text"
      },
      "source": [
        "<a href=\"https://colab.research.google.com/github/MarcoParola/medical_images_classification/blob/main/dataVisualization.ipynb\" target=\"_parent\"><img src=\"https://colab.research.google.com/assets/colab-badge.svg\" alt=\"Open In Colab\"/></a>"
      ]
    },
    {
      "cell_type": "code",
      "metadata": {
        "id": "FrELb75I-GgU",
        "colab": {
          "base_uri": "https://localhost:8080/"
        },
        "outputId": "9c27ed2c-d9ee-437c-e436-17fe9a70e8f0"
      },
      "source": [
        "pip install ipynb"
      ],
      "execution_count": null,
      "outputs": [
        {
          "output_type": "stream",
          "text": [
            "Requirement already satisfied: ipynb in /usr/local/lib/python3.6/dist-packages (0.5.1)\n"
          ],
          "name": "stdout"
        }
      ]
    },
    {
      "cell_type": "code",
      "metadata": {
        "id": "BvMz1u5BW2Of",
        "colab": {
          "base_uri": "https://localhost:8080/"
        },
        "outputId": "74eb557f-d4da-4b73-f8e4-2918af1ae335"
      },
      "source": [
        "from google.colab import drive\n",
        "drive.mount('/content/drive/')"
      ],
      "execution_count": null,
      "outputs": [
        {
          "output_type": "stream",
          "text": [
            "Drive already mounted at /content/drive/; to attempt to forcibly remount, call drive.mount(\"/content/drive/\", force_remount=True).\n"
          ],
          "name": "stdout"
        }
      ]
    },
    {
      "cell_type": "code",
      "metadata": {
        "id": "Nil8Sk6GLpCT"
      },
      "source": [
        "import os\n",
        "import numpy as np\n",
        "import matplotlib.pyplot as plt\n",
        "import collections "
      ],
      "execution_count": null,
      "outputs": []
    },
    {
      "cell_type": "code",
      "metadata": {
        "id": "CbmBpUzIW5Re"
      },
      "source": [
        "projectPath = 'drive/MyDrive/Colab Notebooks/cidl/'\n",
        "dataPath = 'numpy data/'"
      ],
      "execution_count": null,
      "outputs": []
    },
    {
      "cell_type": "code",
      "metadata": {
        "id": "Apt19-tmGb-N",
        "colab": {
          "base_uri": "https://localhost:8080/"
        },
        "outputId": "36e2299c-aa6a-4853-c0dd-a932dad497e4"
      },
      "source": [
        "%cd $projectPath\n",
        "%run utils.ipynb\n",
        "%cd '../../../..'"
      ],
      "execution_count": null,
      "outputs": [
        {
          "output_type": "stream",
          "text": [
            "/content/drive/MyDrive/Colab Notebooks/cidl\n",
            "/content\n"
          ],
          "name": "stdout"
        }
      ]
    },
    {
      "cell_type": "code",
      "metadata": {
        "id": "GsJPM8GZT7Ky"
      },
      "source": [
        "imagesTrainPub, labelsTrainPub, imagesTestPub, labelsTestPub, imagesTestPriv = load_data(projectPath + dataPath)\n",
        "\n",
        "imagesTrainPub = scaleData(imagesTrainPub)\n",
        "imagesTestPub = scaleData(imagesTestPub)"
      ],
      "execution_count": null,
      "outputs": []
    },
    {
      "cell_type": "markdown",
      "metadata": {
        "id": "2IpbduewM6RC"
      },
      "source": [
        "## Histogram of global trainingset classes"
      ]
    },
    {
      "cell_type": "code",
      "metadata": {
        "colab": {
          "base_uri": "https://localhost:8080/",
          "height": 283
        },
        "id": "btA0NOm4VteY",
        "outputId": "2bafddf3-dc60-4690-c7ba-ad99af2ec655"
      },
      "source": [
        "# visualize training-set\n",
        "plt.hist(labelsTrainPub, bins=np.arange(labelsTrainPub.min()-0.25, labelsTrainPub.max()+1), width=0.5)\n",
        "plt.show()\n",
        "\n",
        "collections.Counter(labelsTrainPub)"
      ],
      "execution_count": null,
      "outputs": [
        {
          "output_type": "display_data",
          "data": {
            "image/png": "[encoded data removed]",
            "text/plain": [
              "<Figure size 432x288 with 1 Axes>"
            ]
          },
          "metadata": {
            "tags": [],
            "needs_background": "light"
          }
        },
        {
          "output_type": "execute_result",
          "data": {
            "text/plain": [
              "Counter({0: 2676, 1: 620, 2: 598, 3: 948, 4: 510})"
            ]
          },
          "metadata": {
            "tags": []
          },
          "execution_count": 29
        }
      ]
    },
    {
      "cell_type": "markdown",
      "metadata": {
        "id": "WXUdf7XcNMUU"
      },
      "source": [
        "## Histogram of global testset classes"
      ]
    },
    {
      "cell_type": "code",
      "metadata": {
        "colab": {
          "base_uri": "https://localhost:8080/",
          "height": 286
        },
        "id": "tJASKbK8XlTK",
        "outputId": "52be0756-2fc2-4f6f-bc16-c0e799739023"
      },
      "source": [
        "# visualize test-set\n",
        "plt.hist(labelsTestPub, bins=np.arange(labelsTestPub.min()-0.25, labelsTestPub.max()+1), width=0.5)\n",
        "plt.show()\n",
        "\n",
        "collections.Counter(labelsTestPub)"
      ],
      "execution_count": null,
      "outputs": [
        {
          "output_type": "display_data",
          "data": {
            "image/png": "[encoded data removed]",
            "text/plain": [
              "<Figure size 432x288 with 1 Axes>"
            ]
          },
          "metadata": {
            "tags": [],
            "needs_background": "light"
          }
        },
        {
          "output_type": "execute_result",
          "data": {
            "text/plain": [
              "Counter({0: 336, 1: 113, 2: 66, 3: 106, 4: 51})"
            ]
          },
          "metadata": {
            "tags": []
          },
          "execution_count": 30
        }
      ]
    },
    {
      "cell_type": "markdown",
      "metadata": {
        "id": "538ZVBiMNXop"
      },
      "source": [
        "## Histogram of trainingset classes used on task 2.1 and task 3.1"
      ]
    },
    {
      "cell_type": "code",
      "metadata": {
        "colab": {
          "base_uri": "https://localhost:8080/",
          "height": 283
        },
        "id": "aUq8XiBgKvcv",
        "outputId": "514ceefd-7f57-40ef-84e6-874cbd4ea84e"
      },
      "source": [
        "# 0 -> mass\r\n",
        "# 1 -> calcification\r\n",
        "\r\n",
        "# prepare trainig-set\r\n",
        "trainingSet = []\r\n",
        "trainingLabels = []\r\n",
        "\r\n",
        "for i in range(len(labelsTrainPub)):\r\n",
        "  if labelsTrainPub[i] == 1 or labelsTrainPub[i] == 2:\r\n",
        "    trainingSet.append(imagesTrainPub[i])\r\n",
        "    trainingLabels.append(0)\r\n",
        "  if labelsTrainPub[i] == 3 or labelsTrainPub[i] == 4:\r\n",
        "    trainingSet.append(imagesTrainPub[i])\r\n",
        "    trainingLabels.append(1)\r\n",
        "\r\n",
        "trainingSet = np.array(trainingSet)\r\n",
        "trainingSet = trainingSet.reshape(2676, 150, 150, 1)\r\n",
        "trainingLabels = np.array(trainingLabels)\r\n",
        "\r\n",
        "plt.hist(trainingLabels, bins=np.arange(trainingLabels.min()-0.25, trainingLabels.max()+1), width=0.5)\r\n",
        "plt.xticks(np.arange(trainingLabels.min(), trainingLabels.max()+1, 1.0))\r\n",
        "plt.show()\r\n",
        "collections.Counter(trainingLabels)\r\n"
      ],
      "execution_count": null,
      "outputs": [
        {
          "output_type": "display_data",
          "data": {
            "image/png": "[encoded data removed]",
            "text/plain": [
              "<Figure size 432x288 with 1 Axes>"
            ]
          },
          "metadata": {
            "tags": [],
            "needs_background": "light"
          }
        },
        {
          "output_type": "execute_result",
          "data": {
            "text/plain": [
              "Counter({0: 1218, 1: 1458})"
            ]
          },
          "metadata": {
            "tags": []
          },
          "execution_count": 31
        }
      ]
    },
    {
      "cell_type": "markdown",
      "metadata": {
        "id": "IxhQsdhUOVdn"
      },
      "source": [
        "## Histogram of trainingset classes used on task 2.2 and task 3.2"
      ]
    },
    {
      "cell_type": "code",
      "metadata": {
        "colab": {
          "base_uri": "https://localhost:8080/",
          "height": 283
        },
        "id": "aM77xMJZOMPW",
        "outputId": "887367ab-e146-4130-8f08-cf69c209d6b1"
      },
      "source": [
        "# 0 -> benign\r\n",
        "# 1 -> malignant\r\n",
        "\r\n",
        "# prepare trainig-set\r\n",
        "trainingSet = []\r\n",
        "trainingLabels = []\r\n",
        "\r\n",
        "for i in range(len(labelsTrainPub)):\r\n",
        "  if labelsTrainPub[i] == 1 or labelsTrainPub[i] == 3:\r\n",
        "    trainingSet.append(imagesTrainPub[i])\r\n",
        "    trainingLabels.append(0)\r\n",
        "  if labelsTrainPub[i] == 2 or labelsTrainPub[i] == 4:\r\n",
        "    trainingSet.append(imagesTrainPub[i])\r\n",
        "    trainingLabels.append(1)\r\n",
        "\r\n",
        "trainingSet = np.array(trainingSet)\r\n",
        "trainingSet = trainingSet.reshape(2676, 150, 150, 1)\r\n",
        "trainingLabels = np.array(trainingLabels)\r\n",
        "\r\n",
        "plt.hist(trainingLabels, bins=np.arange(trainingLabels.min()-0.25, trainingLabels.max()+1), width=0.5)\r\n",
        "plt.xticks(np.arange(trainingLabels.min(), trainingLabels.max()+1, 1.0))\r\n",
        "plt.show()\r\n",
        "collections.Counter(trainingLabels)"
      ],
      "execution_count": null,
      "outputs": [
        {
          "output_type": "display_data",
          "data": {
            "image/png": "[encoded data removed]",
            "text/plain": [
              "<Figure size 432x288 with 1 Axes>"
            ]
          },
          "metadata": {
            "tags": [],
            "needs_background": "light"
          }
        },
        {
          "output_type": "execute_result",
          "data": {
            "text/plain": [
              "Counter({0: 1568, 1: 1108})"
            ]
          },
          "metadata": {
            "tags": []
          },
          "execution_count": 32
        }
      ]
    }
  ]
}