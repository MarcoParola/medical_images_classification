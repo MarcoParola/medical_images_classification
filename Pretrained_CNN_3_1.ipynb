{
  "nbformat": 4,
  "nbformat_minor": 0,
  "metadata": {
    "colab": {
      "name": "Pretrained_CNN_3_1.ipynb",
      "provenance": [],
      "collapsed_sections": [],
      "include_colab_link": true
    },
    "kernelspec": {
      "display_name": "Python 3",
      "name": "python3"
    },
    "accelerator": "GPU"
  },
  "cells": [
    {
      "cell_type": "markdown",
      "metadata": {
        "id": "view-in-github",
        "colab_type": "text"
      },
      "source": [
        "<a href=\"https://colab.research.google.com/github/MarcoParola/medical_images_classification/blob/main/Pretrained_CNN_3_1.ipynb\" target=\"_parent\"><img src=\"https://colab.research.google.com/assets/colab-badge.svg\" alt=\"Open In Colab\"/></a>"
      ]
    },
    {
      "cell_type": "code",
      "metadata": {
        "colab": {
          "base_uri": "https://localhost:8080/"
        },
        "id": "FrELb75I-GgU",
        "outputId": "b3ec732b-5fee-4e55-ebbb-a0516caeaf48"
      },
      "source": [
        "pip install ipynb"
      ],
      "execution_count": null,
      "outputs": [
        {
          "output_type": "stream",
          "text": [
            "Collecting ipynb\n",
            "  Downloading https://files.pythonhosted.org/packages/31/42/4c0bbb66390e3a68e04ebf134c8d074a00c18b5882293f8ace5f7497fbf0/ipynb-0.5.1-py3-none-any.whl\n",
            "Installing collected packages: ipynb\n",
            "Successfully installed ipynb-0.5.1\n"
          ],
          "name": "stdout"
        }
      ]
    },
    {
      "cell_type": "code",
      "metadata": {
        "colab": {
          "base_uri": "https://localhost:8080/"
        },
        "id": "Nil8Sk6GLpCT",
        "outputId": "b1c9bb04-1e09-4561-d81e-4c45c9d44045"
      },
      "source": [
        "from google.colab import drive\n",
        "drive.mount('/content/drive/')"
      ],
      "execution_count": null,
      "outputs": [
        {
          "output_type": "stream",
          "text": [
            "Mounted at /content/drive/\n"
          ],
          "name": "stdout"
        }
      ]
    },
    {
      "cell_type": "code",
      "metadata": {
        "id": "JAEeH9W1YKE9"
      },
      "source": [
        "import os\n",
        "import numpy as np\n",
        "import matplotlib.pyplot as plt\n",
        "import collections \n",
        "from tensorflow.keras import models\n",
        "from tensorflow.keras import layers\n",
        "from tensorflow.keras.utils import to_categorical\n",
        "import tensorflow as tf\n",
        "from tensorflow.keras import optimizers"
      ],
      "execution_count": null,
      "outputs": []
    },
    {
      "cell_type": "code",
      "metadata": {
        "id": "VDK5pOvDYNhX"
      },
      "source": [
        "projectPath = 'drive/MyDrive/Colab Notebooks/cidl/'\n",
        "dataPath = 'numpy data/'"
      ],
      "execution_count": null,
      "outputs": []
    },
    {
      "cell_type": "code",
      "metadata": {
        "colab": {
          "base_uri": "https://localhost:8080/"
        },
        "id": "Apt19-tmGb-N",
        "outputId": "3c2c4899-a3f9-426c-fef9-4c67c19b309d"
      },
      "source": [
        "%cd $projectPath\n",
        "%run utils.ipynb\n",
        "%cd '../../../..'"
      ],
      "execution_count": null,
      "outputs": [
        {
          "output_type": "stream",
          "text": [
            "/content/drive/.shortcut-targets-by-id/1H_qsSPBi-K_nGcMzSsNcwFkqtAHG8iYD/cidl\n",
            "/content\n"
          ],
          "name": "stdout"
        }
      ]
    },
    {
      "cell_type": "code",
      "metadata": {
        "id": "GsJPM8GZT7Ky"
      },
      "source": [
        "# load data\n",
        "imagesTrainPub, labelsTrainPub, imagesTestPub, labelsTestPub, imagesTestPriv = load_data(projectPath + dataPath)\n",
        "\n",
        "# normalize data \n",
        "imagesTrainPub = scaleData(imagesTrainPub)\n",
        "imagesTestPub = scaleData(imagesTestPub)"
      ],
      "execution_count": null,
      "outputs": []
    },
    {
      "cell_type": "code",
      "metadata": {
        "id": "7FyKbOx0RvZS"
      },
      "source": [
        "# create (if not exists) the folder to store the models\n",
        "dir_name = 'models'\n",
        "if not os.path.exists(projectPath + dir_name):\n",
        "  os.makedirs(projectPath + dir_name)"
      ],
      "execution_count": null,
      "outputs": []
    },
    {
      "cell_type": "markdown",
      "metadata": {
        "id": "FHzqUFKiiNgc"
      },
      "source": [
        "# **Task 3**\n",
        "\n",
        "## 3.1 Binary calssification: Mass and Calcification\n",
        "Classes:\n",
        "*   Mass 1218\n",
        "*   Calcification 1458"
      ]
    },
    {
      "cell_type": "code",
      "metadata": {
        "id": "IhAtXIf3e19R",
        "colab": {
          "base_uri": "https://localhost:8080/"
        },
        "outputId": "90a9c0af-2d1c-44e3-a935-a6c45d5ec0c9"
      },
      "source": [
        "# 0 -> mass\n",
        "# 1 -> calcification\n",
        "\n",
        "# prepare trainig-set\n",
        "trainingSet = []\n",
        "trainingLabels = []\n",
        "\n",
        "for i in range(len(labelsTrainPub)):\n",
        "  if labelsTrainPub[i] == 1 or labelsTrainPub[i] == 2:\n",
        "    trainingSet.append(imagesTrainPub[i])\n",
        "    trainingLabels.append(0)\n",
        "  if labelsTrainPub[i] == 3 or labelsTrainPub[i] == 4:\n",
        "    trainingSet.append(imagesTrainPub[i])\n",
        "    trainingLabels.append(1)\n",
        "\n",
        "trainingSet = np.array(trainingSet)\n",
        "trainingSet = trainingSet.reshape(2676, 150, 150, 1)\n",
        "\n",
        "training = []\n",
        "for i in range(len(trainingSet)):\n",
        "  training.append((trainingSet[i], trainingLabels[i]))\n",
        "\n",
        "training = np.array(training)\n",
        "np.random.shuffle(training)\n",
        "\n",
        "\n",
        "trainingSet = []\n",
        "trainingLabels = []\n",
        "\n",
        "for i in range(len(training)):\n",
        "  trainingSet.append(training[i][0])\n",
        "  trainingLabels.append(training[i][1])\n",
        "\n",
        "trainingSet = np.array(trainingSet)\n",
        "trainingLabels = np.array(trainingLabels)\n",
        "\n",
        "# prepare test-set\n",
        "testSet = []\n",
        "testLabels = []\n",
        "\n",
        "for i in range(len(labelsTestPub)):\n",
        "  if labelsTestPub[i] == 1 or labelsTestPub[i] == 2:\n",
        "    testSet.append(imagesTestPub[i])\n",
        "    testLabels.append(0)\n",
        "  if labelsTestPub[i] == 3 or labelsTestPub[i] == 4:\n",
        "    testSet.append(imagesTestPub[i])\n",
        "    testLabels.append(1)\n",
        "\n",
        "testSet = np.array(testSet)\n",
        "testSet = testSet.reshape(336, 150, 150, 1)\n",
        "\n",
        "# the output must have a categorigal values\n",
        "testLabelsCategorical = to_categorical(np.array(testLabels))\n",
        "trainingLabelsCategorical = to_categorical(np.array(trainingLabels))"
      ],
      "execution_count": null,
      "outputs": [
        {
          "output_type": "stream",
          "text": [
            "/usr/local/lib/python3.6/dist-packages/ipykernel_launcher.py:23: VisibleDeprecationWarning: Creating an ndarray from ragged nested sequences (which is a list-or-tuple of lists-or-tuples-or ndarrays with different lengths or shapes) is deprecated. If you meant to do this, you must specify 'dtype=object' when creating the ndarray\n"
          ],
          "name": "stderr"
        }
      ]
    },
    {
      "cell_type": "markdown",
      "metadata": {
        "id": "WG3Q0r9oFa7q"
      },
      "source": [
        "# **Augment Data**"
      ]
    },
    {
      "cell_type": "code",
      "metadata": {
        "id": "fgIE0UCpHuYK",
        "colab": {
          "base_uri": "https://localhost:8080/"
        },
        "outputId": "c727e5f7-40c6-41dc-ad57-22bf44104dc5"
      },
      "source": [
        "from tensorflow.keras.preprocessing.image import ImageDataGenerator\n",
        "\n",
        "BATCH_SIZE = 64\n",
        "dataGenerator = ImageDataGenerator(\n",
        "      rotation_range=45,\n",
        "      width_shift_range=0.15,\n",
        "      height_shift_range=0.15,\n",
        "      shear_range=20,\n",
        "      zoom_range=0.15,\n",
        "      horizontal_flip=True,\n",
        "      fill_mode='reflect')\n",
        "\n",
        "\n",
        "augmentedData = []\n",
        "augmentedLabels = []\n",
        "\n",
        "for j in range(0,len(trainingSet)):\n",
        "  for i in range(0,4):\n",
        "    dataGenerated = dataGenerator.flow(trainingSet[j].reshape(1,150,150,1), batch_size=4)\n",
        "    augmentedData.append(dataGenerated[0].reshape(150, 150))\n",
        "    augmentedLabels.append(trainingLabels[j])\n",
        "    del dataGenerated\n",
        "\n",
        "augmentedLabels = to_categorical((np.array(augmentedLabels)))\n",
        "\n",
        "augmentedData = np.array(augmentedData)\n",
        "augmentedData = augmentedData.reshape(len(augmentedData), 150, 150, 1)\n",
        "print(augmentedData.shape, augmentedLabels.shape)"
      ],
      "execution_count": null,
      "outputs": [
        {
          "output_type": "stream",
          "text": [
            "(10704, 150, 150, 1) (10704, 2)\n"
          ],
          "name": "stdout"
        }
      ]
    },
    {
      "cell_type": "markdown",
      "metadata": {
        "id": "XpXk7OQCOjSc"
      },
      "source": [
        "# **VGG16**\r\n",
        "We test VGG16 neural network trained on imagenet dataset, freezing different convolutional layer belonging to different blocks and appending different fully connected neural networks as classifier."
      ]
    },
    {
      "cell_type": "code",
      "metadata": {
        "colab": {
          "base_uri": "https://localhost:8080/",
          "height": 1000
        },
        "id": "irLpfR9v5uxZ",
        "outputId": "be1c0429-a81b-4fad-8490-19ec7ba962f4"
      },
      "source": [
        "from tensorflow.keras.applications import VGG16\r\n",
        "\r\n",
        "#import pretrained model\r\n",
        "conv_base = VGG16(weights='imagenet',\r\n",
        "                  include_top=False,\r\n",
        "                  input_shape=(150, 150, 3))\r\n",
        "\r\n",
        "conv_base.summary()\r\n",
        "\r\n",
        "\r\n",
        "# add fully connected layers as classifier\r\n",
        "model = models.Sequential()\r\n",
        "model.add(conv_base)\r\n",
        "model.add(layers.Flatten())\r\n",
        "model.add(layers.Dense(256, activation='relu'))\r\n",
        "model.add(layers.Dense(256, activation='relu'))\r\n",
        "model.add(layers.Dense(2, activation='sigmoid'))\r\n",
        "\r\n",
        "# Freeze layers\r\n",
        "conv_base.trainable = True\r\n",
        "set_trainable = False\r\n",
        "\r\n",
        "for layer in conv_base.layers:\r\n",
        "    if layer.name == 'block5_conv1':\r\n",
        "        set_trainable = True\r\n",
        "    if set_trainable:\r\n",
        "        layer.trainable = True\r\n",
        "    else:\r\n",
        "        layer.trainable = False\r\n",
        "\r\n",
        "# trick to use the pretrained network on gray scale immages\r\n",
        "trainingSet = np.repeat(trainingSet,3, axis = 3)\r\n",
        "testSet = np.repeat(testSet,3, axis = 3)\r\n",
        "\r\n",
        "model.compile(loss='binary_crossentropy',\r\n",
        "              optimizer=optimizers.RMSprop(lr=2e-5),\r\n",
        "              metrics=['accuracy'])\r\n",
        "\r\n",
        "earlyStopCallback = tf.keras.callbacks.EarlyStopping(monitor='val_loss', mode='min', verbose=1, patience=10)\r\n",
        "\r\n",
        "history = model.fit(trainingSet, trainingLabelsCategorical, epochs=100, callbacks=[earlyStopCallback], batch_size=32, validation_split=0.2)\r\n",
        "\r\n",
        "\r\n",
        "test_loss, test_acc = model.evaluate(testSet, testLabelsCategorical)\r\n",
        "print(test_loss, test_acc)\r\n",
        "plot_accurancy_loss(history)\r\n",
        "plot_confusionMatrix(model, testSet, testLabels)"
      ],
      "execution_count": null,
      "outputs": [
        {
          "output_type": "stream",
          "text": [
            "Downloading data from https://storage.googleapis.com/tensorflow/keras-applications/vgg16/vgg16_weights_tf_dim_ordering_tf_kernels_notop.h5\n",
            "58892288/58889256 [==============================] - 1s 0us/step\n",
            "Model: \"vgg16\"\n",
            "_________________________________________________________________\n",
            "Layer (type)                 Output Shape              Param #   \n",
            "=================================================================\n",
            "input_1 (InputLayer)         [(None, 150, 150, 3)]     0         \n",
            "_________________________________________________________________\n",
            "block1_conv1 (Conv2D)        (None, 150, 150, 64)      1792      \n",
            "_________________________________________________________________\n",
            "block1_conv2 (Conv2D)        (None, 150, 150, 64)      36928     \n",
            "_________________________________________________________________\n",
            "block1_pool (MaxPooling2D)   (None, 75, 75, 64)        0         \n",
            "_________________________________________________________________\n",
            "block2_conv1 (Conv2D)        (None, 75, 75, 128)       73856     \n",
            "_________________________________________________________________\n",
            "block2_conv2 (Conv2D)        (None, 75, 75, 128)       147584    \n",
            "_________________________________________________________________\n",
            "block2_pool (MaxPooling2D)   (None, 37, 37, 128)       0         \n",
            "_________________________________________________________________\n",
            "block3_conv1 (Conv2D)        (None, 37, 37, 256)       295168    \n",
            "_________________________________________________________________\n",
            "block3_conv2 (Conv2D)        (None, 37, 37, 256)       590080    \n",
            "_________________________________________________________________\n",
            "block3_conv3 (Conv2D)        (None, 37, 37, 256)       590080    \n",
            "_________________________________________________________________\n",
            "block3_pool (MaxPooling2D)   (None, 18, 18, 256)       0         \n",
            "_________________________________________________________________\n",
            "block4_conv1 (Conv2D)        (None, 18, 18, 512)       1180160   \n",
            "_________________________________________________________________\n",
            "block4_conv2 (Conv2D)        (None, 18, 18, 512)       2359808   \n",
            "_________________________________________________________________\n",
            "block4_conv3 (Conv2D)        (None, 18, 18, 512)       2359808   \n",
            "_________________________________________________________________\n",
            "block4_pool (MaxPooling2D)   (None, 9, 9, 512)         0         \n",
            "_________________________________________________________________\n",
            "block5_conv1 (Conv2D)        (None, 9, 9, 512)         2359808   \n",
            "_________________________________________________________________\n",
            "block5_conv2 (Conv2D)        (None, 9, 9, 512)         2359808   \n",
            "_________________________________________________________________\n",
            "block5_conv3 (Conv2D)        (None, 9, 9, 512)         2359808   \n",
            "_________________________________________________________________\n",
            "block5_pool (MaxPooling2D)   (None, 4, 4, 512)         0         \n",
            "=================================================================\n",
            "Total params: 14,714,688\n",
            "Trainable params: 14,714,688\n",
            "Non-trainable params: 0\n",
            "_________________________________________________________________\n",
            "Epoch 1/100\n",
            "67/67 [==============================] - 16s 119ms/step - loss: 0.6222 - accuracy: 0.6487 - val_loss: 0.4924 - val_accuracy: 0.7705\n",
            "Epoch 2/100\n",
            "67/67 [==============================] - 6s 92ms/step - loss: 0.4352 - accuracy: 0.7878 - val_loss: 0.4109 - val_accuracy: 0.7910\n",
            "Epoch 3/100\n",
            "67/67 [==============================] - 6s 93ms/step - loss: 0.3498 - accuracy: 0.8533 - val_loss: 0.3320 - val_accuracy: 0.8563\n",
            "Epoch 4/100\n",
            "67/67 [==============================] - 6s 93ms/step - loss: 0.3301 - accuracy: 0.8617 - val_loss: 0.3185 - val_accuracy: 0.8675\n",
            "Epoch 5/100\n",
            "67/67 [==============================] - 6s 95ms/step - loss: 0.3072 - accuracy: 0.8740 - val_loss: 0.3106 - val_accuracy: 0.8806\n",
            "Epoch 6/100\n",
            "67/67 [==============================] - 6s 94ms/step - loss: 0.2785 - accuracy: 0.8901 - val_loss: 0.2953 - val_accuracy: 0.8787\n",
            "Epoch 7/100\n",
            "67/67 [==============================] - 6s 94ms/step - loss: 0.2410 - accuracy: 0.9022 - val_loss: 0.4420 - val_accuracy: 0.8022\n",
            "Epoch 8/100\n",
            "67/67 [==============================] - 6s 94ms/step - loss: 0.2516 - accuracy: 0.8912 - val_loss: 0.2857 - val_accuracy: 0.8881\n",
            "Epoch 9/100\n",
            "67/67 [==============================] - 6s 94ms/step - loss: 0.2251 - accuracy: 0.9061 - val_loss: 0.3292 - val_accuracy: 0.8787\n",
            "Epoch 10/100\n",
            "67/67 [==============================] - 6s 94ms/step - loss: 0.2225 - accuracy: 0.9121 - val_loss: 0.4474 - val_accuracy: 0.8153\n",
            "Epoch 11/100\n",
            "67/67 [==============================] - 6s 95ms/step - loss: 0.2249 - accuracy: 0.9076 - val_loss: 0.3481 - val_accuracy: 0.8843\n",
            "Epoch 12/100\n",
            "67/67 [==============================] - 6s 95ms/step - loss: 0.2285 - accuracy: 0.9119 - val_loss: 0.2860 - val_accuracy: 0.9049\n",
            "Epoch 13/100\n",
            "67/67 [==============================] - 6s 95ms/step - loss: 0.2054 - accuracy: 0.9209 - val_loss: 0.4361 - val_accuracy: 0.8246\n",
            "Epoch 14/100\n",
            "67/67 [==============================] - 6s 95ms/step - loss: 0.1989 - accuracy: 0.9184 - val_loss: 0.3388 - val_accuracy: 0.8955\n",
            "Epoch 15/100\n",
            "67/67 [==============================] - 6s 95ms/step - loss: 0.1750 - accuracy: 0.9293 - val_loss: 0.3175 - val_accuracy: 0.8918\n",
            "Epoch 16/100\n",
            "67/67 [==============================] - 6s 96ms/step - loss: 0.1701 - accuracy: 0.9330 - val_loss: 0.3194 - val_accuracy: 0.8955\n",
            "Epoch 17/100\n",
            "67/67 [==============================] - 6s 96ms/step - loss: 0.1637 - accuracy: 0.9328 - val_loss: 0.3088 - val_accuracy: 0.8974\n",
            "Epoch 18/100\n",
            "67/67 [==============================] - 6s 96ms/step - loss: 0.1577 - accuracy: 0.9390 - val_loss: 0.3364 - val_accuracy: 0.8899\n",
            "Epoch 00018: early stopping\n",
            "11/11 [==============================] - 1s 110ms/step - loss: 0.3788 - accuracy: 0.8810\n",
            "0.3788183927536011 0.8809523582458496\n"
          ],
          "name": "stdout"
        },
        {
          "output_type": "display_data",
          "data": {
            "image/png": "[encoded data removed]",
            "text/plain": [
              "<Figure size 432x288 with 1 Axes>"
            ]
          },
          "metadata": {
            "tags": [],
            "needs_background": "light"
          }
        },
        {
          "output_type": "display_data",
          "data": {
            "image/png": "[encoded data removed]",
            "text/plain": [
              "<Figure size 432x288 with 1 Axes>"
            ]
          },
          "metadata": {
            "tags": [],
            "needs_background": "light"
          }
        },
        {
          "output_type": "stream",
          "text": [
            "/usr/local/lib/python3.6/dist-packages/tensorflow/python/keras/engine/sequential.py:450: UserWarning: `model.predict_classes()` is deprecated and will be removed after 2021-01-01. Please use instead:* `np.argmax(model.predict(x), axis=-1)`,   if your model does multi-class classification   (e.g. if it uses a `softmax` last-layer activation).* `(model.predict(x) > 0.5).astype(\"int32\")`,   if your model does binary classification   (e.g. if it uses a `sigmoid` last-layer activation).\n",
            "  warnings.warn('`model.predict_classes()` is deprecated and '\n"
          ],
          "name": "stderr"
        },
        {
          "output_type": "display_data",
          "data": {
            "image/png": "[encoded data removed]",
            "text/plain": [
              "<Figure size 432x288 with 2 Axes>"
            ]
          },
          "metadata": {
            "tags": [],
            "needs_background": "light"
          }
        }
      ]
    },
    {
      "cell_type": "code",
      "metadata": {
        "id": "pG5y0l_bEL_Y"
      },
      "source": [
        ""
      ],
      "execution_count": null,
      "outputs": []
    },
    {
      "cell_type": "markdown",
      "metadata": {
        "id": "K70MKG6CPRed"
      },
      "source": [
        "# **ResNet50**\r\n",
        "\r\n",
        "We test ResNet50 neural network trained on imagenet dataset, freezing different convolutional layer belonging to different blocks and appending different fully connected neural networks as classifier."
      ]
    },
    {
      "cell_type": "code",
      "metadata": {
        "id": "sZwzB_5iIhcw",
        "colab": {
          "base_uri": "https://localhost:8080/",
          "height": 1000
        },
        "outputId": "84747b20-168d-4af7-f13f-a78b6e1bae8d"
      },
      "source": [
        "from tensorflow.keras.applications import ResNet50\n",
        "\n",
        "# trick to riproduce 3 layer\n",
        "img_input = tf.keras.layers.Input(shape=(150, 150, 1))\n",
        "img_conc = tf.keras.layers.Concatenate()([img_input, img_input, img_input])    \n",
        "\n",
        "# pre-trained network\n",
        "conv_base = ResNet50(weights='imagenet',\n",
        "                  include_top=False,\n",
        "                  input_shape=(150, 150, 3))\n",
        "\n",
        "# classifier\n",
        "model = models.Sequential()\n",
        "model.add(conv_base)\n",
        "model.add(layers.Flatten())\n",
        "model.add(layers.Dense(256, activation='relu'))\n",
        "model.add(layers.Dense(2, activation='sigmoid'))\n",
        "\n",
        "conv_base.trainable = True\n",
        "\n",
        "set_trainable = False\n",
        "for layer in conv_base.layers:\n",
        "    if layer.name == 'block5_conv1':\n",
        "        set_trainable = True\n",
        "    if set_trainable:\n",
        "        layer.trainable = True\n",
        "    else:\n",
        "        layer.trainable = False\n",
        "\n",
        "        model.compile(loss='binary_crossentropy',\n",
        "              optimizer=optimizers.RMSprop(lr=2e-5),\n",
        "              metrics=['accuracy'])\n",
        "\n",
        "earlyStopCallback = tf.keras.callbacks.EarlyStopping(monitor='val_loss', mode='min', verbose=1, patience=10)\n",
        "\n",
        "model.fit(trainingSet, trainingLabelsCategorical, epochs=100, callbacks=[earlyStopCallback], batch_size=32, validation_split=0.2)\n",
        "\n",
        "test_loss, test_acc = model.evaluate(testSet, testLabelsCategorical)\n",
        "print(test_loss, test_acc)\n",
        "plot_accurancy_loss(history)\n",
        "plot_confusionMatrix(model, testSet, testLabels)"
      ],
      "execution_count": null,
      "outputs": [
        {
          "output_type": "stream",
          "text": [
            "Downloading data from https://storage.googleapis.com/tensorflow/keras-applications/resnet/resnet50_weights_tf_dim_ordering_tf_kernels_notop.h5\n",
            "94773248/94765736 [==============================] - 1s 0us/step\n",
            "Epoch 1/100\n",
            "67/67 [==============================] - 9s 90ms/step - loss: 0.7128 - accuracy: 0.5235 - val_loss: 0.7086 - val_accuracy: 0.4422\n",
            "Epoch 2/100\n",
            "67/67 [==============================] - 5s 69ms/step - loss: 0.7062 - accuracy: 0.5067 - val_loss: 0.7228 - val_accuracy: 0.4422\n",
            "Epoch 3/100\n",
            "67/67 [==============================] - 5s 68ms/step - loss: 0.6976 - accuracy: 0.5069 - val_loss: 0.6856 - val_accuracy: 0.5578\n",
            "Epoch 4/100\n",
            "67/67 [==============================] - 5s 69ms/step - loss: 0.6872 - accuracy: 0.5626 - val_loss: 0.7148 - val_accuracy: 0.4422\n",
            "Epoch 5/100\n",
            "67/67 [==============================] - 5s 69ms/step - loss: 0.6980 - accuracy: 0.5323 - val_loss: 0.6821 - val_accuracy: 0.5578\n",
            "Epoch 6/100\n",
            "67/67 [==============================] - 5s 69ms/step - loss: 0.6919 - accuracy: 0.5455 - val_loss: 0.7018 - val_accuracy: 0.5578\n",
            "Epoch 7/100\n",
            "67/67 [==============================] - 5s 69ms/step - loss: 0.6920 - accuracy: 0.5422 - val_loss: 0.6816 - val_accuracy: 0.5578\n",
            "Epoch 8/100\n",
            "67/67 [==============================] - 5s 70ms/step - loss: 0.6876 - accuracy: 0.5654 - val_loss: 0.6832 - val_accuracy: 0.7276\n",
            "Epoch 9/100\n",
            "67/67 [==============================] - 5s 70ms/step - loss: 0.6914 - accuracy: 0.5485 - val_loss: 0.6797 - val_accuracy: 0.5616\n",
            "Epoch 10/100\n",
            "67/67 [==============================] - 5s 69ms/step - loss: 0.6887 - accuracy: 0.5412 - val_loss: 0.6867 - val_accuracy: 0.5261\n",
            "Epoch 11/100\n",
            "67/67 [==============================] - 5s 69ms/step - loss: 0.6875 - accuracy: 0.5341 - val_loss: 0.6745 - val_accuracy: 0.5578\n",
            "Epoch 12/100\n",
            "67/67 [==============================] - 5s 69ms/step - loss: 0.6860 - accuracy: 0.5550 - val_loss: 0.6855 - val_accuracy: 0.5578\n",
            "Epoch 13/100\n",
            "67/67 [==============================] - 5s 70ms/step - loss: 0.6828 - accuracy: 0.5472 - val_loss: 0.7068 - val_accuracy: 0.5578\n",
            "Epoch 14/100\n",
            "67/67 [==============================] - 5s 70ms/step - loss: 0.6876 - accuracy: 0.5572 - val_loss: 0.6836 - val_accuracy: 0.5560\n",
            "Epoch 15/100\n",
            "67/67 [==============================] - 5s 70ms/step - loss: 0.6821 - accuracy: 0.5551 - val_loss: 0.6751 - val_accuracy: 0.5578\n",
            "Epoch 16/100\n",
            "67/67 [==============================] - 5s 70ms/step - loss: 0.6835 - accuracy: 0.5572 - val_loss: 0.6705 - val_accuracy: 0.5578\n",
            "Epoch 17/100\n",
            "67/67 [==============================] - 5s 70ms/step - loss: 0.6795 - accuracy: 0.5742 - val_loss: 0.6712 - val_accuracy: 0.5578\n",
            "Epoch 18/100\n",
            "67/67 [==============================] - 5s 70ms/step - loss: 0.6830 - accuracy: 0.5386 - val_loss: 0.7633 - val_accuracy: 0.4403\n",
            "Epoch 19/100\n",
            "67/67 [==============================] - 5s 70ms/step - loss: 0.6794 - accuracy: 0.5460 - val_loss: 0.6695 - val_accuracy: 0.5578\n",
            "Epoch 20/100\n",
            "67/67 [==============================] - 5s 70ms/step - loss: 0.6789 - accuracy: 0.5495 - val_loss: 0.6720 - val_accuracy: 0.5578\n",
            "Epoch 21/100\n",
            "67/67 [==============================] - 5s 70ms/step - loss: 0.6828 - accuracy: 0.5336 - val_loss: 0.6784 - val_accuracy: 0.5634\n",
            "Epoch 22/100\n",
            "67/67 [==============================] - 5s 70ms/step - loss: 0.6818 - accuracy: 0.5668 - val_loss: 0.7100 - val_accuracy: 0.4646\n",
            "Epoch 23/100\n",
            "67/67 [==============================] - 5s 70ms/step - loss: 0.6826 - accuracy: 0.5762 - val_loss: 0.6663 - val_accuracy: 0.7481\n",
            "Epoch 24/100\n",
            "67/67 [==============================] - 5s 70ms/step - loss: 0.6825 - accuracy: 0.5669 - val_loss: 0.6659 - val_accuracy: 0.7276\n",
            "Epoch 25/100\n",
            "67/67 [==============================] - 5s 70ms/step - loss: 0.6768 - accuracy: 0.5770 - val_loss: 0.6659 - val_accuracy: 0.7295\n",
            "Epoch 26/100\n",
            "67/67 [==============================] - 5s 70ms/step - loss: 0.6718 - accuracy: 0.5980 - val_loss: 0.6615 - val_accuracy: 0.5578\n",
            "Epoch 27/100\n",
            "67/67 [==============================] - 5s 72ms/step - loss: 0.6782 - accuracy: 0.5675 - val_loss: 0.6597 - val_accuracy: 0.5578\n",
            "Epoch 28/100\n",
            "67/67 [==============================] - 5s 70ms/step - loss: 0.6717 - accuracy: 0.5948 - val_loss: 0.7370 - val_accuracy: 0.4534\n",
            "Epoch 29/100\n",
            "67/67 [==============================] - 5s 70ms/step - loss: 0.6742 - accuracy: 0.5514 - val_loss: 0.6684 - val_accuracy: 0.6437\n",
            "Epoch 30/100\n",
            "67/67 [==============================] - 5s 70ms/step - loss: 0.6735 - accuracy: 0.5763 - val_loss: 0.6590 - val_accuracy: 0.5578\n",
            "Epoch 31/100\n",
            "67/67 [==============================] - 5s 70ms/step - loss: 0.6702 - accuracy: 0.5779 - val_loss: 0.6571 - val_accuracy: 0.5896\n",
            "Epoch 32/100\n",
            "67/67 [==============================] - 5s 70ms/step - loss: 0.6683 - accuracy: 0.5861 - val_loss: 0.6555 - val_accuracy: 0.5578\n",
            "Epoch 33/100\n",
            "67/67 [==============================] - 5s 71ms/step - loss: 0.6736 - accuracy: 0.5581 - val_loss: 0.6546 - val_accuracy: 0.5578\n",
            "Epoch 34/100\n",
            "67/67 [==============================] - 5s 71ms/step - loss: 0.6713 - accuracy: 0.5673 - val_loss: 0.6748 - val_accuracy: 0.5578\n",
            "Epoch 35/100\n",
            "67/67 [==============================] - 5s 70ms/step - loss: 0.6702 - accuracy: 0.5799 - val_loss: 0.6578 - val_accuracy: 0.7090\n",
            "Epoch 36/100\n",
            "67/67 [==============================] - 5s 70ms/step - loss: 0.6674 - accuracy: 0.5678 - val_loss: 0.6622 - val_accuracy: 0.6455\n",
            "Epoch 37/100\n",
            "67/67 [==============================] - 5s 70ms/step - loss: 0.6617 - accuracy: 0.5846 - val_loss: 0.6509 - val_accuracy: 0.5578\n",
            "Epoch 38/100\n",
            "67/67 [==============================] - 5s 70ms/step - loss: 0.6589 - accuracy: 0.5943 - val_loss: 0.6503 - val_accuracy: 0.6194\n",
            "Epoch 39/100\n",
            "67/67 [==============================] - 5s 70ms/step - loss: 0.6688 - accuracy: 0.5606 - val_loss: 0.6532 - val_accuracy: 0.7146\n",
            "Epoch 40/100\n",
            "67/67 [==============================] - 5s 70ms/step - loss: 0.6637 - accuracy: 0.6138 - val_loss: 0.6533 - val_accuracy: 0.7127\n",
            "Epoch 41/100\n",
            "67/67 [==============================] - 5s 70ms/step - loss: 0.6641 - accuracy: 0.5933 - val_loss: 0.6475 - val_accuracy: 0.5802\n",
            "Epoch 42/100\n",
            "67/67 [==============================] - 5s 70ms/step - loss: 0.6618 - accuracy: 0.5744 - val_loss: 0.6602 - val_accuracy: 0.5578\n",
            "Epoch 43/100\n",
            "67/67 [==============================] - 5s 70ms/step - loss: 0.6654 - accuracy: 0.5648 - val_loss: 0.6462 - val_accuracy: 0.6567\n",
            "Epoch 44/100\n",
            "67/67 [==============================] - 5s 71ms/step - loss: 0.6542 - accuracy: 0.6157 - val_loss: 0.6464 - val_accuracy: 0.5578\n",
            "Epoch 45/100\n",
            "67/67 [==============================] - 5s 71ms/step - loss: 0.6628 - accuracy: 0.5759 - val_loss: 0.6478 - val_accuracy: 0.7295\n",
            "Epoch 46/100\n",
            "67/67 [==============================] - 5s 71ms/step - loss: 0.6548 - accuracy: 0.6270 - val_loss: 0.6436 - val_accuracy: 0.5653\n",
            "Epoch 47/100\n",
            "67/67 [==============================] - 5s 70ms/step - loss: 0.6638 - accuracy: 0.5901 - val_loss: 0.6448 - val_accuracy: 0.7481\n",
            "Epoch 48/100\n",
            "67/67 [==============================] - 5s 70ms/step - loss: 0.6569 - accuracy: 0.6092 - val_loss: 0.6455 - val_accuracy: 0.7425\n",
            "Epoch 49/100\n",
            "67/67 [==============================] - 5s 71ms/step - loss: 0.6563 - accuracy: 0.6039 - val_loss: 0.6412 - val_accuracy: 0.6231\n",
            "Epoch 50/100\n",
            "67/67 [==============================] - 5s 71ms/step - loss: 0.6575 - accuracy: 0.5957 - val_loss: 0.6453 - val_accuracy: 0.7164\n",
            "Epoch 51/100\n",
            "67/67 [==============================] - 5s 71ms/step - loss: 0.6616 - accuracy: 0.5833 - val_loss: 0.6413 - val_accuracy: 0.7034\n",
            "Epoch 52/100\n",
            "67/67 [==============================] - 5s 71ms/step - loss: 0.6534 - accuracy: 0.5946 - val_loss: 0.6393 - val_accuracy: 0.5951\n",
            "Epoch 53/100\n",
            "67/67 [==============================] - 5s 71ms/step - loss: 0.6550 - accuracy: 0.6111 - val_loss: 0.6388 - val_accuracy: 0.6604\n",
            "Epoch 54/100\n",
            "67/67 [==============================] - 5s 71ms/step - loss: 0.6512 - accuracy: 0.6163 - val_loss: 0.6700 - val_accuracy: 0.5448\n",
            "Epoch 55/100\n",
            "67/67 [==============================] - 5s 71ms/step - loss: 0.6474 - accuracy: 0.6078 - val_loss: 0.6402 - val_accuracy: 0.7313\n",
            "Epoch 56/100\n",
            "67/67 [==============================] - 5s 70ms/step - loss: 0.6539 - accuracy: 0.6247 - val_loss: 0.6364 - val_accuracy: 0.7090\n",
            "Epoch 57/100\n",
            "67/67 [==============================] - 5s 71ms/step - loss: 0.6523 - accuracy: 0.6031 - val_loss: 0.6500 - val_accuracy: 0.6381\n",
            "Epoch 58/100\n",
            "67/67 [==============================] - 5s 71ms/step - loss: 0.6476 - accuracy: 0.5940 - val_loss: 0.6495 - val_accuracy: 0.5578\n",
            "Epoch 59/100\n",
            "67/67 [==============================] - 5s 71ms/step - loss: 0.6478 - accuracy: 0.6061 - val_loss: 0.6388 - val_accuracy: 0.5578\n",
            "Epoch 60/100\n",
            "67/67 [==============================] - 5s 70ms/step - loss: 0.6427 - accuracy: 0.6166 - val_loss: 0.6784 - val_accuracy: 0.5578\n",
            "Epoch 61/100\n",
            "67/67 [==============================] - 5s 70ms/step - loss: 0.6592 - accuracy: 0.5992 - val_loss: 0.6451 - val_accuracy: 0.6530\n",
            "Epoch 62/100\n",
            "67/67 [==============================] - 5s 70ms/step - loss: 0.6473 - accuracy: 0.6443 - val_loss: 0.6322 - val_accuracy: 0.6978\n",
            "Epoch 63/100\n",
            "67/67 [==============================] - 5s 71ms/step - loss: 0.6480 - accuracy: 0.6152 - val_loss: 0.6597 - val_accuracy: 0.5784\n",
            "Epoch 64/100\n",
            "67/67 [==============================] - 5s 71ms/step - loss: 0.6409 - accuracy: 0.6346 - val_loss: 0.6370 - val_accuracy: 0.7108\n",
            "Epoch 65/100\n",
            "67/67 [==============================] - 5s 71ms/step - loss: 0.6474 - accuracy: 0.6183 - val_loss: 0.6356 - val_accuracy: 0.5578\n",
            "Epoch 66/100\n",
            "67/67 [==============================] - 5s 71ms/step - loss: 0.6350 - accuracy: 0.6593 - val_loss: 0.6291 - val_accuracy: 0.6642\n",
            "Epoch 67/100\n",
            "67/67 [==============================] - 5s 71ms/step - loss: 0.6373 - accuracy: 0.6265 - val_loss: 0.6607 - val_accuracy: 0.5578\n",
            "Epoch 68/100\n",
            "67/67 [==============================] - 5s 71ms/step - loss: 0.6510 - accuracy: 0.6201 - val_loss: 0.6369 - val_accuracy: 0.5578\n",
            "Epoch 69/100\n",
            "67/67 [==============================] - 5s 71ms/step - loss: 0.6365 - accuracy: 0.6340 - val_loss: 0.6301 - val_accuracy: 0.5653\n",
            "Epoch 70/100\n",
            "67/67 [==============================] - 5s 71ms/step - loss: 0.6436 - accuracy: 0.6112 - val_loss: 0.6311 - val_accuracy: 0.5634\n",
            "Epoch 71/100\n",
            "67/67 [==============================] - 5s 71ms/step - loss: 0.6370 - accuracy: 0.6418 - val_loss: 0.6393 - val_accuracy: 0.6586\n",
            "Epoch 72/100\n",
            "67/67 [==============================] - 5s 71ms/step - loss: 0.6400 - accuracy: 0.6068 - val_loss: 0.6256 - val_accuracy: 0.7612\n",
            "Epoch 73/100\n",
            "67/67 [==============================] - 5s 71ms/step - loss: 0.6346 - accuracy: 0.6218 - val_loss: 0.6265 - val_accuracy: 0.7388\n",
            "Epoch 74/100\n",
            "67/67 [==============================] - 5s 72ms/step - loss: 0.6394 - accuracy: 0.6099 - val_loss: 0.6273 - val_accuracy: 0.5709\n",
            "Epoch 75/100\n",
            "67/67 [==============================] - 5s 72ms/step - loss: 0.6351 - accuracy: 0.6432 - val_loss: 0.6566 - val_accuracy: 0.5746\n",
            "Epoch 76/100\n",
            "67/67 [==============================] - 5s 71ms/step - loss: 0.6359 - accuracy: 0.6286 - val_loss: 0.6356 - val_accuracy: 0.6586\n",
            "Epoch 77/100\n",
            "67/67 [==============================] - 5s 71ms/step - loss: 0.6335 - accuracy: 0.6289 - val_loss: 0.6461 - val_accuracy: 0.6063\n",
            "Epoch 78/100\n",
            "67/67 [==============================] - 5s 71ms/step - loss: 0.6348 - accuracy: 0.6270 - val_loss: 0.6261 - val_accuracy: 0.5690\n",
            "Epoch 79/100\n",
            "67/67 [==============================] - 5s 71ms/step - loss: 0.6255 - accuracy: 0.6609 - val_loss: 0.6364 - val_accuracy: 0.6493\n",
            "Epoch 80/100\n",
            "67/67 [==============================] - 5s 71ms/step - loss: 0.6401 - accuracy: 0.6342 - val_loss: 0.6196 - val_accuracy: 0.6791\n",
            "Epoch 81/100\n",
            "67/67 [==============================] - 5s 71ms/step - loss: 0.6351 - accuracy: 0.6439 - val_loss: 0.6450 - val_accuracy: 0.5578\n",
            "Epoch 82/100\n",
            "67/67 [==============================] - 5s 71ms/step - loss: 0.6342 - accuracy: 0.6312 - val_loss: 0.6393 - val_accuracy: 0.6362\n",
            "Epoch 83/100\n",
            "67/67 [==============================] - 5s 73ms/step - loss: 0.6277 - accuracy: 0.6477 - val_loss: 0.6613 - val_accuracy: 0.5578\n",
            "Epoch 84/100\n",
            "67/67 [==============================] - 5s 71ms/step - loss: 0.6234 - accuracy: 0.6530 - val_loss: 0.6173 - val_accuracy: 0.6586\n",
            "Epoch 85/100\n",
            "67/67 [==============================] - 5s 71ms/step - loss: 0.6262 - accuracy: 0.6619 - val_loss: 0.6318 - val_accuracy: 0.5578\n",
            "Epoch 86/100\n",
            "67/67 [==============================] - 5s 71ms/step - loss: 0.6275 - accuracy: 0.6457 - val_loss: 0.6164 - val_accuracy: 0.6381\n",
            "Epoch 87/100\n",
            "67/67 [==============================] - 5s 71ms/step - loss: 0.6212 - accuracy: 0.6742 - val_loss: 0.6579 - val_accuracy: 0.5690\n",
            "Epoch 88/100\n",
            "67/67 [==============================] - 5s 71ms/step - loss: 0.6230 - accuracy: 0.6709 - val_loss: 0.6227 - val_accuracy: 0.5653\n",
            "Epoch 89/100\n",
            "67/67 [==============================] - 5s 71ms/step - loss: 0.6229 - accuracy: 0.6374 - val_loss: 0.6147 - val_accuracy: 0.7612\n",
            "Epoch 90/100\n",
            "67/67 [==============================] - 5s 71ms/step - loss: 0.6253 - accuracy: 0.6796 - val_loss: 0.6131 - val_accuracy: 0.6922\n",
            "Epoch 91/100\n",
            "67/67 [==============================] - 5s 72ms/step - loss: 0.6228 - accuracy: 0.6626 - val_loss: 0.6494 - val_accuracy: 0.5578\n",
            "Epoch 92/100\n",
            "67/67 [==============================] - 5s 72ms/step - loss: 0.6219 - accuracy: 0.6447 - val_loss: 0.6232 - val_accuracy: 0.6828\n",
            "Epoch 93/100\n",
            "67/67 [==============================] - 5s 71ms/step - loss: 0.6296 - accuracy: 0.6554 - val_loss: 0.6137 - val_accuracy: 0.7332\n",
            "Epoch 94/100\n",
            "67/67 [==============================] - 5s 71ms/step - loss: 0.6187 - accuracy: 0.6550 - val_loss: 0.6345 - val_accuracy: 0.6325\n",
            "Epoch 95/100\n",
            "67/67 [==============================] - 5s 70ms/step - loss: 0.6148 - accuracy: 0.6657 - val_loss: 0.6239 - val_accuracy: 0.5616\n",
            "Epoch 96/100\n",
            "67/67 [==============================] - 5s 71ms/step - loss: 0.6204 - accuracy: 0.6492 - val_loss: 0.6108 - val_accuracy: 0.7407\n",
            "Epoch 97/100\n",
            "67/67 [==============================] - 5s 71ms/step - loss: 0.6140 - accuracy: 0.6765 - val_loss: 0.6225 - val_accuracy: 0.5653\n",
            "Epoch 98/100\n",
            "67/67 [==============================] - 5s 71ms/step - loss: 0.6343 - accuracy: 0.6194 - val_loss: 0.6173 - val_accuracy: 0.5709\n",
            "Epoch 99/100\n",
            "67/67 [==============================] - 5s 71ms/step - loss: 0.6260 - accuracy: 0.6579 - val_loss: 0.6080 - val_accuracy: 0.6866\n",
            "Epoch 100/100\n",
            "67/67 [==============================] - 5s 71ms/step - loss: 0.6177 - accuracy: 0.6900 - val_loss: 0.6081 - val_accuracy: 0.6455\n",
            "11/11 [==============================] - 1s 73ms/step - loss: 0.6355 - accuracy: 0.6012\n",
            "0.635532557964325 0.601190447807312\n"
          ],
          "name": "stdout"
        },
        {
          "output_type": "display_data",
          "data": {
            "image/png": "[encoded data removed]",
            "text/plain": [
              "<Figure size 432x288 with 1 Axes>"
            ]
          },
          "metadata": {
            "tags": [],
            "needs_background": "light"
          }
        },
        {
          "output_type": "display_data",
          "data": {
            "image/png": "[encoded data removed]",
            "text/plain": [
              "<Figure size 432x288 with 1 Axes>"
            ]
          },
          "metadata": {
            "tags": [],
            "needs_background": "light"
          }
        },
        {
          "output_type": "stream",
          "text": [
            "/usr/local/lib/python3.6/dist-packages/tensorflow/python/keras/engine/sequential.py:450: UserWarning: `model.predict_classes()` is deprecated and will be removed after 2021-01-01. Please use instead:* `np.argmax(model.predict(x), axis=-1)`,   if your model does multi-class classification   (e.g. if it uses a `softmax` last-layer activation).* `(model.predict(x) > 0.5).astype(\"int32\")`,   if your model does binary classification   (e.g. if it uses a `sigmoid` last-layer activation).\n",
            "  warnings.warn('`model.predict_classes()` is deprecated and '\n"
          ],
          "name": "stderr"
        },
        {
          "output_type": "display_data",
          "data": {
            "image/png": "[encoded data removed]",
            "text/plain": [
              "<Figure size 432x288 with 2 Axes>"
            ]
          },
          "metadata": {
            "tags": [],
            "needs_background": "light"
          }
        }
      ]
    }
  ]
}