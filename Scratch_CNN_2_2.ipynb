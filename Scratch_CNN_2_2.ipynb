{
  "nbformat": 4,
  "nbformat_minor": 0,
  "metadata": {
    "accelerator": "GPU",
    "colab": {
      "name": "Scratch_CNN_2_2.ipynb",
      "provenance": [],
      "collapsed_sections": [],
      "include_colab_link": true
    },
    "kernelspec": {
      "display_name": "Python 3",
      "name": "python3"
    }
  },
  "cells": [
    {
      "cell_type": "markdown",
      "metadata": {
        "id": "view-in-github",
        "colab_type": "text"
      },
      "source": [
        "<a href=\"https://colab.research.google.com/github/MarcoParola/medical_images_classification/blob/main/Scratch_CNN_2_2.ipynb\" target=\"_parent\"><img src=\"https://colab.research.google.com/assets/colab-badge.svg\" alt=\"Open In Colab\"/></a>"
      ]
    },
    {
      "cell_type": "code",
      "metadata": {
        "colab": {
          "base_uri": "https://localhost:8080/"
        },
        "id": "FrELb75I-GgU",
        "outputId": "32ea722b-4ef2-44f1-baee-3f618518925e"
      },
      "source": [
        "pip install ipynb"
      ],
      "execution_count": null,
      "outputs": [
        {
          "output_type": "stream",
          "text": [
            "Collecting ipynb\n",
            "  Downloading https://files.pythonhosted.org/packages/31/42/4c0bbb66390e3a68e04ebf134c8d074a00c18b5882293f8ace5f7497fbf0/ipynb-0.5.1-py3-none-any.whl\n",
            "Installing collected packages: ipynb\n",
            "Successfully installed ipynb-0.5.1\n"
          ],
          "name": "stdout"
        }
      ]
    },
    {
      "cell_type": "code",
      "metadata": {
        "colab": {
          "base_uri": "https://localhost:8080/"
        },
        "id": "Nil8Sk6GLpCT",
        "outputId": "d7e84b46-2594-4840-9849-c95543566fef"
      },
      "source": [
        "from google.colab import drive\n",
        "drive.mount('/content/drive/')"
      ],
      "execution_count": null,
      "outputs": [
        {
          "output_type": "stream",
          "text": [
            "Mounted at /content/drive/\n"
          ],
          "name": "stdout"
        }
      ]
    },
    {
      "cell_type": "code",
      "metadata": {
        "id": "JAEeH9W1YKE9"
      },
      "source": [
        "import os\n",
        "import numpy as np\n",
        "import matplotlib.pyplot as plt\n",
        "import collections \n",
        "from tensorflow.keras.utils import to_categorical\n",
        "import tensorflow as tf\n",
        "from tensorflow.keras import layers\n",
        "from tensorflow.keras import models\n",
        "from keras import optimizers\n",
        "from tensorflow.keras.preprocessing.image import ImageDataGenerator\n",
        "from tensorflow.keras.preprocessing import image\n",
        "from sklearn import metrics"
      ],
      "execution_count": null,
      "outputs": []
    },
    {
      "cell_type": "code",
      "metadata": {
        "id": "purqe3QeZ9-G"
      },
      "source": [
        "tf.random.set_seed(7)"
      ],
      "execution_count": null,
      "outputs": []
    },
    {
      "cell_type": "code",
      "metadata": {
        "id": "VDK5pOvDYNhX"
      },
      "source": [
        "projectPath = 'drive/MyDrive/Colab Notebooks/cidl/'\n",
        "dataPath = 'numpy data/'"
      ],
      "execution_count": null,
      "outputs": []
    },
    {
      "cell_type": "code",
      "metadata": {
        "colab": {
          "base_uri": "https://localhost:8080/"
        },
        "id": "Apt19-tmGb-N",
        "outputId": "6ffcf0eb-7569-41ff-f188-f434135b6b36"
      },
      "source": [
        "%cd $projectPath\n",
        "%run utils.ipynb\n",
        "%cd '../../../..'"
      ],
      "execution_count": null,
      "outputs": [
        {
          "output_type": "stream",
          "text": [
            "/content/drive/MyDrive/Colab Notebooks/cidl\n",
            "/content\n"
          ],
          "name": "stdout"
        }
      ]
    },
    {
      "cell_type": "code",
      "metadata": {
        "id": "GsJPM8GZT7Ky"
      },
      "source": [
        "# load data\n",
        "imagesTrainPub, labelsTrainPub, imagesTestPub, labelsTestPub, imagesTestPriv = load_data(projectPath + dataPath)\n",
        "\n",
        "# normalize data \n",
        "imagesTrainPub = scaleData(imagesTrainPub)\n",
        "imagesTestPub = scaleData(imagesTestPub)"
      ],
      "execution_count": null,
      "outputs": []
    },
    {
      "cell_type": "code",
      "metadata": {
        "id": "7FyKbOx0RvZS"
      },
      "source": [
        "# create (if not exists) the folder to store the models\n",
        "dir_name = 'models/task2_2/'\n",
        "if not os.path.exists(projectPath + dir_name):\n",
        "  os.makedirs(projectPath + dir_name)"
      ],
      "execution_count": null,
      "outputs": []
    },
    {
      "cell_type": "markdown",
      "metadata": {
        "id": "FHzqUFKiiNgc"
      },
      "source": [
        "# **Task 2**\n",
        "\n",
        "## 2.2 Binary calssification: Benign and Malignant\n",
        "Classes:\n",
        "*   Benign 1568\n",
        "*   Malignant 1108"
      ]
    },
    {
      "cell_type": "code",
      "metadata": {
        "id": "IhAtXIf3e19R",
        "colab": {
          "base_uri": "https://localhost:8080/"
        },
        "outputId": "fb9fbd7a-5a56-42a8-f464-d21fd7eb1630"
      },
      "source": [
        "# 0 -> benign\n",
        "# 1 -> malignant\n",
        "\n",
        "# prepare trainig-set\n",
        "trainingSet = []\n",
        "trainingLabels = []\n",
        "benignNum = 0\n",
        "malignantNum = 0\n",
        "\n",
        "trainingSet = []\n",
        "trainingLabels = []\n",
        "benignNum = 0\n",
        "malignantNum = 0\n",
        "for i in range(len(labelsTrainPub)):\n",
        "  if labelsTrainPub[i] == 1 or labelsTrainPub[i] == 3:\n",
        "    trainingSet.append(imagesTrainPub[i])\n",
        "    trainingLabels.append(0)\n",
        "    benignNum = benignNum + 1\n",
        "  if labelsTrainPub[i] == 2 or labelsTrainPub[i] == 4:\n",
        "    trainingSet.append(imagesTrainPub[i])\n",
        "    trainingLabels.append(1)\n",
        "    malignantNum = malignantNum + 1\n",
        "\n",
        "trainingSet = np.array(trainingSet)\n",
        "trainingSet = trainingSet.reshape(2676, 150, 150, 1)\n",
        "\n",
        "training = []\n",
        "for i in range(len(trainingSet)):\n",
        "  training.append((trainingSet[i], trainingLabels[i]))\n",
        "\n",
        "training = np.array(training)\n",
        "np.random.seed(3)\n",
        "np.random.shuffle(training)\n",
        "\n",
        "\n",
        "trainingSet = []\n",
        "trainingLabels = []\n",
        "\n",
        "for i in range(len(training)):\n",
        "  trainingSet.append(training[i][0])\n",
        "  trainingLabels.append(training[i][1])\n",
        "\n",
        "trainingSet = np.array(trainingSet)\n",
        "trainingLabels = np.array(trainingLabels)\n",
        "\n",
        "# prepare test-set\n",
        "testSet = []\n",
        "testLabels = []\n",
        "\n",
        "for i in range(len(labelsTestPub)):\n",
        "  if labelsTestPub[i] == 1 or labelsTestPub[i] == 3:\n",
        "    testSet.append(imagesTestPub[i])\n",
        "    testLabels.append(0)\n",
        "  if labelsTestPub[i] == 2 or labelsTestPub[i] == 4:\n",
        "    testSet.append(imagesTestPub[i])\n",
        "    testLabels.append(1)\n",
        "\n",
        "testSet = np.array(testSet)\n",
        "testSet = testSet.reshape(336, 150, 150, 1)\n",
        "\n",
        "# the output must have a categorigal values\n",
        "testLabelsCategorical = to_categorical(np.array(testLabels))\n",
        "trainingLabelsCategorical = to_categorical(np.array(trainingLabels))"
      ],
      "execution_count": null,
      "outputs": [
        {
          "output_type": "stream",
          "text": [
            "/usr/local/lib/python3.6/dist-packages/ipykernel_launcher.py:31: VisibleDeprecationWarning: Creating an ndarray from ragged nested sequences (which is a list-or-tuple of lists-or-tuples-or ndarrays with different lengths or shapes) is deprecated. If you meant to do this, you must specify 'dtype=object' when creating the ndarray\n"
          ],
          "name": "stderr"
        }
      ]
    },
    {
      "cell_type": "markdown",
      "metadata": {
        "id": "wvEdfVmR1G_C"
      },
      "source": [
        "# **Compute data augmentation using ImageDataGenerator**"
      ]
    },
    {
      "cell_type": "code",
      "metadata": {
        "id": "xFgPZ3dWYsNt",
        "colab": {
          "base_uri": "https://localhost:8080/"
        },
        "outputId": "2dcf075b-8d2e-49b0-d965-456945625d4f"
      },
      "source": [
        "from tensorflow.keras.preprocessing.image import ImageDataGenerator\r\n",
        "\r\n",
        "BATCH_SIZE = 64\r\n",
        "dataGenerator = ImageDataGenerator(\r\n",
        "      rotation_range=45,\r\n",
        "      width_shift_range=0.15,\r\n",
        "      height_shift_range=0.15,\r\n",
        "      shear_range=20,\r\n",
        "      zoom_range=0.15,\r\n",
        "      horizontal_flip=True,\r\n",
        "      fill_mode='reflect')\r\n",
        "\r\n",
        "\r\n",
        "augmentedData = []\r\n",
        "augmentedLabels = []\r\n",
        "\r\n",
        "for j in range(0,len(trainingSet)):\r\n",
        "  for i in range(0,4):\r\n",
        "    dataGenerated = dataGenerator.flow(trainingSet[j].reshape(1,150,150,1), batch_size=4)\r\n",
        "    augmentedData.append(dataGenerated[0].reshape(150, 150))\r\n",
        "    augmentedLabels.append(trainingLabels[j])\r\n",
        "    del dataGenerated\r\n",
        "\r\n",
        "augmentedLabels = to_categorical((np.array(augmentedLabels)))\r\n",
        "\r\n",
        "augmentedData = np.array(augmentedData)\r\n",
        "augmentedData = augmentedData.reshape(len(augmentedData), 150, 150, 1)\r\n",
        "print(augmentedData.shape, augmentedLabels.shape)\r\n",
        "\r\n"
      ],
      "execution_count": null,
      "outputs": [
        {
          "output_type": "stream",
          "text": [
            "(10704, 150, 150, 1) (10704, 2)\n"
          ],
          "name": "stdout"
        }
      ]
    },
    {
      "cell_type": "markdown",
      "metadata": {
        "id": "cFVj7d6pSA-V"
      },
      "source": [
        "# **Simple network, data augmented**\r\n",
        "\r\n",
        "*   Rmsp (rate = 1e-4)\r\n",
        "*   Dense hidden layer: 1\r\n",
        "*   sigmoid\r\n",
        "\r\n"
      ]
    },
    {
      "cell_type": "code",
      "metadata": {
        "id": "-HxtQSsdSEhC",
        "colab": {
          "base_uri": "https://localhost:8080/",
          "height": 1000
        },
        "outputId": "b17cb694-892d-4639-94a9-01abf6cab7af"
      },
      "source": [
        "tf.random.set_seed(7)\r\n",
        "modelP = models.Sequential()\r\n",
        "modelP.add(layers.Conv2D(32, (3, 3), activation='relu', input_shape=(150, 150, 1), padding='same'))\r\n",
        "modelP.add(layers.MaxPooling2D((2, 2)))\r\n",
        "modelP.add(layers.Conv2D(64, (3, 3), activation='relu', padding='same'))\r\n",
        "modelP.add(layers.MaxPooling2D((2, 2)))\r\n",
        "modelP.add(layers.Conv2D(64, (3, 3), activation='relu', padding='same'))\r\n",
        "modelP.add(layers.MaxPooling2D((2, 2)))\r\n",
        "modelP.add(layers.Conv2D(128, (3, 3), activation='relu', padding='same'))\r\n",
        "modelP.add(layers.MaxPooling2D((2, 2)))\r\n",
        "\r\n",
        "modelP.add(layers.Flatten())\r\n",
        "\r\n",
        "modelP.add(layers.Dense(256, activation='relu'))\r\n",
        "modelP.add(layers.Dropout(rate=.5))\r\n",
        "modelP.add(layers.Dense(2, activation='sigmoid'))\r\n",
        "\r\n",
        "modelP.summary()\r\n",
        "\r\n",
        "#optimizers.RMSprop(lr=1e-4)\r\n",
        "modelP.compile(optimizer= optimizers.RMSprop(lr=1e-4),\r\n",
        "              loss='binary_crossentropy',\r\n",
        "              metrics=['accuracy'])\r\n",
        "\r\n",
        "earlyStopCallback = tf.keras.callbacks.EarlyStopping(monitor='val_loss', mode='min', verbose=1, patience=10, restore_best_weights=True)\r\n",
        "\r\n",
        "history = modelP.fit(augmentedData, augmentedLabels, epochs=100, callbacks=[earlyStopCallback], batch_size=32, validation_split=0.2)\r\n",
        "\r\n",
        "pred = modelP.predict_classes(testSet) \r\n",
        "print(metrics.classification_report(testLabels,pred))\r\n",
        "test_loss, test_acc = modelP.evaluate(testSet, testLabelsCategorical)\r\n",
        "print(test_loss, test_acc)\r\n",
        "plot_accurancy_loss(history)\r\n",
        "plot_confusionMatrix(modelP, testSet, testLabels, ['benign', 'malignant'])"
      ],
      "execution_count": null,
      "outputs": [
        {
          "output_type": "stream",
          "text": [
            "Model: \"sequential\"\n",
            "_________________________________________________________________\n",
            "Layer (type)                 Output Shape              Param #   \n",
            "=================================================================\n",
            "conv2d (Conv2D)              (None, 150, 150, 32)      320       \n",
            "_________________________________________________________________\n",
            "max_pooling2d (MaxPooling2D) (None, 75, 75, 32)        0         \n",
            "_________________________________________________________________\n",
            "conv2d_1 (Conv2D)            (None, 75, 75, 64)        18496     \n",
            "_________________________________________________________________\n",
            "max_pooling2d_1 (MaxPooling2 (None, 37, 37, 64)        0         \n",
            "_________________________________________________________________\n",
            "conv2d_2 (Conv2D)            (None, 37, 37, 64)        36928     \n",
            "_________________________________________________________________\n",
            "max_pooling2d_2 (MaxPooling2 (None, 18, 18, 64)        0         \n",
            "_________________________________________________________________\n",
            "conv2d_3 (Conv2D)            (None, 18, 18, 128)       73856     \n",
            "_________________________________________________________________\n",
            "max_pooling2d_3 (MaxPooling2 (None, 9, 9, 128)         0         \n",
            "_________________________________________________________________\n",
            "flatten (Flatten)            (None, 10368)             0         \n",
            "_________________________________________________________________\n",
            "dense (Dense)                (None, 256)               2654464   \n",
            "_________________________________________________________________\n",
            "dropout (Dropout)            (None, 256)               0         \n",
            "_________________________________________________________________\n",
            "dense_1 (Dense)              (None, 2)                 514       \n",
            "=================================================================\n",
            "Total params: 2,784,578\n",
            "Trainable params: 2,784,578\n",
            "Non-trainable params: 0\n",
            "_________________________________________________________________\n",
            "Epoch 1/100\n",
            "268/268 [==============================] - 15s 28ms/step - loss: 0.6854 - accuracy: 0.5858 - val_loss: 0.6764 - val_accuracy: 0.5922\n",
            "Epoch 2/100\n",
            "268/268 [==============================] - 7s 26ms/step - loss: 0.6770 - accuracy: 0.5851 - val_loss: 0.6559 - val_accuracy: 0.6511\n",
            "Epoch 3/100\n",
            "268/268 [==============================] - 7s 26ms/step - loss: 0.6700 - accuracy: 0.5825 - val_loss: 0.6354 - val_accuracy: 0.6637\n",
            "Epoch 4/100\n",
            "268/268 [==============================] - 7s 25ms/step - loss: 0.6481 - accuracy: 0.6226 - val_loss: 0.6449 - val_accuracy: 0.6259\n",
            "Epoch 5/100\n",
            "268/268 [==============================] - 7s 26ms/step - loss: 0.6369 - accuracy: 0.6366 - val_loss: 0.6053 - val_accuracy: 0.6642\n",
            "Epoch 6/100\n",
            "268/268 [==============================] - 7s 26ms/step - loss: 0.6433 - accuracy: 0.6219 - val_loss: 0.6131 - val_accuracy: 0.6609\n",
            "Epoch 7/100\n",
            "268/268 [==============================] - 7s 26ms/step - loss: 0.6311 - accuracy: 0.6357 - val_loss: 0.5978 - val_accuracy: 0.6716\n",
            "Epoch 8/100\n",
            "268/268 [==============================] - 7s 26ms/step - loss: 0.6295 - accuracy: 0.6362 - val_loss: 0.5929 - val_accuracy: 0.6609\n",
            "Epoch 9/100\n",
            "268/268 [==============================] - 7s 26ms/step - loss: 0.6233 - accuracy: 0.6223 - val_loss: 0.5858 - val_accuracy: 0.6796\n",
            "Epoch 10/100\n",
            "268/268 [==============================] - 7s 26ms/step - loss: 0.6212 - accuracy: 0.6356 - val_loss: 0.6052 - val_accuracy: 0.6446\n",
            "Epoch 11/100\n",
            "268/268 [==============================] - 7s 26ms/step - loss: 0.6202 - accuracy: 0.6330 - val_loss: 0.5857 - val_accuracy: 0.6880\n",
            "Epoch 12/100\n",
            "268/268 [==============================] - 7s 26ms/step - loss: 0.6169 - accuracy: 0.6385 - val_loss: 0.5772 - val_accuracy: 0.6903\n",
            "Epoch 13/100\n",
            "268/268 [==============================] - 7s 26ms/step - loss: 0.6109 - accuracy: 0.6472 - val_loss: 0.5916 - val_accuracy: 0.6712\n",
            "Epoch 14/100\n",
            "268/268 [==============================] - 7s 26ms/step - loss: 0.6067 - accuracy: 0.6498 - val_loss: 0.5875 - val_accuracy: 0.6684\n",
            "Epoch 15/100\n",
            "268/268 [==============================] - 7s 26ms/step - loss: 0.6028 - accuracy: 0.6452 - val_loss: 0.5813 - val_accuracy: 0.6917\n",
            "Epoch 16/100\n",
            "268/268 [==============================] - 7s 26ms/step - loss: 0.6007 - accuracy: 0.6561 - val_loss: 0.5739 - val_accuracy: 0.7043\n",
            "Epoch 17/100\n",
            "268/268 [==============================] - 7s 26ms/step - loss: 0.6020 - accuracy: 0.6555 - val_loss: 0.5822 - val_accuracy: 0.6707\n",
            "Epoch 18/100\n",
            "268/268 [==============================] - 7s 26ms/step - loss: 0.5972 - accuracy: 0.6565 - val_loss: 0.5945 - val_accuracy: 0.6553\n",
            "Epoch 19/100\n",
            "268/268 [==============================] - 7s 26ms/step - loss: 0.5866 - accuracy: 0.6622 - val_loss: 0.6003 - val_accuracy: 0.6525\n",
            "Epoch 20/100\n",
            "268/268 [==============================] - 7s 26ms/step - loss: 0.5997 - accuracy: 0.6572 - val_loss: 0.5834 - val_accuracy: 0.6707\n",
            "Epoch 21/100\n",
            "268/268 [==============================] - 7s 26ms/step - loss: 0.5849 - accuracy: 0.6712 - val_loss: 0.5634 - val_accuracy: 0.6964\n",
            "Epoch 22/100\n",
            "268/268 [==============================] - 7s 26ms/step - loss: 0.5837 - accuracy: 0.6679 - val_loss: 0.5808 - val_accuracy: 0.6885\n",
            "Epoch 23/100\n",
            "268/268 [==============================] - 7s 26ms/step - loss: 0.5843 - accuracy: 0.6711 - val_loss: 0.5852 - val_accuracy: 0.6847\n",
            "Epoch 24/100\n",
            "268/268 [==============================] - 7s 26ms/step - loss: 0.5818 - accuracy: 0.6783 - val_loss: 0.5662 - val_accuracy: 0.6973\n",
            "Epoch 25/100\n",
            "268/268 [==============================] - 7s 26ms/step - loss: 0.5768 - accuracy: 0.6737 - val_loss: 0.5972 - val_accuracy: 0.6665\n",
            "Epoch 26/100\n",
            "268/268 [==============================] - 7s 26ms/step - loss: 0.5823 - accuracy: 0.6799 - val_loss: 0.5739 - val_accuracy: 0.6927\n",
            "Epoch 27/100\n",
            "268/268 [==============================] - 7s 26ms/step - loss: 0.5728 - accuracy: 0.6761 - val_loss: 0.5720 - val_accuracy: 0.6838\n",
            "Epoch 28/100\n",
            "268/268 [==============================] - 7s 26ms/step - loss: 0.5698 - accuracy: 0.6855 - val_loss: 0.5756 - val_accuracy: 0.6871\n",
            "Epoch 29/100\n",
            "268/268 [==============================] - 7s 26ms/step - loss: 0.5749 - accuracy: 0.6770 - val_loss: 0.5810 - val_accuracy: 0.6702\n",
            "Epoch 30/100\n",
            "268/268 [==============================] - 7s 26ms/step - loss: 0.5688 - accuracy: 0.6848 - val_loss: 0.5618 - val_accuracy: 0.6983\n",
            "Epoch 31/100\n",
            "268/268 [==============================] - 7s 26ms/step - loss: 0.5701 - accuracy: 0.6862 - val_loss: 0.5671 - val_accuracy: 0.7053\n",
            "Epoch 32/100\n",
            "268/268 [==============================] - 7s 26ms/step - loss: 0.5674 - accuracy: 0.6877 - val_loss: 0.5761 - val_accuracy: 0.6931\n",
            "Epoch 33/100\n",
            "268/268 [==============================] - 7s 26ms/step - loss: 0.5652 - accuracy: 0.6839 - val_loss: 0.5720 - val_accuracy: 0.6983\n",
            "Epoch 34/100\n",
            "268/268 [==============================] - 7s 26ms/step - loss: 0.5610 - accuracy: 0.6975 - val_loss: 0.5743 - val_accuracy: 0.7011\n",
            "Epoch 35/100\n",
            "268/268 [==============================] - 7s 26ms/step - loss: 0.5527 - accuracy: 0.6935 - val_loss: 0.6001 - val_accuracy: 0.6548\n",
            "Epoch 36/100\n",
            "268/268 [==============================] - 7s 26ms/step - loss: 0.5603 - accuracy: 0.6932 - val_loss: 0.5795 - val_accuracy: 0.6936\n",
            "Epoch 37/100\n",
            "268/268 [==============================] - 7s 26ms/step - loss: 0.5540 - accuracy: 0.6957 - val_loss: 0.5852 - val_accuracy: 0.6861\n",
            "Epoch 38/100\n",
            "268/268 [==============================] - 7s 26ms/step - loss: 0.5624 - accuracy: 0.6949 - val_loss: 0.5761 - val_accuracy: 0.6987\n",
            "Epoch 39/100\n",
            "268/268 [==============================] - 7s 26ms/step - loss: 0.5430 - accuracy: 0.7090 - val_loss: 0.5813 - val_accuracy: 0.6964\n",
            "Epoch 40/100\n",
            "268/268 [==============================] - 7s 26ms/step - loss: 0.5482 - accuracy: 0.7072 - val_loss: 0.5748 - val_accuracy: 0.7006\n",
            "Restoring model weights from the end of the best epoch.\n",
            "Epoch 00040: early stopping\n"
          ],
          "name": "stdout"
        },
        {
          "output_type": "stream",
          "text": [
            "/usr/local/lib/python3.6/dist-packages/tensorflow/python/keras/engine/sequential.py:450: UserWarning: `model.predict_classes()` is deprecated and will be removed after 2021-01-01. Please use instead:* `np.argmax(model.predict(x), axis=-1)`,   if your model does multi-class classification   (e.g. if it uses a `softmax` last-layer activation).* `(model.predict(x) > 0.5).astype(\"int32\")`,   if your model does binary classification   (e.g. if it uses a `sigmoid` last-layer activation).\n",
            "  warnings.warn('`model.predict_classes()` is deprecated and '\n"
          ],
          "name": "stderr"
        },
        {
          "output_type": "stream",
          "text": [
            "              precision    recall  f1-score   support\n",
            "\n",
            "           0       0.77      0.69      0.73       219\n",
            "           1       0.52      0.62      0.57       117\n",
            "\n",
            "    accuracy                           0.67       336\n",
            "   macro avg       0.65      0.66      0.65       336\n",
            "weighted avg       0.68      0.67      0.67       336\n",
            "\n",
            "11/11 [==============================] - 0s 9ms/step - loss: 0.6258 - accuracy: 0.6667\n",
            "0.6257755160331726 0.6666666865348816\n"
          ],
          "name": "stdout"
        },
        {
          "output_type": "display_data",
          "data": {
            "image/png": "[encoded data removed]",
            "text/plain": [
              "<Figure size 432x288 with 1 Axes>"
            ]
          },
          "metadata": {
            "tags": [],
            "needs_background": "light"
          }
        },
        {
          "output_type": "display_data",
          "data": {
            "image/png": "[encoded data removed]",
            "text/plain": [
              "<Figure size 432x288 with 1 Axes>"
            ]
          },
          "metadata": {
            "tags": [],
            "needs_background": "light"
          }
        },
        {
          "output_type": "stream",
          "text": [
            "[0 1]\n",
            "Normalized confusion matrix\n"
          ],
          "name": "stdout"
        },
        {
          "output_type": "display_data",
          "data": {
            "image/png": "[encoded data removed]",
            "text/plain": [
              "<Figure size 432x288 with 2 Axes>"
            ]
          },
          "metadata": {
            "tags": [],
            "needs_background": "light"
          }
        }
      ]
    },
    {
      "cell_type": "markdown",
      "metadata": {
        "id": "KktDZLN2mwsk"
      },
      "source": [
        "# **Simple network, NO data augmented**\r\n",
        "\r\n",
        "*   Rmsp (rate = 1e-4)\r\n",
        "*   Dense hidden layer: 1\r\n",
        "*   sigmoid"
      ]
    },
    {
      "cell_type": "code",
      "metadata": {
        "id": "LCGE3c5BmwQi",
        "colab": {
          "base_uri": "https://localhost:8080/",
          "height": 1000
        },
        "outputId": "e69f34cd-0776-4adc-f32c-9550e9fcdb3d"
      },
      "source": [
        "tf.random.set_seed(7)\r\n",
        "model8 = models.Sequential()\r\n",
        "model8.add(layers.Conv2D(32, (3, 3), activation='relu', input_shape=(150, 150, 1), padding='same'))\r\n",
        "model8.add(layers.MaxPooling2D((2, 2)))\r\n",
        "model8.add(layers.Conv2D(64, (3, 3), activation='relu', padding='same'))\r\n",
        "model8.add(layers.MaxPooling2D((2, 2)))\r\n",
        "model8.add(layers.Conv2D(64, (3, 3), activation='relu', padding='same'))\r\n",
        "model8.add(layers.MaxPooling2D((2, 2)))\r\n",
        "model8.add(layers.Conv2D(128, (3, 3), activation='relu', padding='same'))\r\n",
        "model8.add(layers.MaxPooling2D((2, 2)))\r\n",
        "\r\n",
        "model8.add(layers.Flatten())\r\n",
        "\r\n",
        "model8.add(layers.Dense(256, activation='relu'))\r\n",
        "model8.add(layers.Dropout(rate=.5))\r\n",
        "model8.add(layers.Dense(2, activation='sigmoid'))\r\n",
        "\r\n",
        "model8.summary()\r\n",
        "\r\n",
        "#optimizers.RMSprop(lr=1e-4)\r\n",
        "model8.compile(optimizer= optimizers.RMSprop(lr=1e-4),\r\n",
        "              loss='binary_crossentropy',\r\n",
        "              metrics=['accuracy'])\r\n",
        "\r\n",
        "earlyStopCallback = tf.keras.callbacks.EarlyStopping(monitor='val_loss', mode='min', verbose=1, patience=10, restore_best_weights=True)\r\n",
        "\r\n",
        "\r\n",
        "history = model8.fit(trainingSet, trainingLabelsCategorical, epochs=100, callbacks=[earlyStopCallback], batch_size=32, validation_split=0.2)\r\n",
        "#history = model8.fit(augmentedData, augmentedLabels, epochs=100, callbacks=[earlyStopCallback], batch_size=32, validation_split=0.2)\r\n",
        "\r\n",
        "pred = model8.predict_classes(testSet) \r\n",
        "print(metrics.classification_report(testLabels,pred))\r\n",
        "test_loss, test_acc = model8.evaluate(testSet, testLabelsCategorical)\r\n",
        "print(test_loss, test_acc)\r\n",
        "plot_accurancy_loss(history)\r\n",
        "plot_confusionMatrix(model8, testSet, testLabels, ['benign', 'malignant'])"
      ],
      "execution_count": null,
      "outputs": [
        {
          "output_type": "stream",
          "text": [
            "Model: \"sequential_1\"\n",
            "_________________________________________________________________\n",
            "Layer (type)                 Output Shape              Param #   \n",
            "=================================================================\n",
            "conv2d_4 (Conv2D)            (None, 150, 150, 32)      320       \n",
            "_________________________________________________________________\n",
            "max_pooling2d_4 (MaxPooling2 (None, 75, 75, 32)        0         \n",
            "_________________________________________________________________\n",
            "conv2d_5 (Conv2D)            (None, 75, 75, 64)        18496     \n",
            "_________________________________________________________________\n",
            "max_pooling2d_5 (MaxPooling2 (None, 37, 37, 64)        0         \n",
            "_________________________________________________________________\n",
            "conv2d_6 (Conv2D)            (None, 37, 37, 64)        36928     \n",
            "_________________________________________________________________\n",
            "max_pooling2d_6 (MaxPooling2 (None, 18, 18, 64)        0         \n",
            "_________________________________________________________________\n",
            "conv2d_7 (Conv2D)            (None, 18, 18, 128)       73856     \n",
            "_________________________________________________________________\n",
            "max_pooling2d_7 (MaxPooling2 (None, 9, 9, 128)         0         \n",
            "_________________________________________________________________\n",
            "flatten_1 (Flatten)          (None, 10368)             0         \n",
            "_________________________________________________________________\n",
            "dense_2 (Dense)              (None, 256)               2654464   \n",
            "_________________________________________________________________\n",
            "dropout_1 (Dropout)          (None, 256)               0         \n",
            "_________________________________________________________________\n",
            "dense_3 (Dense)              (None, 2)                 514       \n",
            "=================================================================\n",
            "Total params: 2,784,578\n",
            "Trainable params: 2,784,578\n",
            "Non-trainable params: 0\n",
            "_________________________________________________________________\n",
            "Epoch 1/100\n",
            "67/67 [==============================] - 3s 35ms/step - loss: 0.6873 - accuracy: 0.5798 - val_loss: 0.6837 - val_accuracy: 0.5914\n",
            "Epoch 2/100\n",
            "67/67 [==============================] - 2s 26ms/step - loss: 0.6845 - accuracy: 0.5883 - val_loss: 0.6812 - val_accuracy: 0.5914\n",
            "Epoch 3/100\n",
            "67/67 [==============================] - 2s 26ms/step - loss: 0.6775 - accuracy: 0.6041 - val_loss: 0.6823 - val_accuracy: 0.5914\n",
            "Epoch 4/100\n",
            "67/67 [==============================] - 2s 27ms/step - loss: 0.6804 - accuracy: 0.5916 - val_loss: 0.6704 - val_accuracy: 0.5914\n",
            "Epoch 5/100\n",
            "67/67 [==============================] - 2s 27ms/step - loss: 0.6768 - accuracy: 0.5829 - val_loss: 0.6749 - val_accuracy: 0.5914\n",
            "Epoch 6/100\n",
            "67/67 [==============================] - 2s 27ms/step - loss: 0.6722 - accuracy: 0.5870 - val_loss: 0.6504 - val_accuracy: 0.6026\n",
            "Epoch 7/100\n",
            "67/67 [==============================] - 2s 26ms/step - loss: 0.6634 - accuracy: 0.6123 - val_loss: 0.6374 - val_accuracy: 0.6511\n",
            "Epoch 8/100\n",
            "67/67 [==============================] - 2s 27ms/step - loss: 0.6517 - accuracy: 0.6207 - val_loss: 0.6223 - val_accuracy: 0.6530\n",
            "Epoch 9/100\n",
            "67/67 [==============================] - 2s 26ms/step - loss: 0.6514 - accuracy: 0.6265 - val_loss: 0.6159 - val_accuracy: 0.6381\n",
            "Epoch 10/100\n",
            "67/67 [==============================] - 2s 27ms/step - loss: 0.6454 - accuracy: 0.6258 - val_loss: 0.6077 - val_accuracy: 0.6754\n",
            "Epoch 11/100\n",
            "67/67 [==============================] - 2s 26ms/step - loss: 0.6444 - accuracy: 0.6206 - val_loss: 0.6174 - val_accuracy: 0.6138\n",
            "Epoch 12/100\n",
            "67/67 [==============================] - 2s 27ms/step - loss: 0.6352 - accuracy: 0.6257 - val_loss: 0.5996 - val_accuracy: 0.6679\n",
            "Epoch 13/100\n",
            "67/67 [==============================] - 2s 27ms/step - loss: 0.6498 - accuracy: 0.6045 - val_loss: 0.5991 - val_accuracy: 0.6959\n",
            "Epoch 14/100\n",
            "67/67 [==============================] - 2s 27ms/step - loss: 0.6363 - accuracy: 0.6316 - val_loss: 0.5889 - val_accuracy: 0.6828\n",
            "Epoch 15/100\n",
            "67/67 [==============================] - 2s 27ms/step - loss: 0.6168 - accuracy: 0.6550 - val_loss: 0.5867 - val_accuracy: 0.6847\n",
            "Epoch 16/100\n",
            "67/67 [==============================] - 2s 26ms/step - loss: 0.6325 - accuracy: 0.6270 - val_loss: 0.6044 - val_accuracy: 0.6269\n",
            "Epoch 17/100\n",
            "67/67 [==============================] - 2s 27ms/step - loss: 0.6288 - accuracy: 0.6283 - val_loss: 0.5830 - val_accuracy: 0.6866\n",
            "Epoch 18/100\n",
            "67/67 [==============================] - 2s 27ms/step - loss: 0.6201 - accuracy: 0.6396 - val_loss: 0.5821 - val_accuracy: 0.6884\n",
            "Epoch 19/100\n",
            "67/67 [==============================] - 2s 27ms/step - loss: 0.6204 - accuracy: 0.6351 - val_loss: 0.5848 - val_accuracy: 0.6847\n",
            "Epoch 20/100\n",
            "67/67 [==============================] - 2s 27ms/step - loss: 0.6170 - accuracy: 0.6426 - val_loss: 0.5969 - val_accuracy: 0.6399\n",
            "Epoch 21/100\n",
            "67/67 [==============================] - 2s 27ms/step - loss: 0.6204 - accuracy: 0.6377 - val_loss: 0.5876 - val_accuracy: 0.6604\n",
            "Epoch 22/100\n",
            "67/67 [==============================] - 2s 27ms/step - loss: 0.6111 - accuracy: 0.6477 - val_loss: 0.5857 - val_accuracy: 0.6735\n",
            "Epoch 23/100\n",
            "67/67 [==============================] - 2s 27ms/step - loss: 0.6091 - accuracy: 0.6399 - val_loss: 0.5797 - val_accuracy: 0.6922\n",
            "Epoch 24/100\n",
            "67/67 [==============================] - 2s 27ms/step - loss: 0.6085 - accuracy: 0.6431 - val_loss: 0.5729 - val_accuracy: 0.6996\n",
            "Epoch 25/100\n",
            "67/67 [==============================] - 2s 27ms/step - loss: 0.6101 - accuracy: 0.6496 - val_loss: 0.5745 - val_accuracy: 0.6978\n",
            "Epoch 26/100\n",
            "67/67 [==============================] - 2s 27ms/step - loss: 0.6110 - accuracy: 0.6241 - val_loss: 0.5698 - val_accuracy: 0.6735\n",
            "Epoch 27/100\n",
            "67/67 [==============================] - 2s 27ms/step - loss: 0.5995 - accuracy: 0.6562 - val_loss: 0.5736 - val_accuracy: 0.6903\n",
            "Epoch 28/100\n",
            "67/67 [==============================] - 2s 27ms/step - loss: 0.6128 - accuracy: 0.6478 - val_loss: 0.5676 - val_accuracy: 0.7015\n",
            "Epoch 29/100\n",
            "67/67 [==============================] - 2s 27ms/step - loss: 0.5975 - accuracy: 0.6571 - val_loss: 0.5746 - val_accuracy: 0.6884\n",
            "Epoch 30/100\n",
            "67/67 [==============================] - 2s 27ms/step - loss: 0.6037 - accuracy: 0.6488 - val_loss: 0.5887 - val_accuracy: 0.6604\n",
            "Epoch 31/100\n",
            "67/67 [==============================] - 2s 26ms/step - loss: 0.6001 - accuracy: 0.6338 - val_loss: 0.5690 - val_accuracy: 0.6978\n",
            "Epoch 32/100\n",
            "67/67 [==============================] - 2s 27ms/step - loss: 0.6023 - accuracy: 0.6388 - val_loss: 0.5666 - val_accuracy: 0.6660\n",
            "Epoch 33/100\n",
            "67/67 [==============================] - 2s 27ms/step - loss: 0.5931 - accuracy: 0.6595 - val_loss: 0.5690 - val_accuracy: 0.6866\n",
            "Epoch 34/100\n",
            "67/67 [==============================] - 2s 27ms/step - loss: 0.5920 - accuracy: 0.6623 - val_loss: 0.5729 - val_accuracy: 0.6735\n",
            "Epoch 35/100\n",
            "67/67 [==============================] - 2s 27ms/step - loss: 0.5970 - accuracy: 0.6416 - val_loss: 0.5691 - val_accuracy: 0.6847\n",
            "Epoch 36/100\n",
            "67/67 [==============================] - 2s 27ms/step - loss: 0.5955 - accuracy: 0.6504 - val_loss: 0.5645 - val_accuracy: 0.6698\n",
            "Epoch 37/100\n",
            "67/67 [==============================] - 2s 27ms/step - loss: 0.5875 - accuracy: 0.6604 - val_loss: 0.5728 - val_accuracy: 0.6884\n",
            "Epoch 38/100\n",
            "67/67 [==============================] - 2s 27ms/step - loss: 0.5880 - accuracy: 0.6617 - val_loss: 0.5724 - val_accuracy: 0.6884\n",
            "Epoch 39/100\n",
            "67/67 [==============================] - 2s 27ms/step - loss: 0.5844 - accuracy: 0.6750 - val_loss: 0.5667 - val_accuracy: 0.6810\n",
            "Epoch 40/100\n",
            "67/67 [==============================] - 2s 27ms/step - loss: 0.5870 - accuracy: 0.6686 - val_loss: 0.5628 - val_accuracy: 0.7034\n",
            "Epoch 41/100\n",
            "67/67 [==============================] - 2s 27ms/step - loss: 0.5629 - accuracy: 0.6910 - val_loss: 0.5726 - val_accuracy: 0.6959\n",
            "Epoch 42/100\n",
            "67/67 [==============================] - 2s 27ms/step - loss: 0.5714 - accuracy: 0.6813 - val_loss: 0.5692 - val_accuracy: 0.6884\n",
            "Epoch 43/100\n",
            "67/67 [==============================] - 2s 27ms/step - loss: 0.5779 - accuracy: 0.6879 - val_loss: 0.5687 - val_accuracy: 0.6959\n",
            "Epoch 44/100\n",
            "67/67 [==============================] - 2s 27ms/step - loss: 0.5543 - accuracy: 0.6921 - val_loss: 0.5604 - val_accuracy: 0.6978\n",
            "Epoch 45/100\n",
            "67/67 [==============================] - 2s 27ms/step - loss: 0.5672 - accuracy: 0.6758 - val_loss: 0.5652 - val_accuracy: 0.7052\n",
            "Epoch 46/100\n",
            "67/67 [==============================] - 2s 27ms/step - loss: 0.5644 - accuracy: 0.6979 - val_loss: 0.5588 - val_accuracy: 0.7146\n",
            "Epoch 47/100\n",
            "67/67 [==============================] - 2s 27ms/step - loss: 0.5478 - accuracy: 0.7081 - val_loss: 0.5606 - val_accuracy: 0.7071\n",
            "Epoch 48/100\n",
            "67/67 [==============================] - 2s 27ms/step - loss: 0.5716 - accuracy: 0.6817 - val_loss: 0.5732 - val_accuracy: 0.6884\n",
            "Epoch 49/100\n",
            "67/67 [==============================] - 2s 27ms/step - loss: 0.5713 - accuracy: 0.6796 - val_loss: 0.5676 - val_accuracy: 0.6884\n",
            "Epoch 50/100\n",
            "67/67 [==============================] - 2s 27ms/step - loss: 0.5558 - accuracy: 0.6954 - val_loss: 0.5786 - val_accuracy: 0.6735\n",
            "Epoch 51/100\n",
            "67/67 [==============================] - 2s 27ms/step - loss: 0.5507 - accuracy: 0.7004 - val_loss: 0.5678 - val_accuracy: 0.6754\n",
            "Epoch 52/100\n",
            "67/67 [==============================] - 2s 28ms/step - loss: 0.5574 - accuracy: 0.6962 - val_loss: 0.5637 - val_accuracy: 0.7090\n",
            "Epoch 53/100\n",
            "67/67 [==============================] - 2s 27ms/step - loss: 0.5567 - accuracy: 0.6988 - val_loss: 0.5592 - val_accuracy: 0.7071\n",
            "Epoch 54/100\n",
            "67/67 [==============================] - 2s 27ms/step - loss: 0.5486 - accuracy: 0.7045 - val_loss: 0.5645 - val_accuracy: 0.7052\n",
            "Epoch 55/100\n",
            "67/67 [==============================] - 2s 27ms/step - loss: 0.5513 - accuracy: 0.6953 - val_loss: 0.5596 - val_accuracy: 0.7071\n",
            "Epoch 56/100\n",
            "67/67 [==============================] - 2s 27ms/step - loss: 0.5267 - accuracy: 0.7314 - val_loss: 0.5548 - val_accuracy: 0.7239\n",
            "Epoch 57/100\n",
            "67/67 [==============================] - 2s 27ms/step - loss: 0.5312 - accuracy: 0.7275 - val_loss: 0.5612 - val_accuracy: 0.7015\n",
            "Epoch 58/100\n",
            "67/67 [==============================] - 2s 27ms/step - loss: 0.5330 - accuracy: 0.7281 - val_loss: 0.5692 - val_accuracy: 0.7052\n",
            "Epoch 59/100\n",
            "67/67 [==============================] - 2s 27ms/step - loss: 0.5315 - accuracy: 0.7225 - val_loss: 0.5737 - val_accuracy: 0.6810\n",
            "Epoch 60/100\n",
            "67/67 [==============================] - 2s 27ms/step - loss: 0.5235 - accuracy: 0.7240 - val_loss: 0.5664 - val_accuracy: 0.7090\n",
            "Epoch 61/100\n",
            "67/67 [==============================] - 2s 27ms/step - loss: 0.5049 - accuracy: 0.7498 - val_loss: 0.5731 - val_accuracy: 0.7108\n",
            "Epoch 62/100\n",
            "67/67 [==============================] - 2s 27ms/step - loss: 0.5115 - accuracy: 0.7194 - val_loss: 0.5654 - val_accuracy: 0.7164\n",
            "Epoch 63/100\n",
            "67/67 [==============================] - 2s 26ms/step - loss: 0.5262 - accuracy: 0.7192 - val_loss: 0.5798 - val_accuracy: 0.6772\n",
            "Epoch 64/100\n",
            "67/67 [==============================] - 2s 26ms/step - loss: 0.5193 - accuracy: 0.7388 - val_loss: 0.5668 - val_accuracy: 0.7201\n",
            "Epoch 65/100\n",
            "67/67 [==============================] - 2s 27ms/step - loss: 0.5046 - accuracy: 0.7430 - val_loss: 0.5855 - val_accuracy: 0.6996\n",
            "Epoch 66/100\n",
            "67/67 [==============================] - 2s 27ms/step - loss: 0.4948 - accuracy: 0.7485 - val_loss: 0.5622 - val_accuracy: 0.7108\n",
            "Restoring model weights from the end of the best epoch.\n",
            "Epoch 00066: early stopping\n",
            "              precision    recall  f1-score   support\n",
            "\n",
            "           0       0.76      0.66      0.70       219\n",
            "           1       0.49      0.61      0.54       117\n",
            "\n",
            "    accuracy                           0.64       336\n",
            "   macro avg       0.62      0.63      0.62       336\n",
            "weighted avg       0.66      0.64      0.65       336\n",
            "\n"
          ],
          "name": "stdout"
        },
        {
          "output_type": "stream",
          "text": [
            "/usr/local/lib/python3.6/dist-packages/tensorflow/python/keras/engine/sequential.py:450: UserWarning: `model.predict_classes()` is deprecated and will be removed after 2021-01-01. Please use instead:* `np.argmax(model.predict(x), axis=-1)`,   if your model does multi-class classification   (e.g. if it uses a `softmax` last-layer activation).* `(model.predict(x) > 0.5).astype(\"int32\")`,   if your model does binary classification   (e.g. if it uses a `sigmoid` last-layer activation).\n",
            "  warnings.warn('`model.predict_classes()` is deprecated and '\n"
          ],
          "name": "stderr"
        },
        {
          "output_type": "stream",
          "text": [
            "11/11 [==============================] - 0s 9ms/step - loss: 0.6393 - accuracy: 0.6399\n",
            "0.6393241882324219 0.6398809552192688\n"
          ],
          "name": "stdout"
        },
        {
          "output_type": "display_data",
          "data": {
            "image/png": "[encoded data removed]",
            "text/plain": [
              "<Figure size 432x288 with 1 Axes>"
            ]
          },
          "metadata": {
            "tags": [],
            "needs_background": "light"
          }
        },
        {
          "output_type": "display_data",
          "data": {
            "image/png": "[encoded data removed]",
            "text/plain": [
              "<Figure size 432x288 with 1 Axes>"
            ]
          },
          "metadata": {
            "tags": [],
            "needs_background": "light"
          }
        },
        {
          "output_type": "stream",
          "text": [
            "[0 1]\n",
            "Normalized confusion matrix\n"
          ],
          "name": "stdout"
        },
        {
          "output_type": "display_data",
          "data": {
            "image/png": "[encoded data removed]",
            "text/plain": [
              "<Figure size 432x288 with 2 Axes>"
            ]
          },
          "metadata": {
            "tags": [],
            "needs_background": "light"
          }
        }
      ]
    },
    {
      "cell_type": "markdown",
      "metadata": {
        "id": "jPkPzyqe7ec7"
      },
      "source": [
        "# **Model 2 with more conv-layers & one more dense layer**\r\n",
        "\r\n",
        "*   Rmsp (rate = 1e-4)\r\n",
        "*   Dense hidden layer: 2\r\n",
        "*   sigmoid"
      ]
    },
    {
      "cell_type": "code",
      "metadata": {
        "colab": {
          "base_uri": "https://localhost:8080/",
          "height": 1000
        },
        "id": "R3x8M9DN7csZ",
        "outputId": "cae803c6-6792-45cf-a475-9b12b42f3aad"
      },
      "source": [
        "tf.random.set_seed(7)\r\n",
        "model1 = models.Sequential()\r\n",
        "model1.add(layers.Conv2D(32, (3, 3), activation='relu', input_shape=(150, 150, 1), padding='same'))\r\n",
        "model1.add(layers.Conv2D(64, (3, 3), activation='relu', padding='same'))\r\n",
        "model1.add(layers.MaxPooling2D((2, 2)))\r\n",
        "model1.add(layers.Conv2D(64, (3, 3), activation='relu', padding='same'))\r\n",
        "model1.add(layers.Conv2D(64, (3, 3), activation='relu', padding='same'))\r\n",
        "model1.add(layers.MaxPooling2D((2, 2)))\r\n",
        "model1.add(layers.Conv2D(128, (3, 3), activation='relu', padding='same'))\r\n",
        "model1.add(layers.MaxPooling2D((2, 2)))\r\n",
        "model1.add(layers.Conv2D(256, (3, 3), activation='relu', padding='same'))\r\n",
        "model1.add(layers.MaxPooling2D((2, 2)))\r\n",
        "\r\n",
        "model1.add(layers.Flatten())\r\n",
        "model1.add(layers.Dense(256, activation='relu'))\r\n",
        "model1.add(layers.Dense(256, activation='relu'))\r\n",
        "model1.add(layers.Dense(2, activation='sigmoid'))\r\n",
        "\r\n",
        "model1.summary()\r\n",
        "\r\n",
        "model1.compile(optimizer=optimizers.RMSprop(lr=1e-4),\r\n",
        "              loss='binary_crossentropy',\r\n",
        "              metrics=['accuracy'])\r\n",
        "\r\n",
        "earlyStopCallback = tf.keras.callbacks.EarlyStopping(monitor='val_loss', mode='min', verbose=1, patience=10, restore_best_weights=True)\r\n",
        "\r\n",
        "\r\n",
        "history = model1.fit(augmentedData, augmentedLabels, epochs=100, callbacks=[earlyStopCallback], batch_size=32, validation_split=0.2)\r\n",
        "\r\n",
        "pred = model1.predict_classes(testSet) \r\n",
        "print(metrics.classification_report(testLabels,pred))\r\n",
        "test_loss, test_acc = model1.evaluate(testSet, testLabelsCategorical)\r\n",
        "print(test_loss, test_acc)\r\n",
        "plot_accurancy_loss(history)\r\n",
        "plot_confusionMatrix(model1, testSet, testLabels, ['benign', 'malignant'])"
      ],
      "execution_count": null,
      "outputs": [
        {
          "output_type": "stream",
          "text": [
            "Model: \"sequential_2\"\n",
            "_________________________________________________________________\n",
            "Layer (type)                 Output Shape              Param #   \n",
            "=================================================================\n",
            "conv2d_8 (Conv2D)            (None, 150, 150, 32)      320       \n",
            "_________________________________________________________________\n",
            "conv2d_9 (Conv2D)            (None, 150, 150, 64)      18496     \n",
            "_________________________________________________________________\n",
            "max_pooling2d_8 (MaxPooling2 (None, 75, 75, 64)        0         \n",
            "_________________________________________________________________\n",
            "conv2d_10 (Conv2D)           (None, 75, 75, 64)        36928     \n",
            "_________________________________________________________________\n",
            "conv2d_11 (Conv2D)           (None, 75, 75, 64)        36928     \n",
            "_________________________________________________________________\n",
            "max_pooling2d_9 (MaxPooling2 (None, 37, 37, 64)        0         \n",
            "_________________________________________________________________\n",
            "conv2d_12 (Conv2D)           (None, 37, 37, 128)       73856     \n",
            "_________________________________________________________________\n",
            "max_pooling2d_10 (MaxPooling (None, 18, 18, 128)       0         \n",
            "_________________________________________________________________\n",
            "conv2d_13 (Conv2D)           (None, 18, 18, 256)       295168    \n",
            "_________________________________________________________________\n",
            "max_pooling2d_11 (MaxPooling (None, 9, 9, 256)         0         \n",
            "_________________________________________________________________\n",
            "flatten_2 (Flatten)          (None, 20736)             0         \n",
            "_________________________________________________________________\n",
            "dense_4 (Dense)              (None, 256)               5308672   \n",
            "_________________________________________________________________\n",
            "dense_5 (Dense)              (None, 256)               65792     \n",
            "_________________________________________________________________\n",
            "dense_6 (Dense)              (None, 2)                 514       \n",
            "=================================================================\n",
            "Total params: 5,836,674\n",
            "Trainable params: 5,836,674\n",
            "Non-trainable params: 0\n",
            "_________________________________________________________________\n",
            "Epoch 1/100\n",
            "268/268 [==============================] - 23s 81ms/step - loss: 0.6854 - accuracy: 0.5839 - val_loss: 0.6673 - val_accuracy: 0.5922\n",
            "Epoch 2/100\n",
            "268/268 [==============================] - 21s 78ms/step - loss: 0.6728 - accuracy: 0.5807 - val_loss: 0.6487 - val_accuracy: 0.6642\n",
            "Epoch 3/100\n",
            "268/268 [==============================] - 21s 78ms/step - loss: 0.6614 - accuracy: 0.6021 - val_loss: 0.6157 - val_accuracy: 0.6684\n",
            "Epoch 4/100\n",
            "268/268 [==============================] - 21s 78ms/step - loss: 0.6369 - accuracy: 0.6269 - val_loss: 0.6177 - val_accuracy: 0.6357\n",
            "Epoch 5/100\n",
            "268/268 [==============================] - 21s 78ms/step - loss: 0.6259 - accuracy: 0.6389 - val_loss: 0.6079 - val_accuracy: 0.6586\n",
            "Epoch 6/100\n",
            "268/268 [==============================] - 21s 78ms/step - loss: 0.6324 - accuracy: 0.6174 - val_loss: 0.6049 - val_accuracy: 0.6464\n",
            "Epoch 7/100\n",
            "268/268 [==============================] - 21s 78ms/step - loss: 0.6200 - accuracy: 0.6448 - val_loss: 0.5829 - val_accuracy: 0.6875\n",
            "Epoch 8/100\n",
            "268/268 [==============================] - 21s 78ms/step - loss: 0.6133 - accuracy: 0.6421 - val_loss: 0.5964 - val_accuracy: 0.6390\n",
            "Epoch 9/100\n",
            "268/268 [==============================] - 21s 78ms/step - loss: 0.6076 - accuracy: 0.6457 - val_loss: 0.5775 - val_accuracy: 0.6927\n",
            "Epoch 10/100\n",
            "268/268 [==============================] - 21s 78ms/step - loss: 0.6031 - accuracy: 0.6503 - val_loss: 0.6159 - val_accuracy: 0.6427\n",
            "Epoch 11/100\n",
            "268/268 [==============================] - 21s 78ms/step - loss: 0.5996 - accuracy: 0.6538 - val_loss: 0.5749 - val_accuracy: 0.6885\n",
            "Epoch 12/100\n",
            "268/268 [==============================] - 21s 78ms/step - loss: 0.5923 - accuracy: 0.6642 - val_loss: 0.5652 - val_accuracy: 0.6936\n",
            "Epoch 13/100\n",
            "268/268 [==============================] - 21s 78ms/step - loss: 0.5822 - accuracy: 0.6752 - val_loss: 0.5822 - val_accuracy: 0.6670\n",
            "Epoch 14/100\n",
            "268/268 [==============================] - 21s 78ms/step - loss: 0.5816 - accuracy: 0.6685 - val_loss: 0.5844 - val_accuracy: 0.6590\n",
            "Epoch 15/100\n",
            "268/268 [==============================] - 21s 78ms/step - loss: 0.5756 - accuracy: 0.6774 - val_loss: 0.5680 - val_accuracy: 0.6964\n",
            "Epoch 16/100\n",
            "268/268 [==============================] - 21s 78ms/step - loss: 0.5682 - accuracy: 0.6898 - val_loss: 0.5683 - val_accuracy: 0.6931\n",
            "Epoch 17/100\n",
            "268/268 [==============================] - 21s 78ms/step - loss: 0.5666 - accuracy: 0.6880 - val_loss: 0.5712 - val_accuracy: 0.6950\n",
            "Epoch 18/100\n",
            "268/268 [==============================] - 21s 79ms/step - loss: 0.5576 - accuracy: 0.6933 - val_loss: 0.5995 - val_accuracy: 0.6539\n",
            "Epoch 19/100\n",
            "268/268 [==============================] - 21s 78ms/step - loss: 0.5432 - accuracy: 0.7040 - val_loss: 0.6025 - val_accuracy: 0.6679\n",
            "Epoch 20/100\n",
            "268/268 [==============================] - 21s 79ms/step - loss: 0.5482 - accuracy: 0.7027 - val_loss: 0.5969 - val_accuracy: 0.6801\n",
            "Epoch 21/100\n",
            "268/268 [==============================] - 21s 79ms/step - loss: 0.5278 - accuracy: 0.7178 - val_loss: 0.5641 - val_accuracy: 0.7029\n",
            "Epoch 22/100\n",
            "268/268 [==============================] - 21s 79ms/step - loss: 0.5256 - accuracy: 0.7211 - val_loss: 0.5772 - val_accuracy: 0.7025\n",
            "Epoch 23/100\n",
            "268/268 [==============================] - 21s 79ms/step - loss: 0.5120 - accuracy: 0.7326 - val_loss: 0.5700 - val_accuracy: 0.6950\n",
            "Epoch 24/100\n",
            "268/268 [==============================] - 21s 79ms/step - loss: 0.5015 - accuracy: 0.7386 - val_loss: 0.5926 - val_accuracy: 0.6936\n",
            "Epoch 25/100\n",
            "268/268 [==============================] - 21s 79ms/step - loss: 0.4877 - accuracy: 0.7496 - val_loss: 0.6112 - val_accuracy: 0.6866\n",
            "Epoch 26/100\n",
            "268/268 [==============================] - 21s 79ms/step - loss: 0.4700 - accuracy: 0.7638 - val_loss: 0.6171 - val_accuracy: 0.6777\n",
            "Epoch 27/100\n",
            "268/268 [==============================] - 21s 79ms/step - loss: 0.4422 - accuracy: 0.7833 - val_loss: 0.6153 - val_accuracy: 0.6885\n",
            "Epoch 28/100\n",
            "268/268 [==============================] - 21s 79ms/step - loss: 0.4247 - accuracy: 0.7914 - val_loss: 0.6394 - val_accuracy: 0.6833\n",
            "Epoch 29/100\n",
            "268/268 [==============================] - 21s 79ms/step - loss: 0.4103 - accuracy: 0.7992 - val_loss: 0.6955 - val_accuracy: 0.6665\n",
            "Epoch 30/100\n",
            "268/268 [==============================] - 21s 79ms/step - loss: 0.3749 - accuracy: 0.8168 - val_loss: 0.6971 - val_accuracy: 0.6992\n",
            "Epoch 31/100\n",
            "268/268 [==============================] - 21s 79ms/step - loss: 0.3454 - accuracy: 0.8402 - val_loss: 0.7352 - val_accuracy: 0.6819\n",
            "Restoring model weights from the end of the best epoch.\n",
            "Epoch 00031: early stopping\n"
          ],
          "name": "stdout"
        },
        {
          "output_type": "stream",
          "text": [
            "/usr/local/lib/python3.6/dist-packages/tensorflow/python/keras/engine/sequential.py:450: UserWarning: `model.predict_classes()` is deprecated and will be removed after 2021-01-01. Please use instead:* `np.argmax(model.predict(x), axis=-1)`,   if your model does multi-class classification   (e.g. if it uses a `softmax` last-layer activation).* `(model.predict(x) > 0.5).astype(\"int32\")`,   if your model does binary classification   (e.g. if it uses a `sigmoid` last-layer activation).\n",
            "  warnings.warn('`model.predict_classes()` is deprecated and '\n"
          ],
          "name": "stderr"
        },
        {
          "output_type": "stream",
          "text": [
            "              precision    recall  f1-score   support\n",
            "\n",
            "           0       0.80      0.61      0.69       219\n",
            "           1       0.50      0.72      0.59       117\n",
            "\n",
            "    accuracy                           0.65       336\n",
            "   macro avg       0.65      0.66      0.64       336\n",
            "weighted avg       0.70      0.65      0.66       336\n",
            "\n",
            "11/11 [==============================] - 0s 19ms/step - loss: 0.6283 - accuracy: 0.6488\n",
            "0.6283054351806641 0.648809552192688\n"
          ],
          "name": "stdout"
        },
        {
          "output_type": "display_data",
          "data": {
            "image/png": "[encoded data removed]",
            "text/plain": [
              "<Figure size 432x288 with 1 Axes>"
            ]
          },
          "metadata": {
            "tags": [],
            "needs_background": "light"
          }
        },
        {
          "output_type": "display_data",
          "data": {
            "image/png": "[encoded data removed]",
            "text/plain": [
              "<Figure size 432x288 with 1 Axes>"
            ]
          },
          "metadata": {
            "tags": [],
            "needs_background": "light"
          }
        },
        {
          "output_type": "stream",
          "text": [
            "[0 1]\n",
            "Normalized confusion matrix\n"
          ],
          "name": "stdout"
        },
        {
          "output_type": "display_data",
          "data": {
            "image/png": "[encoded data removed]",
            "text/plain": [
              "<Figure size 432x288 with 2 Axes>"
            ]
          },
          "metadata": {
            "tags": [],
            "needs_background": "light"
          }
        }
      ]
    },
    {
      "cell_type": "markdown",
      "metadata": {
        "id": "oOcqMLdI9p6w"
      },
      "source": [
        "# **Model 3**\r\n",
        "\r\n",
        "*   Adam\r\n",
        "*   Dense hidden layer: 2\r\n",
        "*   Dropout layer between the 2 dense layers: rate = 0.2\r\n",
        "*   sigmoid"
      ]
    },
    {
      "cell_type": "code",
      "metadata": {
        "colab": {
          "base_uri": "https://localhost:8080/",
          "height": 1000
        },
        "id": "YZdaG2G-9rFS",
        "outputId": "f2f7a307-51e5-4d36-c385-ca4843fe56af"
      },
      "source": [
        "tf.random.set_seed(7)\r\n",
        "model4 = models.Sequential()\r\n",
        "model4.add(layers.Conv2D(32, (3, 3), activation='relu', input_shape=(150, 150, 1), padding='same'))\r\n",
        "model4.add(layers.Dropout(rate=.2))\r\n",
        "model4.add(layers.Conv2D(64, (3, 3), activation='relu', padding='same'))\r\n",
        "model4.add(layers.Dropout(rate=.2))\r\n",
        "model4.add(layers.MaxPooling2D((2, 2)))\r\n",
        "model4.add(layers.Conv2D(64, (3, 3), activation='relu', padding='same'))\r\n",
        "model4.add(layers.Dropout(rate=.2))\r\n",
        "model4.add(layers.Conv2D(64, (3, 3), activation='relu', padding='same'))\r\n",
        "model4.add(layers.Dropout(rate=.2))\r\n",
        "model4.add(layers.MaxPooling2D((2, 2)))\r\n",
        "model4.add(layers.Conv2D(128, (3, 3), activation='relu', padding='same'))\r\n",
        "model4.add(layers.Dropout(rate=.2))\r\n",
        "model4.add(layers.MaxPooling2D((2, 2)))\r\n",
        "model4.add(layers.Conv2D(256, (3, 3), activation='relu', padding='same'))\r\n",
        "model4.add(layers.Dropout(rate=.2))\r\n",
        "model4.add(layers.MaxPooling2D((2, 2)))\r\n",
        "\r\n",
        "model4.add(layers.Flatten())\r\n",
        "model4.add(layers.Dense(256, activation='relu'))\r\n",
        "model4.add(layers.Dropout(rate=.2))\r\n",
        "model4.add(layers.Dense(256, activation='relu'))\r\n",
        "model4.add(layers.Dense(2, activation='sigmoid'))\r\n",
        "\r\n",
        "model4.summary()\r\n",
        "\r\n",
        "model4.compile(optimizer='adam',\r\n",
        "              loss='binary_crossentropy',\r\n",
        "              metrics=['accuracy'])\r\n",
        "\r\n",
        "earlyStopCallback = tf.keras.callbacks.EarlyStopping(monitor='val_loss', mode='min', verbose=1, patience=10, restore_best_weights=True)\r\n",
        "\r\n",
        "history = model4.fit(augmentedData, augmentedLabels, epochs=100, callbacks=[earlyStopCallback], batch_size=32, validation_split=0.2)\r\n",
        "\r\n",
        "pred = model4.predict_classes(testSet) \r\n",
        "print(metrics.classification_report(testLabels,pred))\r\n",
        "test_loss, test_acc = model4.evaluate(testSet, testLabelsCategorical)\r\n",
        "print(test_loss, test_acc)\r\n",
        "plot_accurancy_loss(history)\r\n",
        "plot_confusionMatrix(model4, testSet, testLabels, ['benign', 'malignant'])"
      ],
      "execution_count": null,
      "outputs": [
        {
          "output_type": "stream",
          "text": [
            "Model: \"sequential_3\"\n",
            "_________________________________________________________________\n",
            "Layer (type)                 Output Shape              Param #   \n",
            "=================================================================\n",
            "conv2d_14 (Conv2D)           (None, 150, 150, 32)      320       \n",
            "_________________________________________________________________\n",
            "dropout_2 (Dropout)          (None, 150, 150, 32)      0         \n",
            "_________________________________________________________________\n",
            "conv2d_15 (Conv2D)           (None, 150, 150, 64)      18496     \n",
            "_________________________________________________________________\n",
            "dropout_3 (Dropout)          (None, 150, 150, 64)      0         \n",
            "_________________________________________________________________\n",
            "max_pooling2d_12 (MaxPooling (None, 75, 75, 64)        0         \n",
            "_________________________________________________________________\n",
            "conv2d_16 (Conv2D)           (None, 75, 75, 64)        36928     \n",
            "_________________________________________________________________\n",
            "dropout_4 (Dropout)          (None, 75, 75, 64)        0         \n",
            "_________________________________________________________________\n",
            "conv2d_17 (Conv2D)           (None, 75, 75, 64)        36928     \n",
            "_________________________________________________________________\n",
            "dropout_5 (Dropout)          (None, 75, 75, 64)        0         \n",
            "_________________________________________________________________\n",
            "max_pooling2d_13 (MaxPooling (None, 37, 37, 64)        0         \n",
            "_________________________________________________________________\n",
            "conv2d_18 (Conv2D)           (None, 37, 37, 128)       73856     \n",
            "_________________________________________________________________\n",
            "dropout_6 (Dropout)          (None, 37, 37, 128)       0         \n",
            "_________________________________________________________________\n",
            "max_pooling2d_14 (MaxPooling (None, 18, 18, 128)       0         \n",
            "_________________________________________________________________\n",
            "conv2d_19 (Conv2D)           (None, 18, 18, 256)       295168    \n",
            "_________________________________________________________________\n",
            "dropout_7 (Dropout)          (None, 18, 18, 256)       0         \n",
            "_________________________________________________________________\n",
            "max_pooling2d_15 (MaxPooling (None, 9, 9, 256)         0         \n",
            "_________________________________________________________________\n",
            "flatten_3 (Flatten)          (None, 20736)             0         \n",
            "_________________________________________________________________\n",
            "dense_7 (Dense)              (None, 256)               5308672   \n",
            "_________________________________________________________________\n",
            "dropout_8 (Dropout)          (None, 256)               0         \n",
            "_________________________________________________________________\n",
            "dense_8 (Dense)              (None, 256)               65792     \n",
            "_________________________________________________________________\n",
            "dense_9 (Dense)              (None, 2)                 514       \n",
            "=================================================================\n",
            "Total params: 5,836,674\n",
            "Trainable params: 5,836,674\n",
            "Non-trainable params: 0\n",
            "_________________________________________________________________\n",
            "Epoch 1/100\n",
            "268/268 [==============================] - 28s 101ms/step - loss: 0.6978 - accuracy: 0.5855 - val_loss: 0.6729 - val_accuracy: 0.5922\n",
            "Epoch 2/100\n",
            "268/268 [==============================] - 27s 99ms/step - loss: 0.6738 - accuracy: 0.5850 - val_loss: 0.6807 - val_accuracy: 0.5922\n",
            "Epoch 3/100\n",
            "268/268 [==============================] - 27s 99ms/step - loss: 0.6728 - accuracy: 0.5847 - val_loss: 0.6458 - val_accuracy: 0.6067\n",
            "Epoch 4/100\n",
            "268/268 [==============================] - 26s 99ms/step - loss: 0.6615 - accuracy: 0.5905 - val_loss: 0.6689 - val_accuracy: 0.5927\n",
            "Epoch 5/100\n",
            "268/268 [==============================] - 26s 99ms/step - loss: 0.6547 - accuracy: 0.6123 - val_loss: 0.6224 - val_accuracy: 0.6175\n",
            "Epoch 6/100\n",
            "268/268 [==============================] - 26s 98ms/step - loss: 0.6454 - accuracy: 0.6156 - val_loss: 0.6458 - val_accuracy: 0.6156\n",
            "Epoch 7/100\n",
            "268/268 [==============================] - 26s 98ms/step - loss: 0.6263 - accuracy: 0.6424 - val_loss: 0.6673 - val_accuracy: 0.6067\n",
            "Epoch 8/100\n",
            "268/268 [==============================] - 26s 98ms/step - loss: 0.6327 - accuracy: 0.6356 - val_loss: 0.6398 - val_accuracy: 0.6198\n",
            "Epoch 9/100\n",
            "268/268 [==============================] - 26s 98ms/step - loss: 0.6416 - accuracy: 0.6231 - val_loss: 0.6485 - val_accuracy: 0.6021\n",
            "Epoch 10/100\n",
            "268/268 [==============================] - 26s 98ms/step - loss: 0.6039 - accuracy: 0.6503 - val_loss: 0.6627 - val_accuracy: 0.6072\n",
            "Epoch 11/100\n",
            "268/268 [==============================] - 26s 98ms/step - loss: 0.6001 - accuracy: 0.6585 - val_loss: 0.6453 - val_accuracy: 0.6123\n",
            "Epoch 12/100\n",
            "268/268 [==============================] - 26s 98ms/step - loss: 0.5959 - accuracy: 0.6577 - val_loss: 0.6469 - val_accuracy: 0.6086\n",
            "Epoch 13/100\n",
            "268/268 [==============================] - 26s 98ms/step - loss: 0.6010 - accuracy: 0.6667 - val_loss: 0.6332 - val_accuracy: 0.6165\n",
            "Epoch 14/100\n",
            "268/268 [==============================] - 26s 98ms/step - loss: 0.5791 - accuracy: 0.6710 - val_loss: 0.6444 - val_accuracy: 0.6221\n",
            "Epoch 15/100\n",
            "268/268 [==============================] - 26s 98ms/step - loss: 0.5776 - accuracy: 0.6720 - val_loss: 0.6490 - val_accuracy: 0.6025\n",
            "Restoring model weights from the end of the best epoch.\n",
            "Epoch 00015: early stopping\n"
          ],
          "name": "stdout"
        },
        {
          "output_type": "stream",
          "text": [
            "/usr/local/lib/python3.6/dist-packages/tensorflow/python/keras/engine/sequential.py:450: UserWarning: `model.predict_classes()` is deprecated and will be removed after 2021-01-01. Please use instead:* `np.argmax(model.predict(x), axis=-1)`,   if your model does multi-class classification   (e.g. if it uses a `softmax` last-layer activation).* `(model.predict(x) > 0.5).astype(\"int32\")`,   if your model does binary classification   (e.g. if it uses a `sigmoid` last-layer activation).\n",
            "  warnings.warn('`model.predict_classes()` is deprecated and '\n"
          ],
          "name": "stderr"
        },
        {
          "output_type": "stream",
          "text": [
            "              precision    recall  f1-score   support\n",
            "\n",
            "           0       0.66      0.97      0.79       219\n",
            "           1       0.53      0.07      0.12       117\n",
            "\n",
            "    accuracy                           0.65       336\n",
            "   macro avg       0.60      0.52      0.45       336\n",
            "weighted avg       0.62      0.65      0.55       336\n",
            "\n",
            "11/11 [==============================] - 0s 19ms/step - loss: 0.6231 - accuracy: 0.6548\n",
            "0.6231018304824829 0.6547619104385376\n"
          ],
          "name": "stdout"
        },
        {
          "output_type": "display_data",
          "data": {
            "image/png": "[encoded data removed]",
            "text/plain": [
              "<Figure size 432x288 with 1 Axes>"
            ]
          },
          "metadata": {
            "tags": [],
            "needs_background": "light"
          }
        },
        {
          "output_type": "display_data",
          "data": {
            "image/png": "[encoded data removed]",
            "text/plain": [
              "<Figure size 432x288 with 1 Axes>"
            ]
          },
          "metadata": {
            "tags": [],
            "needs_background": "light"
          }
        },
        {
          "output_type": "stream",
          "text": [
            "[0 1]\n",
            "Normalized confusion matrix\n"
          ],
          "name": "stdout"
        },
        {
          "output_type": "display_data",
          "data": {
            "image/png": "[encoded data removed]",
            "text/plain": [
              "<Figure size 432x288 with 2 Axes>"
            ]
          },
          "metadata": {
            "tags": [],
            "needs_background": "light"
          }
        }
      ]
    },
    {
      "cell_type": "markdown",
      "metadata": {
        "id": "kmtC0QjzQXZv"
      },
      "source": [
        "# **Roc Analysis**"
      ]
    },
    {
      "cell_type": "code",
      "metadata": {
        "colab": {
          "base_uri": "https://localhost:8080/"
        },
        "id": "VnX3OYGHQcjs",
        "outputId": "1fcb59cc-aff9-4abb-8a2a-685efd4a1b25"
      },
      "source": [
        "models = [modelP, model8, model1, model4]\r\n",
        "\r\n",
        "plotRocCurves(models, testSet, testLabels, ['simpleDataAugmented', 'simpleNoDataAugmented', 'model3', 'model4'])"
      ],
      "execution_count": null,
      "outputs": [
        {
          "output_type": "stream",
          "text": [
            "/usr/local/lib/python3.6/dist-packages/tensorflow/python/keras/engine/sequential.py:425: UserWarning: `model.predict_proba()` is deprecated and will be removed after 2021-01-01. Please use `model.predict()` instead.\n",
            "  warnings.warn('`model.predict_proba()` is deprecated and '\n",
            "/usr/local/lib/python3.6/dist-packages/tensorflow/python/keras/engine/sequential.py:425: UserWarning: `model.predict_proba()` is deprecated and will be removed after 2021-01-01. Please use `model.predict()` instead.\n",
            "  warnings.warn('`model.predict_proba()` is deprecated and '\n",
            "/usr/local/lib/python3.6/dist-packages/tensorflow/python/keras/engine/sequential.py:425: UserWarning: `model.predict_proba()` is deprecated and will be removed after 2021-01-01. Please use `model.predict()` instead.\n",
            "  warnings.warn('`model.predict_proba()` is deprecated and '\n",
            "/usr/local/lib/python3.6/dist-packages/tensorflow/python/keras/engine/sequential.py:425: UserWarning: `model.predict_proba()` is deprecated and will be removed after 2021-01-01. Please use `model.predict()` instead.\n",
            "  warnings.warn('`model.predict_proba()` is deprecated and '\n"
          ],
          "name": "stderr"
        },
        {
          "output_type": "display_data",
          "data": {
            "image/png": "[encoded data removed]",
            "text/plain": [
              "<Figure size 432x288 with 1 Axes>"
            ]
          },
          "metadata": {
            "tags": [],
            "needs_background": "light"
          }
        }
      ]
    }
  ]
}