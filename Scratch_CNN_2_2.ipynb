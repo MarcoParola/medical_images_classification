{
  "nbformat": 4,
  "nbformat_minor": 0,
  "metadata": {
    "colab": {
      "name": "Scratch_CNN_2_2.ipynb",
      "provenance": [],
      "collapsed_sections": [],
      "include_colab_link": true
    },
    "kernelspec": {
      "display_name": "Python 3",
      "name": "python3"
    }
  },
  "cells": [
    {
      "cell_type": "markdown",
      "metadata": {
        "id": "view-in-github",
        "colab_type": "text"
      },
      "source": [
        "<a href=\"https://colab.research.google.com/github/MarcoParola/medical_images_classification/blob/main/Scratch_CNN_2_2.ipynb\" target=\"_parent\"><img src=\"https://colab.research.google.com/assets/colab-badge.svg\" alt=\"Open In Colab\"/></a>"
      ]
    },
    {
      "cell_type": "code",
      "metadata": {
        "id": "FrELb75I-GgU",
        "colab": {
          "base_uri": "https://localhost:8080/"
        },
        "outputId": "3eeb4485-8c72-4710-e93f-c4849a369622"
      },
      "source": [
        "pip install ipynb"
      ],
      "execution_count": null,
      "outputs": [
        {
          "output_type": "stream",
          "text": [
            "Collecting ipynb\n",
            "  Downloading https://files.pythonhosted.org/packages/31/42/4c0bbb66390e3a68e04ebf134c8d074a00c18b5882293f8ace5f7497fbf0/ipynb-0.5.1-py3-none-any.whl\n",
            "Installing collected packages: ipynb\n",
            "Successfully installed ipynb-0.5.1\n"
          ],
          "name": "stdout"
        }
      ]
    },
    {
      "cell_type": "code",
      "metadata": {
        "id": "Nil8Sk6GLpCT"
      },
      "source": [
        "from google.colab import drive\n",
        "drive.mount('/content/drive/')"
      ],
      "execution_count": null,
      "outputs": []
    },
    {
      "cell_type": "code",
      "metadata": {
        "id": "JAEeH9W1YKE9"
      },
      "source": [
        "import os\n",
        "import numpy as np\n",
        "import matplotlib.pyplot as plt\n",
        "import collections "
      ],
      "execution_count": null,
      "outputs": []
    },
    {
      "cell_type": "code",
      "metadata": {
        "id": "VDK5pOvDYNhX"
      },
      "source": [
        "projectPath = 'drive/MyDrive/Colab Notebooks/cidl/'\n",
        "dataPath = 'numpy data/'"
      ],
      "execution_count": null,
      "outputs": []
    },
    {
      "cell_type": "code",
      "metadata": {
        "id": "Apt19-tmGb-N"
      },
      "source": [
        "%cd $projectPath\n",
        "%run utils.ipynb\n",
        "%cd '../../../..'"
      ],
      "execution_count": null,
      "outputs": []
    },
    {
      "cell_type": "code",
      "metadata": {
        "id": "GsJPM8GZT7Ky"
      },
      "source": [
        "# load data\n",
        "imagesTrainPub, labelsTrainPub, imagesTestPub, labelsTestPub, imagesTestPriv = load_data(projectPath + dataPath)\n",
        "\n",
        "# normalize data \n",
        "imagesTrainPub = scaleData(imagesTrainPub)\n",
        "imagesTestPub = scaleData(imagesTestPub)"
      ],
      "execution_count": null,
      "outputs": []
    },
    {
      "cell_type": "code",
      "metadata": {
        "id": "7FyKbOx0RvZS"
      },
      "source": [
        "# create (if not exists) the folder to store the models\n",
        "dir_name = 'models'\n",
        "if not os.path.exists(projectPath + dir_name):\n",
        "  os.makedirs(projectPath + dir_name)"
      ],
      "execution_count": null,
      "outputs": []
    },
    {
      "cell_type": "markdown",
      "metadata": {
        "id": "FHzqUFKiiNgc"
      },
      "source": [
        "# **Task 2**\n",
        "\n",
        "## 2.2 Binary calssification: Benign and Malignant\n",
        "Classes:\n",
        "*   Benign 1568\n",
        "*   Malignant 1108\n",
        "\n"
      ]
    },
    {
      "cell_type": "code",
      "metadata": {
        "id": "IhAtXIf3e19R"
      },
      "source": [
        "from tensorflow.keras.utils import to_categorical\n",
        "import tensorflow as tf\n",
        "\n",
        "# 0 -> benign\n",
        "# 1 -> malignant\n",
        "\n",
        "# prepare trainig-set\n",
        "trainingSet = []\n",
        "trainingLabels = []\n",
        "\n",
        "for i in range(len(labelsTrainPub)):\n",
        "  if labelsTrainPub[i] == 1 or labelsTrainPub[i] == 3:\n",
        "    trainingSet.append(imagesTrainPub[i])\n",
        "    trainingLabels.append(0)\n",
        "  if labelsTrainPub[i] == 2 or labelsTrainPub[i] == 4:\n",
        "    trainingSet.append(imagesTrainPub[i])\n",
        "    trainingLabels.append(1)\n",
        "\n",
        "trainingSet = np.array(trainingSet)\n",
        "trainingSet = trainingSet.reshape(2676, 150, 150, 1)\n",
        "\n",
        "\n",
        "training = []\n",
        "for i in range(len(trainingSet)):\n",
        "  training.append((trainingSet[i], trainingLabels[i]))\n",
        "\n",
        "training = np.array(training)\n",
        "np.random.shuffle(training)\n",
        "\n",
        "\n",
        "trainingSet = []\n",
        "trainingLabels = []\n",
        "\n",
        "for i in range(len(training)):\n",
        "  trainingSet.append(training[i][0])\n",
        "  trainingLabels.append(training[i][1])\n",
        "\n",
        "trainingSet = np.array(trainingSet)\n",
        "trainingLabels = np.array(trainingLabels)\n",
        "\n",
        "# prepare test-set\n",
        "testSet = []\n",
        "testLabels = []\n",
        "\n",
        "for i in range(len(labelsTestPub)):\n",
        "  if labelsTestPub[i] == 1 or labelsTestPub[i] == 3:\n",
        "    testSet.append(imagesTestPub[i])\n",
        "    testLabels.append(0)\n",
        "  if labelsTestPub[i] == 2 or labelsTestPub[i] == 4:\n",
        "    testSet.append(imagesTestPub[i])\n",
        "    testLabels.append(1)\n",
        "\n",
        "testSet = np.array(testSet)\n",
        "testSet = testSet.reshape(336, 150, 150, 1)"
      ],
      "execution_count": null,
      "outputs": []
    },
    {
      "cell_type": "code",
      "metadata": {
        "id": "EjjHLpXDl12q"
      },
      "source": [
        "plt.hist(trainingLabels, bins=np.arange(trainingLabels.min()-0.25, trainingLabels.max()+1), width=0.5)\n",
        "plt.xticks(np.arange(trainingLabels.min(), trainingLabels.max()+1, 1.0))\n",
        "plt.show()\n",
        "collections.Counter(trainingLabels)"
      ],
      "execution_count": null,
      "outputs": []
    },
    {
      "cell_type": "code",
      "metadata": {
        "id": "6HrjuL4ce6PZ"
      },
      "source": [
        "trainingLabels = to_categorical(np.array(trainingLabels))\n",
        "testLabels = to_categorical(np.array(testLabels))"
      ],
      "execution_count": null,
      "outputs": []
    },
    {
      "cell_type": "code",
      "metadata": {
        "id": "QJmtX6uNYR_Y"
      },
      "source": [
        "from tensorflow.keras import layers\n",
        "from tensorflow.keras import models\n",
        "\n",
        "\n",
        "model = models.Sequential()\n",
        "model.add(layers.Conv2D(32, (3, 3), activation='relu', input_shape=(150, 150, 1), padding='same'))\n",
        "model.add(layers.MaxPooling2D((2, 2)))\n",
        "model.add(layers.Conv2D(64, (3, 3), activation='relu', padding='same'))\n",
        "model.add(layers.MaxPooling2D((2, 2)))\n",
        "model.add(layers.Conv2D(64, (3, 3), activation='relu', padding='same'))\n",
        "model.add(layers.MaxPooling2D((2, 2)))\n",
        "model.add(layers.Conv2D(128, (3, 3), activation='relu', padding='same'))\n",
        "model.add(layers.MaxPooling2D((2, 2)))\n",
        "model.add(layers.Conv2D(256, (3, 3), activation='relu', padding='same'))\n",
        "model.add(layers.MaxPooling2D((2, 2)))\n",
        "\n",
        "model.add(layers.Flatten())\n",
        "model.add(layers.Dense(128, activation='relu'))\n",
        "model.add(layers.Dense(64, activation='relu'))\n",
        "model.add(layers.Dense(2, activation='softmax'))\n",
        "\n",
        "model.compile(optimizer='adam',\n",
        "              loss='binary_crossentropy',\n",
        "              metrics=['accuracy'])\n"
      ],
      "execution_count": null,
      "outputs": []
    },
    {
      "cell_type": "code",
      "metadata": {
        "id": "3nKMiZfqBJiO"
      },
      "source": [
        "earlyStopCallback = tf.keras.callbacks.EarlyStopping(monitor='val_loss', mode='min', verbose=1, patience=10)\n",
        "\n",
        "# TODO\n",
        "#earlyStopCallback = tf.keras.callbacks.EarlyStopping(monitor='val_accuracy', mode='max', min_delta=1)\n",
        "\n",
        "#model.fit(trainingSet, trainingLabels, epochs=26, batch_size=64)\n",
        "#model.fit(trainingSet, trainingLabels, epochs=100, callbacks=[earlyStopCallback], batch_size=32, validation_data=(testSet, testLabels))\n",
        "model.fit(trainingSet, trainingLabels, epochs=100, callbacks=[earlyStopCallback], batch_size=32, validation_split=0.2)\n",
        "\n",
        "#model.fit(trainingSet, trainingLabels, validation_split=0.2, batch_size=32)\n"
      ],
      "execution_count": null,
      "outputs": []
    },
    {
      "cell_type": "code",
      "metadata": {
        "id": "ISDwvw5RYOgi"
      },
      "source": [
        "test_loss, test_acc = model.evaluate(testSet, testLabels)\n",
        "print(test_loss, test_acc)"
      ],
      "execution_count": null,
      "outputs": []
    },
    {
      "cell_type": "code",
      "metadata": {
        "id": "mAD1PZfrhuLW"
      },
      "source": [
        "\n",
        "\n",
        "train_datagen = tf.keras.preprocessing.image.ImageDataGenerator(rotation_range=20,\n",
        "                                   shear_range = 0.2,\n",
        "                                   zoom_range = 0.2,\n",
        "                                   horizontal_flip = True)\n",
        "\n",
        "print(len(trainingSet[0]))\n",
        "\n",
        "x = train_datagen.flow(trainingSet, trainingLabels, shuffle=True)\n",
        "print(len(x[0]))\n",
        "\n"
      ],
      "execution_count": null,
      "outputs": []
    },
    {
      "cell_type": "code",
      "metadata": {
        "id": "Hji0ERkhU0OQ"
      },
      "source": [
        "trainingLabels[0]"
      ],
      "execution_count": null,
      "outputs": []
    },
    {
      "cell_type": "code",
      "metadata": {
        "id": "W76LpwvLDAjb"
      },
      "source": [
        "'''\n",
        "# \n",
        "model = models.Sequential()\n",
        "model.add(layers.Conv2D(32, (3, 3), activation='relu', input_shape=(150, 150, 1), padding='same'))\n",
        "model.add(layers.MaxPooling2D((2, 2)))\n",
        "model.add(layers.Conv2D(64, (3, 3), activation='relu', padding='same'))\n",
        "model.add(layers.MaxPooling2D((2, 2)))\n",
        "model.add(layers.Conv2D(64, (3, 3), activation='relu', padding='same'))\n",
        "model.add(layers.MaxPooling2D((2, 2)))\n",
        "model.add(layers.Conv2D(128, (3, 3), activation='relu', padding='same'))\n",
        "\n",
        "model.add(layers.Flatten())\n",
        "model.add(layers.Dense(64, activation='relu'))\n",
        "model.add(layers.Dense(64, activation='relu'))\n",
        "model.add(layers.Dense(2, activation='softmax'))\n",
        "\n",
        "\n",
        "model.compile(optimizer='rmsprop',\n",
        "              loss='binary_crossentropy',\n",
        "              metrics=['accuracy'])\n",
        "\n",
        "model.summary()\n",
        "'''"
      ],
      "execution_count": null,
      "outputs": []
    },
    {
      "cell_type": "code",
      "metadata": {
        "id": "7-NHPqmdLycH"
      },
      "source": [
        "tf.random.set_seed(18)\n",
        "\n",
        "model = models.Sequential()\n",
        "model.add(layers.Conv2D(32, (3, 3), activation='relu', input_shape=(150, 150, 1), padding='same'))\n",
        "model.add(layers.Dropout(rate=.25))\n",
        "model.add(layers.MaxPooling2D((2, 2)))\n",
        "model.add(layers.Conv2D(64, (3, 3), activation='relu', padding='same'))\n",
        "model.add(layers.Dropout(rate=.25))\n",
        "model.add(layers.MaxPooling2D((2, 2)))\n",
        "model.add(layers.Conv2D(64, (3, 3), activation='relu', padding='same'))\n",
        "model.add(layers.Dropout(rate=.25))\n",
        "model.add(layers.MaxPooling2D((2, 2)))\n",
        "model.add(layers.Conv2D(128, (3, 3), activation='relu', padding='same'))\n",
        "model.add(layers.Dropout(rate=.25))\n",
        "model.add(layers.MaxPooling2D((2, 2)))\n",
        "\n",
        "model.add(layers.Flatten())\n",
        "model.add(layers.Dense(64, activation='relu'))\n",
        "model.add(layers.Dense(64, activation='relu'))\n",
        "model.add(layers.Dense(2, activation='softmax'))\n",
        "\n",
        "\n",
        "model.compile(optimizer='rmsprop',\n",
        "              loss='binary_crossentropy',\n",
        "              metrics=['accuracy'])\n",
        "\n",
        "model.summary()"
      ],
      "execution_count": null,
      "outputs": []
    },
    {
      "cell_type": "code",
      "metadata": {
        "id": "G2CFGEzmaGid"
      },
      "source": [
        "test_loss, test_acc = model.evaluate(testSet, testLabels)"
      ],
      "execution_count": null,
      "outputs": []
    }
  ]
}