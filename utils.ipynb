{
  "nbformat": 4,
  "nbformat_minor": 0,
  "metadata": {
    "colab": {
      "name": "utils.ipynb",
      "provenance": [],
      "collapsed_sections": [],
      "include_colab_link": true
    },
    "kernelspec": {
      "display_name": "Python 3",
      "name": "python3"
    }
  },
  "cells": [
    {
      "cell_type": "markdown",
      "metadata": {
        "id": "view-in-github",
        "colab_type": "text"
      },
      "source": [
        "<a href=\"https://colab.research.google.com/github/MarcoParola/medical_images_classification/blob/main/utils.ipynb\" target=\"_parent\"><img src=\"https://colab.research.google.com/assets/colab-badge.svg\" alt=\"Open In Colab\"/></a>"
      ]
    },
    {
      "cell_type": "markdown",
      "metadata": {
        "id": "EScfUT3IO-Ta"
      },
      "source": [
        "# **Utils**\r\n",
        "This notebook contains some functions used in other notebooks"
      ]
    },
    {
      "cell_type": "code",
      "metadata": {
        "id": "Jjzi0wyoNpB4"
      },
      "source": [
        "import numpy as np\n",
        "import os\n",
        "from sklearn import metrics\n",
        "import seaborn as sns\n",
        "import matplotlib.pyplot as plt"
      ],
      "execution_count": null,
      "outputs": []
    },
    {
      "cell_type": "code",
      "metadata": {
        "id": "GsJPM8GZT7Ky"
      },
      "source": [
        "def load_data(dir):\n",
        "  imagesTrain = np.load(os.path.join(dir + 'train_tensor.npy'))\n",
        "  labelsTrain = np.load(os.path.join(dir + 'train_labels.npy'))\n",
        "  imagesTestPublic = np.load(os.path.join(dir + 'public_test_tensor.npy'))\n",
        "  labelsTestPublic = np.load(os.path.join(dir + 'public_test_labels.npy'))\n",
        "  imagesTestPrivate = np.load(os.path.join(dir + 'private_test_tensor.npy'))\n",
        "\n",
        "  return imagesTrain, labelsTrain, imagesTestPublic, labelsTestPublic, imagesTestPrivate"
      ],
      "execution_count": null,
      "outputs": []
    },
    {
      "cell_type": "code",
      "metadata": {
        "id": "SNgA79TBIgQk"
      },
      "source": [
        "def scaleData(image):\n",
        "  scaledImage = image / (pow(2,16)-1)\n",
        "  return scaledImage"
      ],
      "execution_count": null,
      "outputs": []
    },
    {
      "cell_type": "markdown",
      "metadata": {
        "id": "txJWasNmPbGH"
      },
      "source": [
        "## Utility function that plots the confusion matrix"
      ]
    },
    {
      "cell_type": "code",
      "metadata": {
        "id": "gWKe8MnA3W9k"
      },
      "source": [
        "def plot_confusionMatrix(model_, set_, labels_):\r\n",
        "  y_pred = model.predict_classes(set_)\r\n",
        "  metrics.confusion_matrix(y_pred, labels_)\r\n",
        "\r\n",
        "  labels = ['mass', 'calcification']\r\n",
        "  cm = metrics.confusion_matrix(y_pred,labels_)\r\n",
        "  cm = cm / cm.astype(np.float).sum(axis=1)\r\n",
        "  ax= plt.subplot()\r\n",
        "  sns.heatmap(cm, annot=True, ax = ax, cmap=\"OrRd\"); #annot=True to annotate cells\r\n",
        "\r\n",
        "  # labels, title and ticks\r\n",
        "  ax.set_xlabel('Predicted labels');ax.set_ylabel('True labels'); \r\n",
        "  ax.set_title('Confusion Matrix'); \r\n",
        "  ax.xaxis.set_ticklabels(['mass', 'calcification']); ax.yaxis.set_ticklabels(['mass', 'calcification']);\r\n",
        "  plt.show()"
      ],
      "execution_count": null,
      "outputs": []
    },
    {
      "cell_type": "code",
      "metadata": {
        "id": "SDe_CYrj3e5l"
      },
      "source": [
        "def plot_accurancy_loss(hist):\r\n",
        "  acc_1 = hist.history['accuracy']\r\n",
        "  val_acc_1 = hist.history['val_accuracy']\r\n",
        "  loss_1 = hist.history['loss']\r\n",
        "  val_loss_1 = hist.history['val_loss']\r\n",
        "\r\n",
        "  plt.ylim(0,1)\r\n",
        "  \r\n",
        "  epochs = range(len(acc_1))\r\n",
        "\r\n",
        "  plt.plot(epochs, acc_1, 'bo', label='Training acc')\r\n",
        "  plt.plot(epochs, val_acc_1, 'b', label='Validation acc')\r\n",
        "  plt.title('Training and validation accuracy')\r\n",
        "  plt.legend()\r\n",
        "\r\n",
        "  plt.figure()\r\n",
        "  plt.ylim(0,1)\r\n",
        "  plt.plot(epochs, loss_1, 'bo', label='Training loss')\r\n",
        "  plt.plot(epochs, val_loss_1, 'b', label='Validation loss')\r\n",
        "  plt.title('Training and validation loss')\r\n",
        "  plt.legend()\r\n",
        "\r\n",
        "  plt.show()"
      ],
      "execution_count": null,
      "outputs": []
    },
    {
      "cell_type": "code",
      "metadata": {
        "id": "Ddujf2ZDgOxV"
      },
      "source": [
        "plt.axes?"
      ],
      "execution_count": null,
      "outputs": []
    }
  ]
}