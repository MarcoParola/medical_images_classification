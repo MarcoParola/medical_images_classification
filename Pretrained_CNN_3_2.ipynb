{
  "nbformat": 4,
  "nbformat_minor": 0,
  "metadata": {
    "colab": {
      "name": "Pretrained_CNN_3_2.ipynb",
      "provenance": [],
      "collapsed_sections": [],
      "include_colab_link": true
    },
    "kernelspec": {
      "display_name": "Python 3",
      "name": "python3"
    },
    "accelerator": "GPU"
  },
  "cells": [
    {
      "cell_type": "markdown",
      "metadata": {
        "id": "view-in-github",
        "colab_type": "text"
      },
      "source": [
        "<a href=\"https://colab.research.google.com/github/MarcoParola/medical_images_classification/blob/main/Pretrained_CNN_3_2.ipynb\" target=\"_parent\"><img src=\"https://colab.research.google.com/assets/colab-badge.svg\" alt=\"Open In Colab\"/></a>"
      ]
    },
    {
      "cell_type": "code",
      "metadata": {
        "colab": {
          "base_uri": "https://localhost:8080/"
        },
        "id": "FrELb75I-GgU",
        "outputId": "3ea9158e-570e-4efa-9311-1754ee55556e"
      },
      "source": [
        "pip install ipynb"
      ],
      "execution_count": null,
      "outputs": [
        {
          "output_type": "stream",
          "text": [
            "Collecting ipynb\n",
            "  Downloading https://files.pythonhosted.org/packages/31/42/4c0bbb66390e3a68e04ebf134c8d074a00c18b5882293f8ace5f7497fbf0/ipynb-0.5.1-py3-none-any.whl\n",
            "Installing collected packages: ipynb\n",
            "Successfully installed ipynb-0.5.1\n"
          ],
          "name": "stdout"
        }
      ]
    },
    {
      "cell_type": "code",
      "metadata": {
        "colab": {
          "base_uri": "https://localhost:8080/"
        },
        "id": "Nil8Sk6GLpCT",
        "outputId": "055ca918-1ed8-4b5f-dc01-7c516b904779"
      },
      "source": [
        "from google.colab import drive\n",
        "drive.mount('/content/drive/')"
      ],
      "execution_count": null,
      "outputs": [
        {
          "output_type": "stream",
          "text": [
            "Mounted at /content/drive/\n"
          ],
          "name": "stdout"
        }
      ]
    },
    {
      "cell_type": "code",
      "metadata": {
        "id": "JAEeH9W1YKE9"
      },
      "source": [
        "import os\n",
        "import numpy as np\n",
        "import matplotlib.pyplot as plt\n",
        "import collections \n",
        "from tensorflow.keras import models\n",
        "from tensorflow.keras import layers\n",
        "from tensorflow.keras.utils import to_categorical\n",
        "import tensorflow as tf\n",
        "from tensorflow.keras import optimizers\n",
        "from sklearn.utils import class_weight\n",
        "import sklearn \n",
        "from sklearn import metrics\n",
        "import keras"
      ],
      "execution_count": null,
      "outputs": []
    },
    {
      "cell_type": "code",
      "metadata": {
        "id": "VDK5pOvDYNhX"
      },
      "source": [
        "projectPath = 'drive/MyDrive/Colab Notebooks/cidl/'\n",
        "dataPath = 'numpy data/'"
      ],
      "execution_count": null,
      "outputs": []
    },
    {
      "cell_type": "code",
      "metadata": {
        "colab": {
          "base_uri": "https://localhost:8080/"
        },
        "id": "Apt19-tmGb-N",
        "outputId": "e889b3fa-7900-43e7-901f-419d460a2aba"
      },
      "source": [
        "%cd $projectPath\n",
        "%run utils.ipynb\n",
        "%cd '../../../..'"
      ],
      "execution_count": null,
      "outputs": [
        {
          "output_type": "stream",
          "text": [
            "/content/drive/.shortcut-targets-by-id/1H_qsSPBi-K_nGcMzSsNcwFkqtAHG8iYD/cidl\n",
            "/content\n"
          ],
          "name": "stdout"
        }
      ]
    },
    {
      "cell_type": "code",
      "metadata": {
        "id": "GsJPM8GZT7Ky"
      },
      "source": [
        "# load data\n",
        "imagesTrainPub, labelsTrainPub, imagesTestPub, labelsTestPub, imagesTestPriv = load_data(projectPath + dataPath)\n",
        "\n",
        "# normalize data \n",
        "imagesTrainPub = scaleData(imagesTrainPub)\n",
        "imagesTestPub = scaleData(imagesTestPub)"
      ],
      "execution_count": null,
      "outputs": []
    },
    {
      "cell_type": "code",
      "metadata": {
        "id": "7FyKbOx0RvZS"
      },
      "source": [
        "# create (if not exists) the folder to store the models\n",
        "dir_name = 'models'\n",
        "if not os.path.exists(projectPath + dir_name):\n",
        "  os.makedirs(projectPath + dir_name)\n",
        "  print('done')"
      ],
      "execution_count": null,
      "outputs": []
    },
    {
      "cell_type": "code",
      "metadata": {
        "id": "wRuyuLEx4EZQ"
      },
      "source": [
        "tf.random.set_seed(7)"
      ],
      "execution_count": null,
      "outputs": []
    },
    {
      "cell_type": "markdown",
      "metadata": {
        "id": "FHzqUFKiiNgc"
      },
      "source": [
        "# **Task 3**\n",
        "\n",
        "## 3.2 Binary calssification: Mass and Calcification\n",
        "Classes:\n",
        "*   Benign \n",
        "*   Malignant "
      ]
    },
    {
      "cell_type": "code",
      "metadata": {
        "colab": {
          "base_uri": "https://localhost:8080/"
        },
        "id": "IhAtXIf3e19R",
        "outputId": "4d073a1d-4b7e-4d22-87e2-752aa21dc541"
      },
      "source": [
        "# 0 -> benign\n",
        "# 1 -> malignant\n",
        "\n",
        "# prepare trainig-set\n",
        "trainingSet = []\n",
        "trainingLabels = []\n",
        "benignNum = 0\n",
        "malignantNum = 0\n",
        "\n",
        "benign = []\n",
        "malignant = []\n",
        "\n",
        "for i in range(len(labelsTrainPub)):\n",
        "  if labelsTrainPub[i] == 1 or labelsTrainPub[i] == 3:\n",
        "    trainingSet.append(imagesTrainPub[i])\n",
        "    trainingLabels.append(0)\n",
        "    benignNum = benignNum + 1\n",
        "    benign.append(imagesTrainPub[i])\n",
        "  if labelsTrainPub[i] == 2 or labelsTrainPub[i] == 4:\n",
        "    trainingSet.append(imagesTrainPub[i])\n",
        "    trainingLabels.append(1)\n",
        "    malignantNum = malignantNum + 1\n",
        "    malignant.append(imagesTrainPub[i])\n",
        "    \n",
        "trainingSet = np.array(trainingSet)\n",
        "trainingSet = trainingSet.reshape(2676, 150, 150, 1)\n",
        "\n",
        "training = []\n",
        "for i in range(len(trainingSet)):\n",
        "  training.append((trainingSet[i], trainingLabels[i]))\n",
        "\n",
        "training = np.array(training)\n",
        "np.random.shuffle(training)\n",
        "\n",
        "\n",
        "trainingSet = []\n",
        "trainingLabels = []\n",
        "\n",
        "for i in range(len(training)):\n",
        "  trainingSet.append(training[i][0])\n",
        "  trainingLabels.append(training[i][1])\n",
        "\n",
        "trainingSet = np.array(trainingSet)\n",
        "trainingLabels = np.array(trainingLabels)\n",
        "\n",
        "# prepare test-set\n",
        "testSet = []\n",
        "testLabels = []\n",
        "\n",
        "for i in range(len(labelsTestPub)):\n",
        "  if labelsTestPub[i] == 1 or labelsTestPub[i] == 3:\n",
        "    testSet.append(imagesTestPub[i])\n",
        "    testLabels.append(0)\n",
        "  if labelsTestPub[i] == 2 or labelsTestPub[i] == 4:\n",
        "    testSet.append(imagesTestPub[i])\n",
        "    testLabels.append(1)\n",
        "\n",
        "testSet = np.array(testSet)\n",
        "testSet = testSet.reshape(336, 150, 150, 1)\n",
        "\n",
        "\n",
        "testLabelsCategorical = to_categorical(np.array(testLabels))\n",
        "trainingLabelsCategorical = to_categorical(np.array(trainingLabels))\n",
        "# classes to be passed to the function plotting the confusion matrix\n",
        "classes = ['benign', 'malignant']"
      ],
      "execution_count": null,
      "outputs": [
        {
          "output_type": "stream",
          "text": [
            "/usr/local/lib/python3.6/dist-packages/ipykernel_launcher.py:32: VisibleDeprecationWarning: Creating an ndarray from ragged nested sequences (which is a list-or-tuple of lists-or-tuples-or ndarrays with different lengths or shapes) is deprecated. If you meant to do this, you must specify 'dtype=object' when creating the ndarray\n"
          ],
          "name": "stderr"
        }
      ]
    },
    {
      "cell_type": "markdown",
      "metadata": {
        "id": "WG3Q0r9oFa7q"
      },
      "source": [
        "# **Augment Data**"
      ]
    },
    {
      "cell_type": "code",
      "metadata": {
        "colab": {
          "base_uri": "https://localhost:8080/"
        },
        "id": "fgIE0UCpHuYK",
        "outputId": "777ae1f5-ef2c-40f8-856e-f33cd2090f53"
      },
      "source": [
        "from tensorflow.keras.preprocessing.image import ImageDataGenerator\n",
        "\n",
        "BATCH_SIZE = 64\n",
        "dataGenerator = ImageDataGenerator(\n",
        "      rotation_range=45,\n",
        "      width_shift_range=0.15,\n",
        "      height_shift_range=0.15,\n",
        "      shear_range=20,\n",
        "      zoom_range=0.15,\n",
        "      horizontal_flip=True,\n",
        "      fill_mode='reflect')\n",
        "\n",
        "\n",
        "augmentedData = []\n",
        "augmentedLabels = []\n",
        "\n",
        "for j in range(0,len(trainingSet)):\n",
        "  for i in range(0,4):\n",
        "    dataGenerated = dataGenerator.flow(trainingSet[j].reshape(1,150,150,1), batch_size=4)\n",
        "    augmentedData.append(dataGenerated[0].reshape(150, 150))\n",
        "    augmentedLabels.append(trainingLabels[j])\n",
        "    del dataGenerated\n",
        "\n",
        "augmentedLabels = to_categorical((np.array(augmentedLabels)))\n",
        "\n",
        "augmentedData = np.array(augmentedData)\n",
        "augmentedData = augmentedData.reshape(len(augmentedData), 150, 150, 1)\n",
        "print(augmentedData.shape, augmentedLabels.shape)"
      ],
      "execution_count": null,
      "outputs": [
        {
          "output_type": "stream",
          "text": [
            "(10704, 150, 150, 1) (10704, 2)\n"
          ],
          "name": "stdout"
        }
      ]
    },
    {
      "cell_type": "code",
      "metadata": {
        "id": "pfAWrN6r4dI5",
        "colab": {
          "base_uri": "https://localhost:8080/"
        },
        "outputId": "33acab73-b512-438b-816b-aa525a4b97b0"
      },
      "source": [
        "augmentedData = np.repeat(augmentedData,3, axis = 3)\r\n",
        "\r\n",
        "print('done')"
      ],
      "execution_count": null,
      "outputs": [
        {
          "output_type": "stream",
          "text": [
            "done\n"
          ],
          "name": "stdout"
        }
      ]
    },
    {
      "cell_type": "markdown",
      "metadata": {
        "id": "jid3fUzvYSta"
      },
      "source": [
        "# **Weight calculation for imbalanced dataset**\r\n",
        "See https://www.tensorflow.org/tutorials/structured_data/imbalanced_data"
      ]
    },
    {
      "cell_type": "code",
      "metadata": {
        "id": "sQJvl7e5Z555",
        "colab": {
          "base_uri": "https://localhost:8080/"
        },
        "outputId": "2c0886fa-7585-4927-a851-d56bf7e750ab"
      },
      "source": [
        "weightsBenign = malignantNum / (malignantNum + benignNum)\r\n",
        "weightsMalignant = benignNum / (malignantNum + benignNum) \r\n",
        "\r\n",
        "print(weightsBenign*2)\r\n",
        "print((weightsMalignant + 0.1)*2)\r\n",
        "\r\n",
        "weights = { 0: weightsBenign*2 , 1: (weightsMalignant + 0.1)*2}\r\n"
      ],
      "execution_count": null,
      "outputs": [
        {
          "output_type": "stream",
          "text": [
            "0.828101644245142\n",
            "1.3718983557548579\n"
          ],
          "name": "stdout"
        }
      ]
    },
    {
      "cell_type": "code",
      "metadata": {
        "id": "1IGqha_4jd9G",
        "colab": {
          "base_uri": "https://localhost:8080/"
        },
        "outputId": "fba58ff6-ed34-4c03-8fdc-ad7c5e5b1ca1"
      },
      "source": [
        "weightsBenign = malignantNum / (malignantNum + benignNum)\r\n",
        "weightsMalignant = benignNum / (malignantNum + benignNum) \r\n",
        "\r\n",
        "print(weightsBenign - .05)\r\n",
        "print(weightsMalignant + .05)\r\n",
        "\r\n",
        "weights = { 0: weightsBenign - .05, 1: weightsMalignant + .05}"
      ],
      "execution_count": null,
      "outputs": [
        {
          "output_type": "stream",
          "text": [
            "0.364050822122571\n",
            "0.635949177877429\n"
          ],
          "name": "stdout"
        }
      ]
    },
    {
      "cell_type": "markdown",
      "metadata": {
        "id": "EssBdPx98kUd"
      },
      "source": [
        "### **Weights Scaled by Min**"
      ]
    },
    {
      "cell_type": "code",
      "metadata": {
        "colab": {
          "base_uri": "https://localhost:8080/"
        },
        "id": "nLynQ6os8qU6",
        "outputId": "3e829eb9-e364-460f-babe-7c9b4ae762d5"
      },
      "source": [
        "weightsBenign = malignantNum / min(malignantNum, benignNum)\r\n",
        "weightsMalignant = benignNum / min(malignantNum, benignNum) \r\n",
        "\r\n",
        "print(weightsBenign)\r\n",
        "print(weightsMalignant)\r\n",
        "weights = { 0: weightsBenign, 1: weightsMalignant}"
      ],
      "execution_count": null,
      "outputs": [
        {
          "output_type": "stream",
          "text": [
            "1.0\n",
            "1.4151624548736461\n"
          ],
          "name": "stdout"
        }
      ]
    },
    {
      "cell_type": "code",
      "metadata": {
        "id": "kbTqmOzxOMTE"
      },
      "source": [
        "testSet = np.repeat(testSet, 3, axis = 3)"
      ],
      "execution_count": null,
      "outputs": []
    },
    {
      "cell_type": "markdown",
      "metadata": {
        "id": "XpXk7OQCOjSc"
      },
      "source": [
        "# **VGG16**\r\n",
        "We test VGG16 neural network trained on imagenet dataset, freezing different convolutional layer belonging to different blocks and appending different fully connected neural networks as classifier."
      ]
    },
    {
      "cell_type": "code",
      "metadata": {
        "colab": {
          "base_uri": "https://localhost:8080/",
          "height": 1000
        },
        "id": "LkoBPyCne2C8",
        "outputId": "7943c2a3-ce5b-473c-b79b-e6b1d3a26eda"
      },
      "source": [
        "from tensorflow.keras.applications import VGG16\r\n",
        "\r\n",
        "tf.random.set_seed(7)\r\n",
        "\r\n",
        "#import pretrained model\r\n",
        "conv_base = VGG16(weights='imagenet',\r\n",
        "                  include_top=False,\r\n",
        "                  input_shape=(150, 150, 3))\r\n",
        "\r\n",
        "conv_base.summary()\r\n",
        "\r\n",
        "# Freeze layers\r\n",
        "conv_base.trainable = True\r\n",
        "set_trainable = False\r\n",
        "\r\n",
        "for layer in conv_base.layers:\r\n",
        "    if layer.name == 'block5_conv1':\r\n",
        "        set_trainable = True\r\n",
        "    if set_trainable:\r\n",
        "        layer.trainable = True\r\n",
        "    else:\r\n",
        "        layer.trainable = False\r\n",
        "\r\n",
        "# add fully connected layers as classifier\r\n",
        "VGG16_FT = models.Sequential()\r\n",
        "VGG16_FT.add(conv_base)\r\n",
        "VGG16_FT.add(layers.Flatten())\r\n",
        "VGG16_FT.add(layers.Dense(256, activation='relu'))\r\n",
        "VGG16_FT.add(layers.Dropout(rate=.5))\r\n",
        "VGG16_FT.add(layers.Dense(256, activation='relu'))\r\n",
        "VGG16_FT.add(layers.Dropout(rate=.5))\r\n",
        "VGG16_FT.add(layers.Dense(2, activation='sigmoid'))\r\n",
        "\r\n",
        "\r\n",
        "VGG16_FT.compile(loss='binary_crossentropy',\r\n",
        "              optimizer=optimizers.RMSprop(lr=2e-6),\r\n",
        "              metrics=['accuracy'])\r\n",
        "\r\n",
        "earlyStopCallback = tf.keras.callbacks.EarlyStopping(monitor='val_loss', mode='min', verbose=1, patience=10, restore_best_weights = True)\r\n",
        "\r\n",
        "\r\n",
        "history = VGG16_FT.fit(augmentedData, augmentedLabels, epochs=100, batch_size=32, callbacks=[earlyStopCallback], validation_split=0.2, class_weight = weights)\r\n",
        "\r\n",
        "\r\n",
        "pred = VGG16_FT.predict_classes(testSet)\r\n",
        "print(metrics.classification_report(testLabels, pred))\r\n",
        "test_loss, test_acc = VGG16_FT.evaluate(testSet, testLabelsCategorical)\r\n",
        "print(test_loss, test_acc)\r\n",
        "plot_accurancy_loss(history)\r\n",
        "plot_confusionMatrix(VGG16_FT, testSet, testLabels, classes)\r\n"
      ],
      "execution_count": null,
      "outputs": [
        {
          "output_type": "stream",
          "text": [
            "Downloading data from https://storage.googleapis.com/tensorflow/keras-applications/vgg16/vgg16_weights_tf_dim_ordering_tf_kernels_notop.h5\n",
            "58892288/58889256 [==============================] - 0s 0us/step\n",
            "Model: \"vgg16\"\n",
            "_________________________________________________________________\n",
            "Layer (type)                 Output Shape              Param #   \n",
            "=================================================================\n",
            "input_1 (InputLayer)         [(None, 150, 150, 3)]     0         \n",
            "_________________________________________________________________\n",
            "block1_conv1 (Conv2D)        (None, 150, 150, 64)      1792      \n",
            "_________________________________________________________________\n",
            "block1_conv2 (Conv2D)        (None, 150, 150, 64)      36928     \n",
            "_________________________________________________________________\n",
            "block1_pool (MaxPooling2D)   (None, 75, 75, 64)        0         \n",
            "_________________________________________________________________\n",
            "block2_conv1 (Conv2D)        (None, 75, 75, 128)       73856     \n",
            "_________________________________________________________________\n",
            "block2_conv2 (Conv2D)        (None, 75, 75, 128)       147584    \n",
            "_________________________________________________________________\n",
            "block2_pool (MaxPooling2D)   (None, 37, 37, 128)       0         \n",
            "_________________________________________________________________\n",
            "block3_conv1 (Conv2D)        (None, 37, 37, 256)       295168    \n",
            "_________________________________________________________________\n",
            "block3_conv2 (Conv2D)        (None, 37, 37, 256)       590080    \n",
            "_________________________________________________________________\n",
            "block3_conv3 (Conv2D)        (None, 37, 37, 256)       590080    \n",
            "_________________________________________________________________\n",
            "block3_pool (MaxPooling2D)   (None, 18, 18, 256)       0         \n",
            "_________________________________________________________________\n",
            "block4_conv1 (Conv2D)        (None, 18, 18, 512)       1180160   \n",
            "_________________________________________________________________\n",
            "block4_conv2 (Conv2D)        (None, 18, 18, 512)       2359808   \n",
            "_________________________________________________________________\n",
            "block4_conv3 (Conv2D)        (None, 18, 18, 512)       2359808   \n",
            "_________________________________________________________________\n",
            "block4_pool (MaxPooling2D)   (None, 9, 9, 512)         0         \n",
            "_________________________________________________________________\n",
            "block5_conv1 (Conv2D)        (None, 9, 9, 512)         2359808   \n",
            "_________________________________________________________________\n",
            "block5_conv2 (Conv2D)        (None, 9, 9, 512)         2359808   \n",
            "_________________________________________________________________\n",
            "block5_conv3 (Conv2D)        (None, 9, 9, 512)         2359808   \n",
            "_________________________________________________________________\n",
            "block5_pool (MaxPooling2D)   (None, 4, 4, 512)         0         \n",
            "=================================================================\n",
            "Total params: 14,714,688\n",
            "Trainable params: 14,714,688\n",
            "Non-trainable params: 0\n",
            "_________________________________________________________________\n",
            "Epoch 1/100\n",
            "268/268 [==============================] - 35s 101ms/step - loss: 0.9083 - accuracy: 0.4653 - val_loss: 0.6748 - val_accuracy: 0.6016\n",
            "Epoch 2/100\n",
            "268/268 [==============================] - 25s 95ms/step - loss: 0.8439 - accuracy: 0.5091 - val_loss: 0.6733 - val_accuracy: 0.6497\n",
            "Epoch 3/100\n",
            "268/268 [==============================] - 26s 97ms/step - loss: 0.8200 - accuracy: 0.5216 - val_loss: 0.6611 - val_accuracy: 0.6474\n",
            "Epoch 4/100\n",
            "268/268 [==============================] - 26s 98ms/step - loss: 0.8029 - accuracy: 0.5591 - val_loss: 0.6498 - val_accuracy: 0.6609\n",
            "Epoch 5/100\n",
            "268/268 [==============================] - 27s 100ms/step - loss: 0.7902 - accuracy: 0.5712 - val_loss: 0.6394 - val_accuracy: 0.6651\n",
            "Epoch 6/100\n",
            "268/268 [==============================] - 26s 98ms/step - loss: 0.7759 - accuracy: 0.5932 - val_loss: 0.6322 - val_accuracy: 0.6436\n",
            "Epoch 7/100\n",
            "268/268 [==============================] - 26s 99ms/step - loss: 0.7689 - accuracy: 0.5970 - val_loss: 0.6181 - val_accuracy: 0.6567\n",
            "Epoch 8/100\n",
            "268/268 [==============================] - 27s 100ms/step - loss: 0.7592 - accuracy: 0.6046 - val_loss: 0.6065 - val_accuracy: 0.6576\n",
            "Epoch 9/100\n",
            "268/268 [==============================] - 27s 99ms/step - loss: 0.7473 - accuracy: 0.6224 - val_loss: 0.6178 - val_accuracy: 0.6235\n",
            "Epoch 10/100\n",
            "268/268 [==============================] - 26s 98ms/step - loss: 0.7405 - accuracy: 0.6231 - val_loss: 0.5945 - val_accuracy: 0.6632\n",
            "Epoch 11/100\n",
            "268/268 [==============================] - 27s 100ms/step - loss: 0.7325 - accuracy: 0.6388 - val_loss: 0.5917 - val_accuracy: 0.6651\n",
            "Epoch 12/100\n",
            "268/268 [==============================] - 27s 100ms/step - loss: 0.7332 - accuracy: 0.6300 - val_loss: 0.5841 - val_accuracy: 0.6642\n",
            "Epoch 13/100\n",
            "268/268 [==============================] - 27s 100ms/step - loss: 0.7251 - accuracy: 0.6399 - val_loss: 0.5915 - val_accuracy: 0.6530\n",
            "Epoch 14/100\n",
            "268/268 [==============================] - 27s 100ms/step - loss: 0.7229 - accuracy: 0.6441 - val_loss: 0.5828 - val_accuracy: 0.6646\n",
            "Epoch 15/100\n",
            "268/268 [==============================] - 27s 99ms/step - loss: 0.7208 - accuracy: 0.6352 - val_loss: 0.5853 - val_accuracy: 0.6586\n",
            "Epoch 16/100\n",
            "268/268 [==============================] - 27s 99ms/step - loss: 0.7112 - accuracy: 0.6511 - val_loss: 0.5806 - val_accuracy: 0.6637\n",
            "Epoch 17/100\n",
            "268/268 [==============================] - 27s 99ms/step - loss: 0.7145 - accuracy: 0.6476 - val_loss: 0.5728 - val_accuracy: 0.6815\n",
            "Epoch 18/100\n",
            "268/268 [==============================] - 27s 99ms/step - loss: 0.7061 - accuracy: 0.6501 - val_loss: 0.5904 - val_accuracy: 0.6441\n",
            "Epoch 19/100\n",
            "268/268 [==============================] - 27s 99ms/step - loss: 0.7022 - accuracy: 0.6529 - val_loss: 0.5846 - val_accuracy: 0.6576\n",
            "Epoch 20/100\n",
            "268/268 [==============================] - 27s 99ms/step - loss: 0.7009 - accuracy: 0.6601 - val_loss: 0.5654 - val_accuracy: 0.6917\n",
            "Epoch 21/100\n",
            "268/268 [==============================] - 27s 99ms/step - loss: 0.6978 - accuracy: 0.6517 - val_loss: 0.5664 - val_accuracy: 0.6871\n",
            "Epoch 22/100\n",
            "268/268 [==============================] - 27s 99ms/step - loss: 0.6967 - accuracy: 0.6583 - val_loss: 0.5720 - val_accuracy: 0.6688\n",
            "Epoch 23/100\n",
            "268/268 [==============================] - 27s 99ms/step - loss: 0.6878 - accuracy: 0.6649 - val_loss: 0.5687 - val_accuracy: 0.6740\n",
            "Epoch 24/100\n",
            "268/268 [==============================] - 27s 99ms/step - loss: 0.6856 - accuracy: 0.6704 - val_loss: 0.5573 - val_accuracy: 0.6927\n",
            "Epoch 25/100\n",
            "268/268 [==============================] - 27s 99ms/step - loss: 0.6872 - accuracy: 0.6764 - val_loss: 0.5615 - val_accuracy: 0.6931\n",
            "Epoch 26/100\n",
            "268/268 [==============================] - 27s 100ms/step - loss: 0.6781 - accuracy: 0.6772 - val_loss: 0.5664 - val_accuracy: 0.6801\n",
            "Epoch 27/100\n",
            "268/268 [==============================] - 27s 99ms/step - loss: 0.6782 - accuracy: 0.6786 - val_loss: 0.5574 - val_accuracy: 0.7025\n",
            "Epoch 28/100\n",
            "268/268 [==============================] - 26s 99ms/step - loss: 0.6736 - accuracy: 0.6739 - val_loss: 0.5580 - val_accuracy: 0.6969\n",
            "Epoch 29/100\n",
            "268/268 [==============================] - 27s 99ms/step - loss: 0.6717 - accuracy: 0.6831 - val_loss: 0.5588 - val_accuracy: 0.6936\n",
            "Epoch 30/100\n",
            "268/268 [==============================] - 27s 99ms/step - loss: 0.6753 - accuracy: 0.6776 - val_loss: 0.5581 - val_accuracy: 0.6973\n",
            "Epoch 31/100\n",
            "268/268 [==============================] - 27s 99ms/step - loss: 0.6699 - accuracy: 0.6860 - val_loss: 0.5577 - val_accuracy: 0.6936\n",
            "Epoch 32/100\n",
            "268/268 [==============================] - 27s 99ms/step - loss: 0.6679 - accuracy: 0.6929 - val_loss: 0.5527 - val_accuracy: 0.7011\n",
            "Epoch 33/100\n",
            "268/268 [==============================] - 26s 99ms/step - loss: 0.6685 - accuracy: 0.6806 - val_loss: 0.5549 - val_accuracy: 0.6969\n",
            "Epoch 34/100\n",
            "268/268 [==============================] - 27s 99ms/step - loss: 0.6683 - accuracy: 0.6859 - val_loss: 0.5497 - val_accuracy: 0.7034\n",
            "Epoch 35/100\n",
            "268/268 [==============================] - 27s 99ms/step - loss: 0.6556 - accuracy: 0.6979 - val_loss: 0.5627 - val_accuracy: 0.6875\n",
            "Epoch 36/100\n",
            "268/268 [==============================] - 26s 99ms/step - loss: 0.6576 - accuracy: 0.6955 - val_loss: 0.5746 - val_accuracy: 0.6698\n",
            "Epoch 37/100\n",
            "268/268 [==============================] - 27s 99ms/step - loss: 0.6633 - accuracy: 0.6875 - val_loss: 0.5537 - val_accuracy: 0.6983\n",
            "Epoch 38/100\n",
            "268/268 [==============================] - 27s 99ms/step - loss: 0.6505 - accuracy: 0.7059 - val_loss: 0.5653 - val_accuracy: 0.6819\n",
            "Epoch 39/100\n",
            "268/268 [==============================] - 27s 99ms/step - loss: 0.6460 - accuracy: 0.6981 - val_loss: 0.5568 - val_accuracy: 0.6936\n",
            "Epoch 40/100\n",
            "268/268 [==============================] - 27s 99ms/step - loss: 0.6553 - accuracy: 0.6920 - val_loss: 0.5503 - val_accuracy: 0.7015\n",
            "Epoch 41/100\n",
            "268/268 [==============================] - 27s 99ms/step - loss: 0.6489 - accuracy: 0.6995 - val_loss: 0.5560 - val_accuracy: 0.6964\n",
            "Epoch 42/100\n",
            "268/268 [==============================] - 26s 99ms/step - loss: 0.6316 - accuracy: 0.7164 - val_loss: 0.5770 - val_accuracy: 0.6684\n",
            "Epoch 43/100\n",
            "268/268 [==============================] - 27s 99ms/step - loss: 0.6395 - accuracy: 0.7057 - val_loss: 0.5594 - val_accuracy: 0.6899\n",
            "Epoch 44/100\n",
            "268/268 [==============================] - 27s 99ms/step - loss: 0.6435 - accuracy: 0.6983 - val_loss: 0.5462 - val_accuracy: 0.7118\n",
            "Epoch 45/100\n",
            "268/268 [==============================] - 27s 100ms/step - loss: 0.6386 - accuracy: 0.7101 - val_loss: 0.5473 - val_accuracy: 0.7104\n",
            "Epoch 46/100\n",
            "268/268 [==============================] - 26s 99ms/step - loss: 0.6372 - accuracy: 0.7131 - val_loss: 0.5472 - val_accuracy: 0.7104\n",
            "Epoch 47/100\n",
            "268/268 [==============================] - 27s 100ms/step - loss: 0.6280 - accuracy: 0.7206 - val_loss: 0.5571 - val_accuracy: 0.6922\n",
            "Epoch 48/100\n",
            "268/268 [==============================] - 27s 99ms/step - loss: 0.6231 - accuracy: 0.7166 - val_loss: 0.5556 - val_accuracy: 0.6908\n",
            "Epoch 49/100\n",
            "268/268 [==============================] - 27s 99ms/step - loss: 0.6354 - accuracy: 0.7101 - val_loss: 0.5624 - val_accuracy: 0.6843\n",
            "Epoch 50/100\n",
            "268/268 [==============================] - 27s 99ms/step - loss: 0.6358 - accuracy: 0.7082 - val_loss: 0.5574 - val_accuracy: 0.6927\n",
            "Epoch 51/100\n",
            "268/268 [==============================] - 26s 99ms/step - loss: 0.6233 - accuracy: 0.7255 - val_loss: 0.5495 - val_accuracy: 0.7001\n",
            "Epoch 52/100\n",
            "268/268 [==============================] - 27s 99ms/step - loss: 0.6152 - accuracy: 0.7281 - val_loss: 0.5522 - val_accuracy: 0.7067\n",
            "Epoch 53/100\n",
            "268/268 [==============================] - 27s 100ms/step - loss: 0.6194 - accuracy: 0.7281 - val_loss: 0.5583 - val_accuracy: 0.6936\n",
            "Epoch 54/100\n",
            "268/268 [==============================] - 27s 99ms/step - loss: 0.6104 - accuracy: 0.7217 - val_loss: 0.5432 - val_accuracy: 0.7142\n",
            "Epoch 55/100\n",
            "268/268 [==============================] - 27s 99ms/step - loss: 0.6171 - accuracy: 0.7192 - val_loss: 0.5509 - val_accuracy: 0.7090\n",
            "Epoch 56/100\n",
            "268/268 [==============================] - 27s 99ms/step - loss: 0.6116 - accuracy: 0.7333 - val_loss: 0.5591 - val_accuracy: 0.6931\n",
            "Epoch 57/100\n",
            "268/268 [==============================] - 27s 99ms/step - loss: 0.6137 - accuracy: 0.7209 - val_loss: 0.5479 - val_accuracy: 0.7179\n",
            "Epoch 58/100\n",
            "268/268 [==============================] - 27s 99ms/step - loss: 0.6121 - accuracy: 0.7272 - val_loss: 0.5748 - val_accuracy: 0.6759\n",
            "Epoch 59/100\n",
            "268/268 [==============================] - 27s 99ms/step - loss: 0.6127 - accuracy: 0.7227 - val_loss: 0.5464 - val_accuracy: 0.7179\n",
            "Epoch 60/100\n",
            "268/268 [==============================] - 27s 99ms/step - loss: 0.6001 - accuracy: 0.7311 - val_loss: 0.5424 - val_accuracy: 0.7184\n",
            "Epoch 61/100\n",
            "268/268 [==============================] - 27s 99ms/step - loss: 0.5914 - accuracy: 0.7393 - val_loss: 0.5493 - val_accuracy: 0.7071\n",
            "Epoch 62/100\n",
            "268/268 [==============================] - 26s 99ms/step - loss: 0.6089 - accuracy: 0.7288 - val_loss: 0.5467 - val_accuracy: 0.7151\n",
            "Epoch 63/100\n",
            "268/268 [==============================] - 27s 99ms/step - loss: 0.6085 - accuracy: 0.7255 - val_loss: 0.5564 - val_accuracy: 0.6987\n",
            "Epoch 64/100\n",
            "268/268 [==============================] - 27s 99ms/step - loss: 0.5907 - accuracy: 0.7364 - val_loss: 0.5458 - val_accuracy: 0.7146\n",
            "Epoch 65/100\n",
            "268/268 [==============================] - 27s 99ms/step - loss: 0.5865 - accuracy: 0.7418 - val_loss: 0.5541 - val_accuracy: 0.7025\n",
            "Epoch 66/100\n",
            "268/268 [==============================] - 27s 99ms/step - loss: 0.5887 - accuracy: 0.7407 - val_loss: 0.5442 - val_accuracy: 0.7202\n",
            "Epoch 67/100\n",
            "268/268 [==============================] - 27s 100ms/step - loss: 0.5869 - accuracy: 0.7448 - val_loss: 0.5490 - val_accuracy: 0.7165\n",
            "Epoch 68/100\n",
            "268/268 [==============================] - 27s 99ms/step - loss: 0.5774 - accuracy: 0.7489 - val_loss: 0.5464 - val_accuracy: 0.7142\n",
            "Epoch 69/100\n",
            "268/268 [==============================] - 26s 99ms/step - loss: 0.5818 - accuracy: 0.7461 - val_loss: 0.5511 - val_accuracy: 0.7081\n",
            "Epoch 70/100\n",
            "268/268 [==============================] - 27s 99ms/step - loss: 0.5818 - accuracy: 0.7482 - val_loss: 0.5540 - val_accuracy: 0.7034\n",
            "Restoring model weights from the end of the best epoch.\n",
            "Epoch 00070: early stopping\n"
          ],
          "name": "stdout"
        },
        {
          "output_type": "stream",
          "text": [
            "/usr/local/lib/python3.6/dist-packages/tensorflow/python/keras/engine/sequential.py:450: UserWarning: `model.predict_classes()` is deprecated and will be removed after 2021-01-01. Please use instead:* `np.argmax(model.predict(x), axis=-1)`,   if your model does multi-class classification   (e.g. if it uses a `softmax` last-layer activation).* `(model.predict(x) > 0.5).astype(\"int32\")`,   if your model does binary classification   (e.g. if it uses a `sigmoid` last-layer activation).\n",
            "  warnings.warn('`model.predict_classes()` is deprecated and '\n"
          ],
          "name": "stderr"
        },
        {
          "output_type": "stream",
          "text": [
            "              precision    recall  f1-score   support\n",
            "\n",
            "           0       0.77      0.72      0.74       219\n",
            "           1       0.53      0.59      0.56       117\n",
            "\n",
            "    accuracy                           0.68       336\n",
            "   macro avg       0.65      0.66      0.65       336\n",
            "weighted avg       0.68      0.68      0.68       336\n",
            "\n",
            "11/11 [==============================] - 1s 63ms/step - loss: 0.6062 - accuracy: 0.6756\n",
            "0.6061991453170776 0.675595223903656\n"
          ],
          "name": "stdout"
        },
        {
          "output_type": "display_data",
          "data": {
            "image/png": "[encoded data removed]",
            "text/plain": [
              "<Figure size 432x288 with 1 Axes>"
            ]
          },
          "metadata": {
            "tags": [],
            "needs_background": "light"
          }
        },
        {
          "output_type": "display_data",
          "data": {
            "image/png": "[encoded data removed]",
            "text/plain": [
              "<Figure size 432x288 with 1 Axes>"
            ]
          },
          "metadata": {
            "tags": [],
            "needs_background": "light"
          }
        },
        {
          "output_type": "stream",
          "text": [
            "[0 1]\n",
            "Normalized confusion matrix\n"
          ],
          "name": "stdout"
        },
        {
          "output_type": "display_data",
          "data": {
            "image/png": "[encoded data removed]",
            "text/plain": [
              "<Figure size 432x288 with 2 Axes>"
            ]
          },
          "metadata": {
            "tags": [],
            "needs_background": "light"
          }
        }
      ]
    },
    {
      "cell_type": "code",
      "metadata": {
        "colab": {
          "base_uri": "https://localhost:8080/"
        },
        "id": "H3PJWAXROdYB",
        "outputId": "a3280941-cddc-44ba-843d-479adc82d402"
      },
      "source": [
        "VGG16_FT.save(os.path.join(projectPath + dir_name,\"model1.h5\")) \r\n",
        "\r\n",
        "print('done')"
      ],
      "execution_count": null,
      "outputs": [
        {
          "output_type": "stream",
          "text": [
            "done\n"
          ],
          "name": "stdout"
        }
      ]
    },
    {
      "cell_type": "markdown",
      "metadata": {
        "id": "x5TIg4M3Yos0"
      },
      "source": [
        "# **VGG16-Feature Extraction**"
      ]
    },
    {
      "cell_type": "code",
      "metadata": {
        "id": "jg72UNurYuKU"
      },
      "source": [
        "from tensorflow.keras.applications import VGG16\r\n",
        "\r\n",
        "tf.random.set_seed(7)\r\n",
        "\r\n",
        "#import pretrained model\r\n",
        "conv_base = VGG16(weights='imagenet',\r\n",
        "                  include_top=False,\r\n",
        "                  input_shape=(150, 150, 3))\r\n",
        "\r\n",
        "conv_base.summary()\r\n",
        "conv_base.trainable = False\r\n",
        "\r\n",
        "# add fully connected layers as classifier\r\n",
        "VGG16_FE = models.Sequential()\r\n",
        "VGG16_FE.add(conv_base)\r\n",
        "VGG16_FE.add(layers.Flatten())\r\n",
        "VGG16_FE.add(layers.Dense(256, activation='relu'))\r\n",
        "VGG16_FE.add(layers.Dropout(rate=.5))\r\n",
        "VGG16_FE.add(layers.Dense(256, activation='relu'))\r\n",
        "VGG16_FE.add(layers.Dropout(rate=.5))\r\n",
        "VGG16_FE.add(layers.Dense(2, activation='sigmoid'))\r\n",
        "\r\n",
        "\r\n",
        "VGG16_FE.compile(loss='binary_crossentropy',\r\n",
        "              optimizer=optimizers.RMSprop(lr=2e-5),\r\n",
        "              metrics=['accuracy'])\r\n",
        "\r\n",
        "earlyStopCallback = tf.keras.callbacks.EarlyStopping(monitor='val_loss', mode='min', verbose=1, patience=10, restore_best_weights = True)\r\n",
        "\r\n",
        "history = VGG16_FE.fit(augmentedData, augmentedLabels, epochs=100, batch_size=32, callbacks=[earlyStopCallback], validation_split=0.2, class_weight = weights)\r\n",
        "\r\n",
        "pred = VGG16_FE.predict_classes(testSet)\r\n",
        "print(metrics.classification_report(testLabels, pred))\r\n",
        "test_loss, test_acc = VGG16_FE.evaluate(testSet, testLabelsCategorical)\r\n",
        "print(test_loss, test_acc)\r\n",
        "plot_accurancy_loss(history)\r\n",
        "plot_confusionMatrix(VGG16_FE, testSet, testLabels, classes)\r\n",
        "\r\n"
      ],
      "execution_count": null,
      "outputs": []
    },
    {
      "cell_type": "code",
      "metadata": {
        "id": "5FsmFAO1CUfT"
      },
      "source": [
        "models = [VGG16_FT, VGG16_FE]\r\n",
        "\r\n",
        "plotRocCurves(models, testSet, testLabels, ['VGG16_FineTuning', 'VGG16_FeatureExtraction'])"
      ],
      "execution_count": null,
      "outputs": []
    },
    {
      "cell_type": "markdown",
      "metadata": {
        "id": "-lFlq0IxfYRx"
      },
      "source": [
        "# **VGG19**"
      ]
    },
    {
      "cell_type": "code",
      "metadata": {
        "colab": {
          "base_uri": "https://localhost:8080/",
          "height": 1000
        },
        "id": "5m6QZ23I5eLM",
        "outputId": "d0ccb094-92e4-4afd-b77c-ab62d229bf1f"
      },
      "source": [
        "from tensorflow.keras.applications import VGG19\r\n",
        "\r\n",
        "tf.random.set_seed(7)\r\n",
        "\r\n",
        "#import pretrained model\r\n",
        "conv_base = VGG19(weights='imagenet',\r\n",
        "                  include_top=False,\r\n",
        "                  input_shape=(150, 150, 3))\r\n",
        "\r\n",
        "conv_base.summary()\r\n",
        "\r\n",
        "# Freeze layers\r\n",
        "conv_base.trainable = True\r\n",
        "set_trainable = False\r\n",
        "\r\n",
        "for layer in conv_base.layers:\r\n",
        "    if layer.name == 'block5_conv1':\r\n",
        "        set_trainable = True\r\n",
        "    if set_trainable:\r\n",
        "        layer.trainable = True\r\n",
        "    else:\r\n",
        "        layer.trainable = False\r\n",
        "        \r\n",
        "# add fully connected layers as classifier\r\n",
        "VGG19_FT = models.Sequential()\r\n",
        "VGG19_FT.add(conv_base)\r\n",
        "VGG19_FT.add(layers.Flatten())\r\n",
        "VGG19_FT.add(layers.Dense(256, activation='relu'))\r\n",
        "VGG19_FT.add(layers.Dropout(rate=.5))\r\n",
        "VGG19_FT.add(layers.Dense(256, activation='relu'))\r\n",
        "VGG19_FT.add(layers.Dropout(rate=.5))\r\n",
        "VGG19_FT.add(layers.Dense(2, activation='sigmoid'))\r\n",
        "\r\n",
        "\r\n",
        "VGG19_FT.compile(loss='binary_crossentropy',\r\n",
        "              optimizer=optimizers.RMSprop(lr=2e-6),\r\n",
        "              metrics=['accuracy'])\r\n",
        "\r\n",
        "earlyStopCallback = tf.keras.callbacks.EarlyStopping(monitor='val_loss', mode='min', verbose=1, patience=10, restore_best_weights = True)\r\n",
        "\r\n",
        "history = VGG19_FT.fit(augmentedData, augmentedLabels, epochs=100, callbacks=[earlyStopCallback], batch_size=32, validation_split=0.2, class_weight = weights)\r\n",
        "\r\n",
        "pred = VGG19_FT.predict_classes(testSet)\r\n",
        "print(metrics.classification_report(testLabels, pred))\r\n",
        "test_loss, test_acc = VGG19_FT.evaluate(testSet, testLabelsCategorical)\r\n",
        "print(test_loss, test_acc)\r\n",
        "plot_accurancy_loss(history)\r\n",
        "plot_confusionMatrix(VGG19_FT, testSet, testLabels, classes)\r\n"
      ],
      "execution_count": null,
      "outputs": [
        {
          "output_type": "stream",
          "text": [
            "Downloading data from https://storage.googleapis.com/tensorflow/keras-applications/vgg19/vgg19_weights_tf_dim_ordering_tf_kernels_notop.h5\n",
            "80142336/80134624 [==============================] - 0s 0us/step\n",
            "Model: \"vgg19\"\n",
            "_________________________________________________________________\n",
            "Layer (type)                 Output Shape              Param #   \n",
            "=================================================================\n",
            "input_2 (InputLayer)         [(None, 150, 150, 3)]     0         \n",
            "_________________________________________________________________\n",
            "block1_conv1 (Conv2D)        (None, 150, 150, 64)      1792      \n",
            "_________________________________________________________________\n",
            "block1_conv2 (Conv2D)        (None, 150, 150, 64)      36928     \n",
            "_________________________________________________________________\n",
            "block1_pool (MaxPooling2D)   (None, 75, 75, 64)        0         \n",
            "_________________________________________________________________\n",
            "block2_conv1 (Conv2D)        (None, 75, 75, 128)       73856     \n",
            "_________________________________________________________________\n",
            "block2_conv2 (Conv2D)        (None, 75, 75, 128)       147584    \n",
            "_________________________________________________________________\n",
            "block2_pool (MaxPooling2D)   (None, 37, 37, 128)       0         \n",
            "_________________________________________________________________\n",
            "block3_conv1 (Conv2D)        (None, 37, 37, 256)       295168    \n",
            "_________________________________________________________________\n",
            "block3_conv2 (Conv2D)        (None, 37, 37, 256)       590080    \n",
            "_________________________________________________________________\n",
            "block3_conv3 (Conv2D)        (None, 37, 37, 256)       590080    \n",
            "_________________________________________________________________\n",
            "block3_conv4 (Conv2D)        (None, 37, 37, 256)       590080    \n",
            "_________________________________________________________________\n",
            "block3_pool (MaxPooling2D)   (None, 18, 18, 256)       0         \n",
            "_________________________________________________________________\n",
            "block4_conv1 (Conv2D)        (None, 18, 18, 512)       1180160   \n",
            "_________________________________________________________________\n",
            "block4_conv2 (Conv2D)        (None, 18, 18, 512)       2359808   \n",
            "_________________________________________________________________\n",
            "block4_conv3 (Conv2D)        (None, 18, 18, 512)       2359808   \n",
            "_________________________________________________________________\n",
            "block4_conv4 (Conv2D)        (None, 18, 18, 512)       2359808   \n",
            "_________________________________________________________________\n",
            "block4_pool (MaxPooling2D)   (None, 9, 9, 512)         0         \n",
            "_________________________________________________________________\n",
            "block5_conv1 (Conv2D)        (None, 9, 9, 512)         2359808   \n",
            "_________________________________________________________________\n",
            "block5_conv2 (Conv2D)        (None, 9, 9, 512)         2359808   \n",
            "_________________________________________________________________\n",
            "block5_conv3 (Conv2D)        (None, 9, 9, 512)         2359808   \n",
            "_________________________________________________________________\n",
            "block5_conv4 (Conv2D)        (None, 9, 9, 512)         2359808   \n",
            "_________________________________________________________________\n",
            "block5_pool (MaxPooling2D)   (None, 4, 4, 512)         0         \n",
            "=================================================================\n",
            "Total params: 20,024,384\n",
            "Trainable params: 20,024,384\n",
            "Non-trainable params: 0\n",
            "_________________________________________________________________\n",
            "Epoch 1/100\n",
            "268/268 [==============================] - 35s 126ms/step - loss: 0.9290 - accuracy: 0.5227 - val_loss: 0.6814 - val_accuracy: 0.6586\n",
            "Epoch 2/100\n",
            "268/268 [==============================] - 33s 124ms/step - loss: 0.8467 - accuracy: 0.5261 - val_loss: 0.6791 - val_accuracy: 0.5722\n",
            "Epoch 3/100\n",
            "268/268 [==============================] - 33s 124ms/step - loss: 0.8152 - accuracy: 0.5451 - val_loss: 0.6608 - val_accuracy: 0.6333\n",
            "Epoch 4/100\n",
            "268/268 [==============================] - 33s 124ms/step - loss: 0.7928 - accuracy: 0.5804 - val_loss: 0.6502 - val_accuracy: 0.6254\n",
            "Epoch 5/100\n",
            "268/268 [==============================] - 33s 124ms/step - loss: 0.7743 - accuracy: 0.6088 - val_loss: 0.6208 - val_accuracy: 0.6572\n",
            "Epoch 6/100\n",
            "268/268 [==============================] - 33s 124ms/step - loss: 0.7587 - accuracy: 0.6268 - val_loss: 0.6177 - val_accuracy: 0.6567\n",
            "Epoch 7/100\n",
            "268/268 [==============================] - 33s 124ms/step - loss: 0.7459 - accuracy: 0.6253 - val_loss: 0.6067 - val_accuracy: 0.6642\n",
            "Epoch 8/100\n",
            "268/268 [==============================] - 33s 124ms/step - loss: 0.7443 - accuracy: 0.6209 - val_loss: 0.5943 - val_accuracy: 0.6726\n",
            "Epoch 9/100\n",
            "268/268 [==============================] - 33s 124ms/step - loss: 0.7232 - accuracy: 0.6437 - val_loss: 0.6117 - val_accuracy: 0.6352\n",
            "Epoch 10/100\n",
            "268/268 [==============================] - 33s 124ms/step - loss: 0.7283 - accuracy: 0.6414 - val_loss: 0.5859 - val_accuracy: 0.6712\n",
            "Epoch 11/100\n",
            "268/268 [==============================] - 33s 124ms/step - loss: 0.7199 - accuracy: 0.6530 - val_loss: 0.5815 - val_accuracy: 0.6745\n",
            "Epoch 12/100\n",
            "268/268 [==============================] - 33s 124ms/step - loss: 0.7190 - accuracy: 0.6511 - val_loss: 0.5785 - val_accuracy: 0.6749\n",
            "Epoch 13/100\n",
            "268/268 [==============================] - 33s 124ms/step - loss: 0.7180 - accuracy: 0.6527 - val_loss: 0.5935 - val_accuracy: 0.6506\n",
            "Epoch 14/100\n",
            "268/268 [==============================] - 33s 125ms/step - loss: 0.7045 - accuracy: 0.6554 - val_loss: 0.5797 - val_accuracy: 0.6665\n",
            "Epoch 15/100\n",
            "268/268 [==============================] - 33s 124ms/step - loss: 0.7122 - accuracy: 0.6457 - val_loss: 0.5801 - val_accuracy: 0.6642\n",
            "Epoch 16/100\n",
            "268/268 [==============================] - 33s 124ms/step - loss: 0.6985 - accuracy: 0.6693 - val_loss: 0.5756 - val_accuracy: 0.6735\n",
            "Epoch 17/100\n",
            "268/268 [==============================] - 33s 124ms/step - loss: 0.7057 - accuracy: 0.6659 - val_loss: 0.5694 - val_accuracy: 0.6857\n",
            "Epoch 18/100\n",
            "268/268 [==============================] - 33s 124ms/step - loss: 0.7008 - accuracy: 0.6723 - val_loss: 0.5950 - val_accuracy: 0.6464\n",
            "Epoch 19/100\n",
            "268/268 [==============================] - 33s 124ms/step - loss: 0.6954 - accuracy: 0.6674 - val_loss: 0.5844 - val_accuracy: 0.6576\n",
            "Epoch 20/100\n",
            "268/268 [==============================] - 33s 124ms/step - loss: 0.6901 - accuracy: 0.6750 - val_loss: 0.5664 - val_accuracy: 0.6889\n",
            "Epoch 21/100\n",
            "268/268 [==============================] - 33s 124ms/step - loss: 0.6925 - accuracy: 0.6631 - val_loss: 0.5798 - val_accuracy: 0.6693\n",
            "Epoch 22/100\n",
            "268/268 [==============================] - 33s 124ms/step - loss: 0.6891 - accuracy: 0.6692 - val_loss: 0.5707 - val_accuracy: 0.6796\n",
            "Epoch 23/100\n",
            "268/268 [==============================] - 33s 124ms/step - loss: 0.6860 - accuracy: 0.6687 - val_loss: 0.5723 - val_accuracy: 0.6730\n",
            "Epoch 24/100\n",
            "268/268 [==============================] - 33s 124ms/step - loss: 0.6787 - accuracy: 0.6799 - val_loss: 0.5640 - val_accuracy: 0.6885\n",
            "Epoch 25/100\n",
            "268/268 [==============================] - 33s 124ms/step - loss: 0.6800 - accuracy: 0.6864 - val_loss: 0.5627 - val_accuracy: 0.6913\n",
            "Epoch 26/100\n",
            "268/268 [==============================] - 33s 124ms/step - loss: 0.6765 - accuracy: 0.6793 - val_loss: 0.5688 - val_accuracy: 0.6871\n",
            "Epoch 27/100\n",
            "268/268 [==============================] - 33s 124ms/step - loss: 0.6784 - accuracy: 0.6780 - val_loss: 0.5603 - val_accuracy: 0.6917\n",
            "Epoch 28/100\n",
            "268/268 [==============================] - 33s 124ms/step - loss: 0.6808 - accuracy: 0.6786 - val_loss: 0.5680 - val_accuracy: 0.6880\n",
            "Epoch 29/100\n",
            "268/268 [==============================] - 33s 124ms/step - loss: 0.6663 - accuracy: 0.6934 - val_loss: 0.5604 - val_accuracy: 0.6978\n",
            "Epoch 30/100\n",
            "268/268 [==============================] - 33s 124ms/step - loss: 0.6781 - accuracy: 0.6876 - val_loss: 0.5678 - val_accuracy: 0.6941\n",
            "Epoch 31/100\n",
            "268/268 [==============================] - 33s 124ms/step - loss: 0.6721 - accuracy: 0.6845 - val_loss: 0.5692 - val_accuracy: 0.6857\n",
            "Epoch 32/100\n",
            "268/268 [==============================] - 33s 124ms/step - loss: 0.6688 - accuracy: 0.6887 - val_loss: 0.5556 - val_accuracy: 0.6987\n",
            "Epoch 33/100\n",
            "268/268 [==============================] - 33s 124ms/step - loss: 0.6690 - accuracy: 0.6747 - val_loss: 0.5600 - val_accuracy: 0.6997\n",
            "Epoch 34/100\n",
            "268/268 [==============================] - 33s 125ms/step - loss: 0.6668 - accuracy: 0.6855 - val_loss: 0.5563 - val_accuracy: 0.6997\n",
            "Epoch 35/100\n",
            "268/268 [==============================] - 33s 125ms/step - loss: 0.6586 - accuracy: 0.6918 - val_loss: 0.5741 - val_accuracy: 0.6815\n",
            "Epoch 36/100\n",
            "268/268 [==============================] - 33s 125ms/step - loss: 0.6527 - accuracy: 0.6913 - val_loss: 0.5884 - val_accuracy: 0.6651\n",
            "Epoch 37/100\n",
            "268/268 [==============================] - 33s 125ms/step - loss: 0.6623 - accuracy: 0.6896 - val_loss: 0.5608 - val_accuracy: 0.7025\n",
            "Epoch 38/100\n",
            "268/268 [==============================] - 33s 124ms/step - loss: 0.6553 - accuracy: 0.6939 - val_loss: 0.5794 - val_accuracy: 0.6730\n",
            "Epoch 39/100\n",
            "268/268 [==============================] - 33s 124ms/step - loss: 0.6506 - accuracy: 0.6902 - val_loss: 0.5634 - val_accuracy: 0.6983\n",
            "Epoch 40/100\n",
            "268/268 [==============================] - 33s 124ms/step - loss: 0.6518 - accuracy: 0.6959 - val_loss: 0.5600 - val_accuracy: 0.7053\n",
            "Epoch 41/100\n",
            "268/268 [==============================] - 33s 124ms/step - loss: 0.6551 - accuracy: 0.6965 - val_loss: 0.5672 - val_accuracy: 0.6922\n",
            "Epoch 42/100\n",
            "268/268 [==============================] - 33s 124ms/step - loss: 0.6420 - accuracy: 0.7044 - val_loss: 0.5909 - val_accuracy: 0.6632\n",
            "Restoring model weights from the end of the best epoch.\n",
            "Epoch 00042: early stopping\n"
          ],
          "name": "stdout"
        },
        {
          "output_type": "stream",
          "text": [
            "/usr/local/lib/python3.6/dist-packages/tensorflow/python/keras/engine/sequential.py:450: UserWarning: `model.predict_classes()` is deprecated and will be removed after 2021-01-01. Please use instead:* `np.argmax(model.predict(x), axis=-1)`,   if your model does multi-class classification   (e.g. if it uses a `softmax` last-layer activation).* `(model.predict(x) > 0.5).astype(\"int32\")`,   if your model does binary classification   (e.g. if it uses a `sigmoid` last-layer activation).\n",
            "  warnings.warn('`model.predict_classes()` is deprecated and '\n"
          ],
          "name": "stderr"
        },
        {
          "output_type": "stream",
          "text": [
            "              precision    recall  f1-score   support\n",
            "\n",
            "           0       0.74      0.75      0.75       219\n",
            "           1       0.52      0.51      0.52       117\n",
            "\n",
            "    accuracy                           0.67       336\n",
            "   macro avg       0.63      0.63      0.63       336\n",
            "weighted avg       0.67      0.67      0.67       336\n",
            "\n",
            "11/11 [==============================] - 1s 78ms/step - loss: 0.6144 - accuracy: 0.6667\n",
            "0.6143831014633179 0.6666666865348816\n"
          ],
          "name": "stdout"
        },
        {
          "output_type": "display_data",
          "data": {
            "image/png": "[encoded data removed]",
            "text/plain": [
              "<Figure size 432x288 with 1 Axes>"
            ]
          },
          "metadata": {
            "tags": [],
            "needs_background": "light"
          }
        },
        {
          "output_type": "display_data",
          "data": {
            "image/png": "[encoded data removed]",
            "text/plain": [
              "<Figure size 432x288 with 1 Axes>"
            ]
          },
          "metadata": {
            "tags": [],
            "needs_background": "light"
          }
        },
        {
          "output_type": "stream",
          "text": [
            "[0 1]\n",
            "Normalized confusion matrix\n"
          ],
          "name": "stdout"
        },
        {
          "output_type": "display_data",
          "data": {
            "image/png": "[encoded data removed]",
            "text/plain": [
              "<Figure size 432x288 with 2 Axes>"
            ]
          },
          "metadata": {
            "tags": [],
            "needs_background": "light"
          }
        }
      ]
    },
    {
      "cell_type": "code",
      "metadata": {
        "colab": {
          "base_uri": "https://localhost:8080/"
        },
        "id": "i9l9lm-7OvaA",
        "outputId": "7eff58b8-4776-4007-8f01-6340f6a1127c"
      },
      "source": [
        "VGG19_FT.save(os.path.join(projectPath + dir_name,\"model2.h5\")) \r\n",
        "\r\n",
        "print('done')"
      ],
      "execution_count": null,
      "outputs": [
        {
          "output_type": "stream",
          "text": [
            "done\n"
          ],
          "name": "stdout"
        }
      ]
    },
    {
      "cell_type": "markdown",
      "metadata": {
        "id": "zj5s2Q1SaKHI"
      },
      "source": [
        "# **VGG19-Feature Extraction**"
      ]
    },
    {
      "cell_type": "code",
      "metadata": {
        "id": "zLU-pLquaPQU"
      },
      "source": [
        "from tensorflow.keras.applications import VGG19\r\n",
        "\r\n",
        "tf.random.set_seed(7)\r\n",
        "\r\n",
        "#import pretrained model\r\n",
        "conv_base = VGG19(weights='imagenet',\r\n",
        "                  include_top=False,\r\n",
        "                  input_shape=(150, 150, 3))\r\n",
        "\r\n",
        "conv_base.summary()\r\n",
        "\r\n",
        "# Freeze layers\r\n",
        "conv_base.trainable = False\r\n",
        "        \r\n",
        "# add fully connected layers as classifier\r\n",
        "VGG19_FE = models.Sequential()\r\n",
        "VGG19_FE.add(conv_base)\r\n",
        "VGG19_FE.add(layers.Flatten())\r\n",
        "VGG19_FE.add(layers.Dense(256, activation='relu'))\r\n",
        "VGG19_FE.add(layers.Dropout(rate=.5))\r\n",
        "VGG19_FE.add(layers.Dense(256, activation='relu'))\r\n",
        "VGG19_FE.add(layers.Dropout(rate=.5))\r\n",
        "VGG19_FE.add(layers.Dense(2, activation='sigmoid'))\r\n",
        "\r\n",
        "\r\n",
        "VGG19_FE.compile(loss='binary_crossentropy',\r\n",
        "              optimizer=optimizers.RMSprop(lr=2e-6),\r\n",
        "              metrics=['accuracy'])\r\n",
        "\r\n",
        "earlyStopCallback = tf.keras.callbacks.EarlyStopping(monitor='val_loss', mode='min', verbose=1, patience=10, restore_best_weights = True)\r\n",
        "\r\n",
        "history = VGG19_FE.fit(augmentedData, augmentedLabels, epochs=100, callbacks=[earlyStopCallback], batch_size=32, validation_split=0.2, class_weight = weights)\r\n",
        "\r\n",
        "pred = VGG19_FE.predict_classes(testSet)\r\n",
        "print(metrics.classification_report(testLabels, pred))\r\n",
        "test_loss, test_acc = VGG19_FE.evaluate(testSet, testLabelsCategorical)\r\n",
        "print(test_loss, test_acc)\r\n",
        "plot_accurancy_loss(history)\r\n",
        "plot_confusionMatrix(VGG19_FE, testSet, testLabels, classes)\r\n"
      ],
      "execution_count": null,
      "outputs": []
    },
    {
      "cell_type": "code",
      "metadata": {
        "colab": {
          "base_uri": "https://localhost:8080/"
        },
        "id": "6fcrXUqshJAE",
        "outputId": "a638c2d7-9d86-4048-c754-90efebcd63bb"
      },
      "source": [
        "VGG19_FT.save(os.path.join(projectPath + dir_name,\"model2.h5\")) \r\n",
        "\r\n",
        "print('done')"
      ],
      "execution_count": null,
      "outputs": [
        {
          "output_type": "stream",
          "text": [
            "done\n"
          ],
          "name": "stdout"
        }
      ]
    },
    {
      "cell_type": "markdown",
      "metadata": {
        "id": "K70MKG6CPRed"
      },
      "source": [
        "# **ResNet50**\r\n",
        "\r\n",
        "We test ResNet50 neural network trained on imagenet dataset, freezing different convolutional layer belonging to different blocks and appending different fully connected neural networks as classifier."
      ]
    },
    {
      "cell_type": "code",
      "metadata": {
        "id": "sZwzB_5iIhcw",
        "colab": {
          "base_uri": "https://localhost:8080/",
          "height": 1000
        },
        "outputId": "f4cf887c-3372-4ade-8c6c-af5283bd79d2"
      },
      "source": [
        "from tensorflow.keras.applications import ResNet50\n",
        "\n",
        "tf.random.set_seed(7)\n",
        "\n",
        "# trick to riproduce 3 layer\n",
        "img_input = tf.keras.layers.Input(shape=(150, 150, 1))\n",
        "img_conc = tf.keras.layers.Concatenate()([img_input, img_input, img_input])    \n",
        "\n",
        "# pre-trained network\n",
        "conv_base = ResNet50(weights='imagenet',\n",
        "                  include_top=False,\n",
        "                  input_shape=(150, 150, 3))\n",
        "\n",
        "#'conv5_block3_1_conv'\n",
        "conv_base.trainable = True\n",
        "set_trainable = False\n",
        "for layer in conv_base.layers:\n",
        "    if layer.name == 'conv5_block1_1_conv':\n",
        "        set_trainable = True\n",
        "    if set_trainable:\n",
        "        layer.trainable = True\n",
        "    else:\n",
        "        layer.trainable = False\n",
        "\n",
        "# classifier\n",
        "ResNet50_FT = models.Sequential()\n",
        "ResNet50_FT.add(conv_base)\n",
        "ResNet50_FT.add(layers.Flatten())\n",
        "ResNet50_FT.add(layers.Dense(256, activation='relu'))\n",
        "ResNet50_FT.add(layers.Dropout(rate=.5))\n",
        "ResNet50_FT.add(layers.Dense(2, activation='sigmoid'))\n",
        "\n",
        "ResNet50_FT.compile(loss='binary_crossentropy',\n",
        "                optimizer=optimizers.RMSprop(lr=2e-6),\n",
        "                metrics=['accuracy'])\n",
        "\n",
        "earlyStopCallback = tf.keras.callbacks.EarlyStopping(monitor='val_loss', mode='min', verbose=1, patience=10)\n",
        "\n",
        "history = ResNet50_FT.fit(augmentedData, augmentedLabels, epochs=100, callbacks=[earlyStopCallback], batch_size=32, validation_split=0.2, class_weight = weights)\n",
        "\n",
        "pred = ResNet50_FT.predict_classes(testSet)\n",
        "print(metrics.classification_report(testLabels, pred))\n",
        "test_loss, test_acc = ResNet50_FT.evaluate(testSet, testLabelsCategorical)\n",
        "print(test_loss, test_acc)\n",
        "plot_accurancy_loss(history)\n",
        "plot_confusionMatrix(ResNet50_FT, testSet, testLabels, classes)\n",
        "\n"
      ],
      "execution_count": null,
      "outputs": [
        {
          "output_type": "stream",
          "text": [
            "Downloading data from https://storage.googleapis.com/tensorflow/keras-applications/resnet/resnet50_weights_tf_dim_ordering_tf_kernels_notop.h5\n",
            "94773248/94765736 [==============================] - 1s 0us/step\n",
            "Epoch 1/100\n",
            "268/268 [==============================] - 32s 103ms/step - loss: 0.8544 - accuracy: 0.5581 - val_loss: 0.8213 - val_accuracy: 0.4115\n",
            "Epoch 2/100\n",
            "268/268 [==============================] - 26s 97ms/step - loss: 0.7786 - accuracy: 0.5993 - val_loss: 0.6230 - val_accuracy: 0.6534\n",
            "Epoch 3/100\n",
            "268/268 [==============================] - 26s 97ms/step - loss: 0.7637 - accuracy: 0.6167 - val_loss: 0.6118 - val_accuracy: 0.6539\n",
            "Epoch 4/100\n",
            "268/268 [==============================] - 26s 97ms/step - loss: 0.7465 - accuracy: 0.6333 - val_loss: 0.6575 - val_accuracy: 0.5684\n",
            "Epoch 5/100\n",
            "268/268 [==============================] - 26s 97ms/step - loss: 0.7404 - accuracy: 0.6232 - val_loss: 0.6021 - val_accuracy: 0.6418\n",
            "Epoch 6/100\n",
            "268/268 [==============================] - 26s 97ms/step - loss: 0.7437 - accuracy: 0.6233 - val_loss: 0.6801 - val_accuracy: 0.5586\n",
            "Epoch 7/100\n",
            "268/268 [==============================] - 26s 97ms/step - loss: 0.7358 - accuracy: 0.6338 - val_loss: 0.6719 - val_accuracy: 0.5796\n",
            "Epoch 8/100\n",
            "268/268 [==============================] - 26s 97ms/step - loss: 0.7256 - accuracy: 0.6351 - val_loss: 0.5961 - val_accuracy: 0.6553\n",
            "Epoch 9/100\n",
            "268/268 [==============================] - 26s 97ms/step - loss: 0.7207 - accuracy: 0.6465 - val_loss: 0.6276 - val_accuracy: 0.6287\n",
            "Epoch 10/100\n",
            "268/268 [==============================] - 26s 97ms/step - loss: 0.7264 - accuracy: 0.6329 - val_loss: 0.5983 - val_accuracy: 0.6436\n",
            "Epoch 11/100\n",
            "268/268 [==============================] - 26s 97ms/step - loss: 0.7216 - accuracy: 0.6459 - val_loss: 0.5935 - val_accuracy: 0.6586\n",
            "Epoch 12/100\n",
            "268/268 [==============================] - 26s 97ms/step - loss: 0.7189 - accuracy: 0.6488 - val_loss: 0.5843 - val_accuracy: 0.6586\n",
            "Epoch 13/100\n",
            "268/268 [==============================] - 26s 97ms/step - loss: 0.7234 - accuracy: 0.6383 - val_loss: 0.5935 - val_accuracy: 0.6544\n",
            "Epoch 14/100\n",
            "268/268 [==============================] - 26s 97ms/step - loss: 0.7028 - accuracy: 0.6562 - val_loss: 0.6994 - val_accuracy: 0.6450\n",
            "Epoch 15/100\n",
            "268/268 [==============================] - 26s 97ms/step - loss: 0.7168 - accuracy: 0.6394 - val_loss: 0.6748 - val_accuracy: 0.5941\n",
            "Epoch 16/100\n",
            "268/268 [==============================] - 26s 97ms/step - loss: 0.7083 - accuracy: 0.6588 - val_loss: 0.8822 - val_accuracy: 0.4699\n",
            "Epoch 17/100\n",
            "268/268 [==============================] - 26s 97ms/step - loss: 0.7044 - accuracy: 0.6558 - val_loss: 0.6552 - val_accuracy: 0.6095\n",
            "Epoch 18/100\n",
            "268/268 [==============================] - 26s 97ms/step - loss: 0.7037 - accuracy: 0.6552 - val_loss: 0.8820 - val_accuracy: 0.4801\n",
            "Epoch 19/100\n",
            "268/268 [==============================] - 26s 97ms/step - loss: 0.7016 - accuracy: 0.6540 - val_loss: 0.6688 - val_accuracy: 0.5684\n",
            "Epoch 20/100\n",
            "268/268 [==============================] - 26s 97ms/step - loss: 0.6957 - accuracy: 0.6540 - val_loss: 0.7067 - val_accuracy: 0.5965\n",
            "Epoch 21/100\n",
            "268/268 [==============================] - 26s 97ms/step - loss: 0.7033 - accuracy: 0.6517 - val_loss: 0.6044 - val_accuracy: 0.6651\n",
            "Epoch 22/100\n",
            "268/268 [==============================] - 26s 97ms/step - loss: 0.6971 - accuracy: 0.6669 - val_loss: 0.8090 - val_accuracy: 0.5058\n",
            "Epoch 00022: early stopping\n"
          ],
          "name": "stdout"
        },
        {
          "output_type": "stream",
          "text": [
            "/usr/local/lib/python3.6/dist-packages/tensorflow/python/keras/engine/sequential.py:450: UserWarning: `model.predict_classes()` is deprecated and will be removed after 2021-01-01. Please use instead:* `np.argmax(model.predict(x), axis=-1)`,   if your model does multi-class classification   (e.g. if it uses a `softmax` last-layer activation).* `(model.predict(x) > 0.5).astype(\"int32\")`,   if your model does binary classification   (e.g. if it uses a `sigmoid` last-layer activation).\n",
            "  warnings.warn('`model.predict_classes()` is deprecated and '\n"
          ],
          "name": "stderr"
        },
        {
          "output_type": "stream",
          "text": [
            "              precision    recall  f1-score   support\n",
            "\n",
            "           0       0.85      0.15      0.26       219\n",
            "           1       0.37      0.95      0.54       117\n",
            "\n",
            "    accuracy                           0.43       336\n",
            "   macro avg       0.61      0.55      0.40       336\n",
            "weighted avg       0.68      0.43      0.35       336\n",
            "\n",
            "11/11 [==============================] - 1s 51ms/step - loss: 0.9799 - accuracy: 0.4286\n",
            "0.9798863530158997 0.4285714328289032\n"
          ],
          "name": "stdout"
        },
        {
          "output_type": "display_data",
          "data": {
            "image/png": "[encoded data removed]",
            "text/plain": [
              "<Figure size 432x288 with 1 Axes>"
            ]
          },
          "metadata": {
            "tags": [],
            "needs_background": "light"
          }
        },
        {
          "output_type": "display_data",
          "data": {
            "image/png": "[encoded data removed]",
            "text/plain": [
              "<Figure size 432x288 with 1 Axes>"
            ]
          },
          "metadata": {
            "tags": [],
            "needs_background": "light"
          }
        },
        {
          "output_type": "stream",
          "text": [
            "[0 1]\n",
            "Normalized confusion matrix\n"
          ],
          "name": "stdout"
        },
        {
          "output_type": "display_data",
          "data": {
            "image/png": "[encoded data removed]",
            "text/plain": [
              "<Figure size 432x288 with 2 Axes>"
            ]
          },
          "metadata": {
            "tags": [],
            "needs_background": "light"
          }
        }
      ]
    },
    {
      "cell_type": "markdown",
      "metadata": {
        "id": "IeyFg2Updq8U"
      },
      "source": [
        "# **ResNet50-Feature Extraction**"
      ]
    },
    {
      "cell_type": "code",
      "metadata": {
        "id": "jMlgjpECdwse",
        "colab": {
          "base_uri": "https://localhost:8080/",
          "height": 1000
        },
        "outputId": "9617752a-9f6d-4f50-b16f-a0fdc7de2229"
      },
      "source": [
        "from tensorflow.keras.applications import ResNet50\r\n",
        "\r\n",
        "tf.random.set_seed(7)\r\n",
        "\r\n",
        "# trick to riproduce 3 layer\r\n",
        "img_input = tf.keras.layers.Input(shape=(150, 150, 1))\r\n",
        "img_conc = tf.keras.layers.Concatenate()([img_input, img_input, img_input])    \r\n",
        "\r\n",
        "# pre-trained network\r\n",
        "conv_base = ResNet50(weights='imagenet',\r\n",
        "                  include_top=False,\r\n",
        "                  input_shape=(150, 150, 3))\r\n",
        "\r\n",
        "\r\n",
        "conv_base.trainable = False\r\n",
        "\r\n",
        "# classifier\r\n",
        "ResNet50_FE = models.Sequential()\r\n",
        "ResNet50_FE.add(conv_base)\r\n",
        "ResNet50_FE.add(layers.Flatten())\r\n",
        "ResNet50_FE.add(layers.Dense(256, activation='relu'))\r\n",
        "ResNet50_FE.add(layers.Dropout(rate=.5))\r\n",
        "ResNet50_FE.add(layers.Dense(2, activation='sigmoid'))\r\n",
        "\r\n",
        "ResNet50_FE.compile(loss='binary_crossentropy',\r\n",
        "                optimizer=optimizers.RMSprop(lr=2e-6),\r\n",
        "                metrics=['accuracy'])\r\n",
        "\r\n",
        "earlyStopCallback = tf.keras.callbacks.EarlyStopping(monitor='val_loss', mode='min', verbose=1, patience=10)\r\n",
        "\r\n",
        "history = ResNet50_FE.fit(augmentedData, augmentedLabels, epochs=100, callbacks=[earlyStopCallback], batch_size=32, validation_split=0.2, class_weight = weights)\r\n",
        "\r\n",
        "pred = ResNet50_FE.predict_classes(testSet)\r\n",
        "print(metrics.classification_report(testLabels, pred))\r\n",
        "test_loss, test_acc = ResNet50_FE.evaluate(testSet, testLabelsCategorical)\r\n",
        "print(test_loss, test_acc)\r\n",
        "plot_accurancy_loss(history)\r\n",
        "plot_confusionMatrix(ResNet50_FE, testSet, testLabels, classes)\r\n"
      ],
      "execution_count": null,
      "outputs": [
        {
          "output_type": "stream",
          "text": [
            "Epoch 1/100\n",
            "268/268 [==============================] - 22s 73ms/step - loss: 0.9134 - accuracy: 0.5169 - val_loss: 0.6833 - val_accuracy: 0.5885\n",
            "Epoch 2/100\n",
            "268/268 [==============================] - 19s 70ms/step - loss: 0.8587 - accuracy: 0.4968 - val_loss: 0.7110 - val_accuracy: 0.4115\n",
            "Epoch 3/100\n",
            "268/268 [==============================] - 19s 70ms/step - loss: 0.8393 - accuracy: 0.4935 - val_loss: 0.6915 - val_accuracy: 0.5979\n",
            "Epoch 4/100\n",
            "268/268 [==============================] - 19s 69ms/step - loss: 0.8244 - accuracy: 0.5038 - val_loss: 0.6992 - val_accuracy: 0.4115\n",
            "Epoch 5/100\n",
            "268/268 [==============================] - 19s 70ms/step - loss: 0.8171 - accuracy: 0.5050 - val_loss: 0.6892 - val_accuracy: 0.5890\n",
            "Epoch 6/100\n",
            "268/268 [==============================] - 19s 70ms/step - loss: 0.8155 - accuracy: 0.5069 - val_loss: 0.6948 - val_accuracy: 0.4208\n",
            "Epoch 7/100\n",
            "268/268 [==============================] - 19s 70ms/step - loss: 0.8147 - accuracy: 0.4993 - val_loss: 0.6948 - val_accuracy: 0.4204\n",
            "Epoch 8/100\n",
            "268/268 [==============================] - 19s 70ms/step - loss: 0.8116 - accuracy: 0.5182 - val_loss: 0.6883 - val_accuracy: 0.5913\n",
            "Epoch 9/100\n",
            "268/268 [==============================] - 19s 69ms/step - loss: 0.8107 - accuracy: 0.5318 - val_loss: 0.7042 - val_accuracy: 0.4115\n",
            "Epoch 10/100\n",
            "268/268 [==============================] - 19s 69ms/step - loss: 0.8133 - accuracy: 0.4835 - val_loss: 0.6890 - val_accuracy: 0.5946\n",
            "Epoch 11/100\n",
            "268/268 [==============================] - 19s 69ms/step - loss: 0.8123 - accuracy: 0.5115 - val_loss: 0.6890 - val_accuracy: 0.5993\n",
            "Epoch 00011: early stopping\n"
          ],
          "name": "stdout"
        },
        {
          "output_type": "stream",
          "text": [
            "/usr/local/lib/python3.6/dist-packages/tensorflow/python/keras/engine/sequential.py:450: UserWarning: `model.predict_classes()` is deprecated and will be removed after 2021-01-01. Please use instead:* `np.argmax(model.predict(x), axis=-1)`,   if your model does multi-class classification   (e.g. if it uses a `softmax` last-layer activation).* `(model.predict(x) > 0.5).astype(\"int32\")`,   if your model does binary classification   (e.g. if it uses a `sigmoid` last-layer activation).\n",
            "  warnings.warn('`model.predict_classes()` is deprecated and '\n"
          ],
          "name": "stderr"
        },
        {
          "output_type": "stream",
          "text": [
            "              precision    recall  f1-score   support\n",
            "\n",
            "           0       0.65      1.00      0.79       219\n",
            "           1       0.67      0.02      0.03       117\n",
            "\n",
            "    accuracy                           0.65       336\n",
            "   macro avg       0.66      0.51      0.41       336\n",
            "weighted avg       0.66      0.65      0.53       336\n",
            "\n",
            "11/11 [==============================] - 1s 50ms/step - loss: 0.6869 - accuracy: 0.6548\n",
            "0.6868984699249268 0.6547619104385376\n"
          ],
          "name": "stdout"
        },
        {
          "output_type": "display_data",
          "data": {
            "image/png": "[encoded data removed]",
            "text/plain": [
              "<Figure size 432x288 with 1 Axes>"
            ]
          },
          "metadata": {
            "tags": [],
            "needs_background": "light"
          }
        },
        {
          "output_type": "display_data",
          "data": {
            "image/png": "[encoded data removed]",
            "text/plain": [
              "<Figure size 432x288 with 1 Axes>"
            ]
          },
          "metadata": {
            "tags": [],
            "needs_background": "light"
          }
        },
        {
          "output_type": "stream",
          "text": [
            "[0 1]\n",
            "Normalized confusion matrix\n"
          ],
          "name": "stdout"
        },
        {
          "output_type": "display_data",
          "data": {
            "image/png": "[encoded data removed]",
            "text/plain": [
              "<Figure size 432x288 with 2 Axes>"
            ]
          },
          "metadata": {
            "tags": [],
            "needs_background": "light"
          }
        }
      ]
    },
    {
      "cell_type": "markdown",
      "metadata": {
        "id": "LTcdsftwdkl4"
      },
      "source": [
        "# **InceptionV3**"
      ]
    },
    {
      "cell_type": "code",
      "metadata": {
        "id": "wYuKcw0k6GDf",
        "colab": {
          "base_uri": "https://localhost:8080/",
          "height": 1000
        },
        "outputId": "5c42f3ce-1ef2-467c-abbd-6770deb42c56"
      },
      "source": [
        "from tensorflow.keras.applications import InceptionV3\r\n",
        "\r\n",
        "tf.random.set_seed(7)\r\n",
        "\r\n",
        "# trick to riproduce 3 layer\r\n",
        "img_input = tf.keras.layers.Input(shape=(150, 150, 1))\r\n",
        "img_conc = tf.keras.layers.Concatenate()([img_input, img_input, img_input])    \r\n",
        "\r\n",
        "# pre-trained network\r\n",
        "conv_base = InceptionV3(weights='imagenet',\r\n",
        "                  include_top=False,\r\n",
        "                  input_shape=(150, 150, 3))\r\n",
        "\r\n",
        "set_trainable = False\r\n",
        "\r\n",
        "for layer in conv_base.layers[:249]:\r\n",
        "   layer.trainable = False\r\n",
        "for layer in conv_base.layers[249:]:\r\n",
        "   layer.trainable = True\r\n",
        "\r\n",
        "# classifier\r\n",
        "InceptionV3_FT = models.Sequential()\r\n",
        "InceptionV3_FT.add(conv_base)\r\n",
        "InceptionV3_FT.add(layers.Flatten())\r\n",
        "InceptionV3_FT.add(layers.Dense(256, activation='relu'))\r\n",
        "InceptionV3_FT.add(layers.Dropout(rate=.5))\r\n",
        "InceptionV3_FT.add(layers.Dense(2, activation='sigmoid'))\r\n",
        "\r\n",
        "conv_base.trainable = True\r\n",
        "\r\n",
        "\r\n",
        "InceptionV3_FT.compile(loss='binary_crossentropy',\r\n",
        "      optimizer=optimizers.RMSprop(lr=2e-6),\r\n",
        "      metrics=['accuracy'])\r\n",
        "\r\n",
        "earlyStopCallback = tf.keras.callbacks.EarlyStopping(monitor='val_loss', mode='min', verbose=1, patience=10)\r\n",
        "\r\n",
        "\r\n",
        "history = InceptionV3_FT.fit(augmentedData, augmentedLabels, epochs=100, callbacks=[earlyStopCallback], batch_size=32, validation_split=0.2, class_weight = weights)\r\n",
        "\r\n",
        "pred = InceptionV3_FT.predict_classes(testSet)\r\n",
        "print(metrics.classification_report(testLabels, pred))\r\n",
        "test_loss, test_acc = InceptionV3_FT.evaluate(testSet, testLabelsCategorical)\r\n",
        "print(test_loss, test_acc)\r\n",
        "plot_accurancy_loss(history)\r\n",
        "plot_confusionMatrix(InceptionV3_FT, testSet, testLabels, classes)\r\n"
      ],
      "execution_count": null,
      "outputs": [
        {
          "output_type": "stream",
          "text": [
            "Epoch 1/100\n",
            "268/268 [==============================] - 44s 129ms/step - loss: 0.8204 - accuracy: 0.5795 - val_loss: 0.6293 - val_accuracy: 0.6530\n",
            "Epoch 2/100\n",
            "268/268 [==============================] - 33s 124ms/step - loss: 0.6771 - accuracy: 0.6978 - val_loss: 0.6289 - val_accuracy: 0.6427\n",
            "Epoch 3/100\n",
            "268/268 [==============================] - 33s 123ms/step - loss: 0.5842 - accuracy: 0.7471 - val_loss: 0.6385 - val_accuracy: 0.7076\n",
            "Epoch 4/100\n",
            "268/268 [==============================] - 33s 124ms/step - loss: 0.4624 - accuracy: 0.8156 - val_loss: 0.7787 - val_accuracy: 0.6726\n",
            "Epoch 5/100\n",
            "268/268 [==============================] - 33s 123ms/step - loss: 0.3807 - accuracy: 0.8489 - val_loss: 0.8796 - val_accuracy: 0.6852\n",
            "Epoch 6/100\n",
            "268/268 [==============================] - 33s 124ms/step - loss: 0.3066 - accuracy: 0.8891 - val_loss: 1.1234 - val_accuracy: 0.6899\n",
            "Epoch 7/100\n",
            "268/268 [==============================] - 33s 124ms/step - loss: 0.2285 - accuracy: 0.9179 - val_loss: 1.2206 - val_accuracy: 0.7006\n",
            "Epoch 8/100\n",
            "268/268 [==============================] - 33s 124ms/step - loss: 0.1843 - accuracy: 0.9414 - val_loss: 1.2377 - val_accuracy: 0.6941\n",
            "Epoch 9/100\n",
            "268/268 [==============================] - 33s 123ms/step - loss: 0.1639 - accuracy: 0.9464 - val_loss: 1.8502 - val_accuracy: 0.6740\n",
            "Epoch 10/100\n",
            "268/268 [==============================] - 33s 123ms/step - loss: 0.1468 - accuracy: 0.9569 - val_loss: 1.7017 - val_accuracy: 0.6880\n",
            "Epoch 11/100\n",
            "268/268 [==============================] - 33s 124ms/step - loss: 0.1219 - accuracy: 0.9644 - val_loss: 2.4132 - val_accuracy: 0.6847\n",
            "Epoch 12/100\n",
            "268/268 [==============================] - 33s 124ms/step - loss: 0.1082 - accuracy: 0.9669 - val_loss: 2.0275 - val_accuracy: 0.6894\n",
            "Epoch 00012: early stopping\n"
          ],
          "name": "stdout"
        },
        {
          "output_type": "stream",
          "text": [
            "/usr/local/lib/python3.6/dist-packages/tensorflow/python/keras/engine/sequential.py:450: UserWarning: `model.predict_classes()` is deprecated and will be removed after 2021-01-01. Please use instead:* `np.argmax(model.predict(x), axis=-1)`,   if your model does multi-class classification   (e.g. if it uses a `softmax` last-layer activation).* `(model.predict(x) > 0.5).astype(\"int32\")`,   if your model does binary classification   (e.g. if it uses a `sigmoid` last-layer activation).\n",
            "  warnings.warn('`model.predict_classes()` is deprecated and '\n"
          ],
          "name": "stderr"
        },
        {
          "output_type": "stream",
          "text": [
            "              precision    recall  f1-score   support\n",
            "\n",
            "           0       0.75      0.78      0.76       219\n",
            "           1       0.55      0.50      0.53       117\n",
            "\n",
            "    accuracy                           0.68       336\n",
            "   macro avg       0.65      0.64      0.65       336\n",
            "weighted avg       0.68      0.68      0.68       336\n",
            "\n",
            "11/11 [==============================] - 0s 31ms/step - loss: 2.3574 - accuracy: 0.6845\n",
            "2.357365846633911 0.6845238208770752\n"
          ],
          "name": "stdout"
        },
        {
          "output_type": "display_data",
          "data": {
            "image/png": "[encoded data removed]",
            "text/plain": [
              "<Figure size 432x288 with 1 Axes>"
            ]
          },
          "metadata": {
            "tags": [],
            "needs_background": "light"
          }
        },
        {
          "output_type": "display_data",
          "data": {
            "image/png": "[encoded data removed]",
            "text/plain": [
              "<Figure size 432x288 with 1 Axes>"
            ]
          },
          "metadata": {
            "tags": [],
            "needs_background": "light"
          }
        },
        {
          "output_type": "stream",
          "text": [
            "[0 1]\n",
            "Normalized confusion matrix\n"
          ],
          "name": "stdout"
        },
        {
          "output_type": "display_data",
          "data": {
            "image/png": "[encoded data removed]",
            "text/plain": [
              "<Figure size 432x288 with 2 Axes>"
            ]
          },
          "metadata": {
            "tags": [],
            "needs_background": "light"
          }
        }
      ]
    },
    {
      "cell_type": "markdown",
      "metadata": {
        "id": "6NAEQO18gNEs"
      },
      "source": [
        "# **InceptionV3-Feature Extraction**"
      ]
    },
    {
      "cell_type": "code",
      "metadata": {
        "id": "OK32svFYgTE3",
        "colab": {
          "base_uri": "https://localhost:8080/",
          "height": 1000
        },
        "outputId": "cbf1aa3e-7b61-417f-e9fd-4ac4f610f7ed"
      },
      "source": [
        "from tensorflow.keras.applications import InceptionV3\r\n",
        "\r\n",
        "tf.random.set_seed(7) \r\n",
        "\r\n",
        "# pre-trained network\r\n",
        "conv_base = InceptionV3(weights='imagenet',\r\n",
        "                  include_top=False,\r\n",
        "                  input_shape=(150, 150, 3))\r\n",
        "\r\n",
        "\r\n",
        "# classifier\r\n",
        "InceptionV3_FE = models.Sequential()\r\n",
        "InceptionV3_FE.add(conv_base)\r\n",
        "InceptionV3_FE.add(layers.Flatten())\r\n",
        "InceptionV3_FE.add(layers.Dense(256, activation='relu'))\r\n",
        "InceptionV3_FE.add(layers.Dropout(rate=.5))\r\n",
        "InceptionV3_FE.add(layers.Dense(2, activation='sigmoid'))\r\n",
        "\r\n",
        "conv_base.trainable = False\r\n",
        "\r\n",
        "InceptionV3_FE.summary()\r\n",
        "\r\n",
        "InceptionV3_FE.compile(loss='binary_crossentropy',\r\n",
        "      optimizer=optimizers.RMSprop(lr=2e-6),\r\n",
        "      metrics=['accuracy'])\r\n",
        "\r\n",
        "earlyStopCallback = tf.keras.callbacks.EarlyStopping(monitor='val_loss', mode='min', verbose=1, patience=10)\r\n",
        "\r\n",
        "\r\n",
        "history = InceptionV3_FE.fit(augmentedData, augmentedLabels, epochs=100, callbacks=[earlyStopCallback], batch_size=32, validation_split=0.2, class_weight = weights)\r\n",
        "\r\n",
        "pred = InceptionV3_FE.predict_classes(testSet)\r\n",
        "print(metrics.classification_report(testLabels, pred))\r\n",
        "test_loss, test_acc = InceptionV3_FE.evaluate(testSet, testLabelsCategorical)\r\n",
        "print(test_loss, test_acc)\r\n",
        "plot_accurancy_loss(history)\r\n",
        "plot_confusionMatrix(InceptionV3_FE, testSet, testLabels, classes)\r\n"
      ],
      "execution_count": null,
      "outputs": [
        {
          "output_type": "stream",
          "text": [
            "Model: \"sequential_6\"\n",
            "_________________________________________________________________\n",
            "Layer (type)                 Output Shape              Param #   \n",
            "=================================================================\n",
            "inception_v3 (Functional)    (None, 3, 3, 2048)        21802784  \n",
            "_________________________________________________________________\n",
            "flatten_6 (Flatten)          (None, 18432)             0         \n",
            "_________________________________________________________________\n",
            "dense_15 (Dense)             (None, 256)               4718848   \n",
            "_________________________________________________________________\n",
            "dropout_8 (Dropout)          (None, 256)               0         \n",
            "_________________________________________________________________\n",
            "dense_16 (Dense)             (None, 2)                 514       \n",
            "=================================================================\n",
            "Total params: 26,522,146\n",
            "Trainable params: 4,719,362\n",
            "Non-trainable params: 21,802,784\n",
            "_________________________________________________________________\n",
            "Epoch 1/100\n",
            "268/268 [==============================] - 16s 47ms/step - loss: 0.8240 - accuracy: 0.5080 - val_loss: 0.6419 - val_accuracy: 0.6035\n",
            "Epoch 2/100\n",
            "268/268 [==============================] - 12s 44ms/step - loss: 0.7736 - accuracy: 0.5904 - val_loss: 0.6265 - val_accuracy: 0.6217\n",
            "Epoch 3/100\n",
            "268/268 [==============================] - 11s 42ms/step - loss: 0.7508 - accuracy: 0.6077 - val_loss: 0.6123 - val_accuracy: 0.6422\n",
            "Epoch 4/100\n",
            "268/268 [==============================] - 11s 42ms/step - loss: 0.7359 - accuracy: 0.6411 - val_loss: 0.5994 - val_accuracy: 0.6516\n",
            "Epoch 5/100\n",
            "268/268 [==============================] - 11s 42ms/step - loss: 0.7273 - accuracy: 0.6405 - val_loss: 0.5927 - val_accuracy: 0.6623\n",
            "Epoch 6/100\n",
            "268/268 [==============================] - 11s 42ms/step - loss: 0.7125 - accuracy: 0.6678 - val_loss: 0.5882 - val_accuracy: 0.6660\n",
            "Epoch 7/100\n",
            "268/268 [==============================] - 11s 41ms/step - loss: 0.7047 - accuracy: 0.6584 - val_loss: 0.5821 - val_accuracy: 0.6763\n",
            "Epoch 8/100\n",
            "268/268 [==============================] - 11s 42ms/step - loss: 0.7081 - accuracy: 0.6643 - val_loss: 0.5789 - val_accuracy: 0.6768\n",
            "Epoch 9/100\n",
            "268/268 [==============================] - 11s 42ms/step - loss: 0.6888 - accuracy: 0.6750 - val_loss: 0.5784 - val_accuracy: 0.6749\n",
            "Epoch 10/100\n",
            "268/268 [==============================] - 11s 42ms/step - loss: 0.6834 - accuracy: 0.6703 - val_loss: 0.5725 - val_accuracy: 0.6787\n",
            "Epoch 11/100\n",
            "268/268 [==============================] - 11s 42ms/step - loss: 0.6747 - accuracy: 0.6930 - val_loss: 0.5697 - val_accuracy: 0.6838\n",
            "Epoch 12/100\n",
            "268/268 [==============================] - 11s 42ms/step - loss: 0.6734 - accuracy: 0.6844 - val_loss: 0.5670 - val_accuracy: 0.6824\n",
            "Epoch 13/100\n",
            "268/268 [==============================] - 11s 42ms/step - loss: 0.6717 - accuracy: 0.6918 - val_loss: 0.5651 - val_accuracy: 0.6829\n",
            "Epoch 14/100\n",
            "268/268 [==============================] - 11s 42ms/step - loss: 0.6639 - accuracy: 0.6975 - val_loss: 0.5629 - val_accuracy: 0.6833\n",
            "Epoch 15/100\n",
            "268/268 [==============================] - 11s 42ms/step - loss: 0.6630 - accuracy: 0.6950 - val_loss: 0.5629 - val_accuracy: 0.6861\n",
            "Epoch 16/100\n",
            "268/268 [==============================] - 11s 42ms/step - loss: 0.6531 - accuracy: 0.7083 - val_loss: 0.5601 - val_accuracy: 0.6871\n",
            "Epoch 17/100\n",
            "268/268 [==============================] - 11s 42ms/step - loss: 0.6595 - accuracy: 0.7008 - val_loss: 0.5568 - val_accuracy: 0.6913\n",
            "Epoch 18/100\n",
            "268/268 [==============================] - 11s 42ms/step - loss: 0.6511 - accuracy: 0.7064 - val_loss: 0.5592 - val_accuracy: 0.6903\n",
            "Epoch 19/100\n",
            "268/268 [==============================] - 11s 42ms/step - loss: 0.6426 - accuracy: 0.7190 - val_loss: 0.5588 - val_accuracy: 0.6913\n",
            "Epoch 20/100\n",
            "268/268 [==============================] - 11s 42ms/step - loss: 0.6430 - accuracy: 0.7134 - val_loss: 0.5558 - val_accuracy: 0.6913\n",
            "Epoch 21/100\n",
            "268/268 [==============================] - 11s 42ms/step - loss: 0.6347 - accuracy: 0.7169 - val_loss: 0.5532 - val_accuracy: 0.6955\n",
            "Epoch 22/100\n",
            "268/268 [==============================] - 11s 42ms/step - loss: 0.6342 - accuracy: 0.7216 - val_loss: 0.5550 - val_accuracy: 0.6941\n",
            "Epoch 23/100\n",
            "268/268 [==============================] - 11s 42ms/step - loss: 0.6242 - accuracy: 0.7364 - val_loss: 0.5532 - val_accuracy: 0.6936\n",
            "Epoch 24/100\n",
            "268/268 [==============================] - 11s 42ms/step - loss: 0.6307 - accuracy: 0.7254 - val_loss: 0.5517 - val_accuracy: 0.6964\n",
            "Epoch 25/100\n",
            "268/268 [==============================] - 11s 42ms/step - loss: 0.6267 - accuracy: 0.7278 - val_loss: 0.5531 - val_accuracy: 0.6927\n",
            "Epoch 26/100\n",
            "268/268 [==============================] - 11s 42ms/step - loss: 0.6206 - accuracy: 0.7250 - val_loss: 0.5527 - val_accuracy: 0.6927\n",
            "Epoch 27/100\n",
            "268/268 [==============================] - 11s 42ms/step - loss: 0.6225 - accuracy: 0.7276 - val_loss: 0.5487 - val_accuracy: 0.7011\n",
            "Epoch 28/100\n",
            "268/268 [==============================] - 11s 42ms/step - loss: 0.6203 - accuracy: 0.7296 - val_loss: 0.5491 - val_accuracy: 0.7006\n",
            "Epoch 29/100\n",
            "268/268 [==============================] - 11s 42ms/step - loss: 0.6055 - accuracy: 0.7416 - val_loss: 0.5496 - val_accuracy: 0.6978\n",
            "Epoch 30/100\n",
            "268/268 [==============================] - 11s 42ms/step - loss: 0.6120 - accuracy: 0.7308 - val_loss: 0.5516 - val_accuracy: 0.6931\n",
            "Epoch 31/100\n",
            "268/268 [==============================] - 11s 42ms/step - loss: 0.6136 - accuracy: 0.7350 - val_loss: 0.5496 - val_accuracy: 0.6941\n",
            "Epoch 32/100\n",
            "268/268 [==============================] - 11s 42ms/step - loss: 0.6069 - accuracy: 0.7390 - val_loss: 0.5467 - val_accuracy: 0.6997\n",
            "Epoch 33/100\n",
            "268/268 [==============================] - 11s 42ms/step - loss: 0.6070 - accuracy: 0.7385 - val_loss: 0.5479 - val_accuracy: 0.6987\n",
            "Epoch 34/100\n",
            "268/268 [==============================] - 11s 42ms/step - loss: 0.6054 - accuracy: 0.7357 - val_loss: 0.5483 - val_accuracy: 0.6983\n",
            "Epoch 35/100\n",
            "268/268 [==============================] - 11s 42ms/step - loss: 0.5989 - accuracy: 0.7439 - val_loss: 0.5464 - val_accuracy: 0.6992\n",
            "Epoch 36/100\n",
            "268/268 [==============================] - 11s 41ms/step - loss: 0.5906 - accuracy: 0.7548 - val_loss: 0.5473 - val_accuracy: 0.6992\n",
            "Epoch 37/100\n",
            "268/268 [==============================] - 11s 42ms/step - loss: 0.5996 - accuracy: 0.7388 - val_loss: 0.5469 - val_accuracy: 0.6987\n",
            "Epoch 38/100\n",
            "268/268 [==============================] - 11s 42ms/step - loss: 0.5890 - accuracy: 0.7517 - val_loss: 0.5475 - val_accuracy: 0.6973\n",
            "Epoch 39/100\n",
            "268/268 [==============================] - 11s 42ms/step - loss: 0.5925 - accuracy: 0.7574 - val_loss: 0.5448 - val_accuracy: 0.6997\n",
            "Epoch 40/100\n",
            "268/268 [==============================] - 11s 42ms/step - loss: 0.5945 - accuracy: 0.7501 - val_loss: 0.5458 - val_accuracy: 0.6973\n",
            "Epoch 41/100\n",
            "268/268 [==============================] - 11s 42ms/step - loss: 0.5897 - accuracy: 0.7530 - val_loss: 0.5462 - val_accuracy: 0.6983\n",
            "Epoch 42/100\n",
            "268/268 [==============================] - 11s 42ms/step - loss: 0.5766 - accuracy: 0.7617 - val_loss: 0.5457 - val_accuracy: 0.6978\n",
            "Epoch 43/100\n",
            "268/268 [==============================] - 11s 42ms/step - loss: 0.5786 - accuracy: 0.7593 - val_loss: 0.5460 - val_accuracy: 0.6997\n",
            "Epoch 44/100\n",
            "268/268 [==============================] - 11s 42ms/step - loss: 0.5777 - accuracy: 0.7600 - val_loss: 0.5439 - val_accuracy: 0.6987\n",
            "Epoch 45/100\n",
            "268/268 [==============================] - 11s 42ms/step - loss: 0.5737 - accuracy: 0.7650 - val_loss: 0.5449 - val_accuracy: 0.7001\n",
            "Epoch 46/100\n",
            "268/268 [==============================] - 11s 42ms/step - loss: 0.5797 - accuracy: 0.7588 - val_loss: 0.5445 - val_accuracy: 0.7006\n",
            "Epoch 47/100\n",
            "268/268 [==============================] - 11s 42ms/step - loss: 0.5682 - accuracy: 0.7681 - val_loss: 0.5468 - val_accuracy: 0.6992\n",
            "Epoch 48/100\n",
            "268/268 [==============================] - 11s 42ms/step - loss: 0.5721 - accuracy: 0.7605 - val_loss: 0.5451 - val_accuracy: 0.7034\n",
            "Epoch 49/100\n",
            "268/268 [==============================] - 11s 42ms/step - loss: 0.5685 - accuracy: 0.7709 - val_loss: 0.5426 - val_accuracy: 0.6997\n",
            "Epoch 50/100\n",
            "268/268 [==============================] - 11s 42ms/step - loss: 0.5693 - accuracy: 0.7649 - val_loss: 0.5435 - val_accuracy: 0.7001\n",
            "Epoch 51/100\n",
            "268/268 [==============================] - 11s 42ms/step - loss: 0.5569 - accuracy: 0.7734 - val_loss: 0.5440 - val_accuracy: 0.7025\n",
            "Epoch 52/100\n",
            "268/268 [==============================] - 11s 42ms/step - loss: 0.5617 - accuracy: 0.7706 - val_loss: 0.5454 - val_accuracy: 0.7048\n",
            "Epoch 53/100\n",
            "268/268 [==============================] - 11s 42ms/step - loss: 0.5693 - accuracy: 0.7653 - val_loss: 0.5446 - val_accuracy: 0.7048\n",
            "Epoch 54/100\n",
            "268/268 [==============================] - 11s 42ms/step - loss: 0.5578 - accuracy: 0.7787 - val_loss: 0.5432 - val_accuracy: 0.7015\n",
            "Epoch 55/100\n",
            "268/268 [==============================] - 11s 42ms/step - loss: 0.5644 - accuracy: 0.7692 - val_loss: 0.5441 - val_accuracy: 0.7039\n",
            "Epoch 56/100\n",
            "268/268 [==============================] - 11s 42ms/step - loss: 0.5542 - accuracy: 0.7741 - val_loss: 0.5436 - val_accuracy: 0.7025\n",
            "Epoch 57/100\n",
            "268/268 [==============================] - 11s 42ms/step - loss: 0.5652 - accuracy: 0.7688 - val_loss: 0.5428 - val_accuracy: 0.7034\n",
            "Epoch 58/100\n",
            "268/268 [==============================] - 11s 42ms/step - loss: 0.5599 - accuracy: 0.7774 - val_loss: 0.5438 - val_accuracy: 0.7034\n",
            "Epoch 59/100\n",
            "268/268 [==============================] - 11s 42ms/step - loss: 0.5506 - accuracy: 0.7796 - val_loss: 0.5431 - val_accuracy: 0.7043\n",
            "Epoch 00059: early stopping\n"
          ],
          "name": "stdout"
        },
        {
          "output_type": "stream",
          "text": [
            "/usr/local/lib/python3.6/dist-packages/tensorflow/python/keras/engine/sequential.py:450: UserWarning: `model.predict_classes()` is deprecated and will be removed after 2021-01-01. Please use instead:* `np.argmax(model.predict(x), axis=-1)`,   if your model does multi-class classification   (e.g. if it uses a `softmax` last-layer activation).* `(model.predict(x) > 0.5).astype(\"int32\")`,   if your model does binary classification   (e.g. if it uses a `sigmoid` last-layer activation).\n",
            "  warnings.warn('`model.predict_classes()` is deprecated and '\n"
          ],
          "name": "stderr"
        },
        {
          "output_type": "stream",
          "text": [
            "              precision    recall  f1-score   support\n",
            "\n",
            "           0       0.83      0.68      0.75       219\n",
            "           1       0.55      0.74      0.64       117\n",
            "\n",
            "    accuracy                           0.70       336\n",
            "   macro avg       0.69      0.71      0.69       336\n",
            "weighted avg       0.74      0.70      0.71       336\n",
            "\n",
            "11/11 [==============================] - 0s 30ms/step - loss: 0.5773 - accuracy: 0.7024\n",
            "0.5772879719734192 0.7023809552192688\n"
          ],
          "name": "stdout"
        },
        {
          "output_type": "display_data",
          "data": {
            "image/png": "[encoded data removed]",
            "text/plain": [
              "<Figure size 432x288 with 1 Axes>"
            ]
          },
          "metadata": {
            "tags": [],
            "needs_background": "light"
          }
        },
        {
          "output_type": "display_data",
          "data": {
            "image/png": "[encoded data removed]",
            "text/plain": [
              "<Figure size 432x288 with 1 Axes>"
            ]
          },
          "metadata": {
            "tags": [],
            "needs_background": "light"
          }
        },
        {
          "output_type": "stream",
          "text": [
            "[0 1]\n",
            "Normalized confusion matrix\n"
          ],
          "name": "stdout"
        },
        {
          "output_type": "display_data",
          "data": {
            "image/png": "[encoded data removed]",
            "text/plain": [
              "<Figure size 432x288 with 2 Axes>"
            ]
          },
          "metadata": {
            "tags": [],
            "needs_background": "light"
          }
        }
      ]
    },
    {
      "cell_type": "code",
      "metadata": {
        "colab": {
          "base_uri": "https://localhost:8080/"
        },
        "id": "v8lAI12aPFjR",
        "outputId": "c54bd47c-3519-44c3-c1dd-9e11ae51b664"
      },
      "source": [
        "InceptionV3_FE.save(os.path.join(projectPath + dir_name,\"model3.h5\")) \r\n",
        "\r\n",
        "print('done')"
      ],
      "execution_count": null,
      "outputs": [
        {
          "output_type": "stream",
          "text": [
            "done\n"
          ],
          "name": "stdout"
        }
      ]
    },
    {
      "cell_type": "code",
      "metadata": {
        "id": "76wQQO5pDMKo",
        "colab": {
          "base_uri": "https://localhost:8080/",
          "height": 460
        },
        "outputId": "14c540f2-1c77-4f7d-a03b-d404492e90fb"
      },
      "source": [
        "models = [VGG16_FT, VGG19_FT, ResNet50_FE, InceptionV3_FE]\r\n",
        "\r\n",
        "plotRocCurves(models, testSet, testLabels, ['VGG16_FineTuning', 'VGG19_FineTuning', 'ResNet50_FeatureExtraction', 'InceptionV3_FeatureExtraction'])"
      ],
      "execution_count": null,
      "outputs": [
        {
          "output_type": "stream",
          "text": [
            "/usr/local/lib/python3.6/dist-packages/tensorflow/python/keras/engine/sequential.py:425: UserWarning: `model.predict_proba()` is deprecated and will be removed after 2021-01-01. Please use `model.predict()` instead.\n",
            "  warnings.warn('`model.predict_proba()` is deprecated and '\n",
            "/usr/local/lib/python3.6/dist-packages/tensorflow/python/keras/engine/sequential.py:425: UserWarning: `model.predict_proba()` is deprecated and will be removed after 2021-01-01. Please use `model.predict()` instead.\n",
            "  warnings.warn('`model.predict_proba()` is deprecated and '\n",
            "/usr/local/lib/python3.6/dist-packages/tensorflow/python/keras/engine/sequential.py:425: UserWarning: `model.predict_proba()` is deprecated and will be removed after 2021-01-01. Please use `model.predict()` instead.\n",
            "  warnings.warn('`model.predict_proba()` is deprecated and '\n",
            "/usr/local/lib/python3.6/dist-packages/tensorflow/python/keras/engine/sequential.py:425: UserWarning: `model.predict_proba()` is deprecated and will be removed after 2021-01-01. Please use `model.predict()` instead.\n",
            "  warnings.warn('`model.predict_proba()` is deprecated and '\n"
          ],
          "name": "stderr"
        },
        {
          "output_type": "display_data",
          "data": {
            "image/png": "[encoded data removed]",
            "text/plain": [
              "<Figure size 432x288 with 1 Axes>"
            ]
          },
          "metadata": {
            "tags": [],
            "needs_background": "light"
          }
        }
      ]
    }
  ]
}