{
  "nbformat": 4,
  "nbformat_minor": 0,
  "metadata": {
    "colab": {
      "name": "Pretrained_CNN_3_2.ipynb",
      "provenance": [],
      "collapsed_sections": [],
      "include_colab_link": true
    },
    "kernelspec": {
      "display_name": "Python 3",
      "name": "python3"
    },
    "accelerator": "GPU"
  },
  "cells": [
    {
      "cell_type": "markdown",
      "metadata": {
        "id": "view-in-github",
        "colab_type": "text"
      },
      "source": [
        "<a href=\"https://colab.research.google.com/github/MarcoParola/medical_images_classification/blob/main/Pretrained_CNN_3_2.ipynb\" target=\"_parent\"><img src=\"https://colab.research.google.com/assets/colab-badge.svg\" alt=\"Open In Colab\"/></a>"
      ]
    },
    {
      "cell_type": "code",
      "metadata": {
        "colab": {
          "base_uri": "https://localhost:8080/"
        },
        "id": "FrELb75I-GgU",
        "outputId": "4266a823-7e67-46ec-89af-01f9f05ff471"
      },
      "source": [
        "pip install ipynb"
      ],
      "execution_count": null,
      "outputs": [
        {
          "output_type": "stream",
          "text": [
            "Requirement already satisfied: ipynb in /usr/local/lib/python3.6/dist-packages (0.5.1)\n"
          ],
          "name": "stdout"
        }
      ]
    },
    {
      "cell_type": "code",
      "metadata": {
        "colab": {
          "base_uri": "https://localhost:8080/"
        },
        "id": "Nil8Sk6GLpCT",
        "outputId": "c4d048ab-7a48-4b55-d28c-de71dbaa01dc"
      },
      "source": [
        "from google.colab import drive\n",
        "drive.mount('/content/drive/')"
      ],
      "execution_count": null,
      "outputs": [
        {
          "output_type": "stream",
          "text": [
            "Drive already mounted at /content/drive/; to attempt to forcibly remount, call drive.mount(\"/content/drive/\", force_remount=True).\n"
          ],
          "name": "stdout"
        }
      ]
    },
    {
      "cell_type": "code",
      "metadata": {
        "id": "JAEeH9W1YKE9"
      },
      "source": [
        "import os\n",
        "import numpy as np\n",
        "import matplotlib.pyplot as plt\n",
        "import collections \n",
        "from tensorflow.keras import models\n",
        "from tensorflow.keras import layers\n",
        "from tensorflow.keras.utils import to_categorical\n",
        "import tensorflow as tf\n",
        "from tensorflow.keras import optimizers"
      ],
      "execution_count": null,
      "outputs": []
    },
    {
      "cell_type": "code",
      "metadata": {
        "id": "VDK5pOvDYNhX"
      },
      "source": [
        "projectPath = 'drive/MyDrive/Colab Notebooks/cidl/'\n",
        "dataPath = 'numpy data/'"
      ],
      "execution_count": null,
      "outputs": []
    },
    {
      "cell_type": "code",
      "metadata": {
        "colab": {
          "base_uri": "https://localhost:8080/"
        },
        "id": "Apt19-tmGb-N",
        "outputId": "cf6e94b2-ed49-4ba9-94a3-7e77e7ba8e06"
      },
      "source": [
        "%cd $projectPath\n",
        "%run utils.ipynb\n",
        "%cd '../../../..'"
      ],
      "execution_count": null,
      "outputs": [
        {
          "output_type": "stream",
          "text": [
            "/content/drive/MyDrive/Colab Notebooks/cidl\n",
            "/content\n"
          ],
          "name": "stdout"
        }
      ]
    },
    {
      "cell_type": "code",
      "metadata": {
        "id": "GsJPM8GZT7Ky"
      },
      "source": [
        "# load data\n",
        "imagesTrainPub, labelsTrainPub, imagesTestPub, labelsTestPub, imagesTestPriv = load_data(projectPath + dataPath)\n",
        "\n",
        "# normalize data \n",
        "imagesTrainPub = scaleData(imagesTrainPub)\n",
        "imagesTestPub = scaleData(imagesTestPub)"
      ],
      "execution_count": null,
      "outputs": []
    },
    {
      "cell_type": "code",
      "metadata": {
        "id": "7FyKbOx0RvZS"
      },
      "source": [
        "# create (if not exists) the folder to store the models\n",
        "dir_name = 'models'\n",
        "if not os.path.exists(projectPath + dir_name):\n",
        "  os.makedirs(projectPath + dir_name)"
      ],
      "execution_count": null,
      "outputs": []
    },
    {
      "cell_type": "markdown",
      "metadata": {
        "id": "FHzqUFKiiNgc"
      },
      "source": [
        "# **Task 3**\n",
        "\n",
        "## 3.1 Binary calssification: Mass and Calcification\n",
        "Classes:\n",
        "*   Mass 1218\n",
        "*   Calcification 1458"
      ]
    },
    {
      "cell_type": "code",
      "metadata": {
        "id": "IhAtXIf3e19R",
        "colab": {
          "base_uri": "https://localhost:8080/"
        },
        "outputId": "97d69c65-e62d-45b7-d6b7-49a307a0de82"
      },
      "source": [
        "# 0 -> benign\n",
        "# 1 -> malignant\n",
        "\n",
        "# prepare trainig-set\n",
        "trainingSet = []\n",
        "trainingLabels = []\n",
        "\n",
        "for i in range(len(labelsTrainPub)):\n",
        "  if labelsTrainPub[i] == 1 or labelsTrainPub[i] == 3:\n",
        "    trainingSet.append(imagesTrainPub[i])\n",
        "    trainingLabels.append(0)\n",
        "  if labelsTrainPub[i] == 2 or labelsTrainPub[i] == 4:\n",
        "    trainingSet.append(imagesTrainPub[i])\n",
        "    trainingLabels.append(1)\n",
        "\n",
        "trainingSet = np.array(trainingSet)\n",
        "trainingSet = trainingSet.reshape(2676, 150, 150, 1)\n",
        "\n",
        "training = []\n",
        "for i in range(len(trainingSet)):\n",
        "  training.append((trainingSet[i], trainingLabels[i]))\n",
        "\n",
        "training = np.array(training)\n",
        "np.random.shuffle(training)\n",
        "\n",
        "\n",
        "trainingSet = []\n",
        "trainingLabels = []\n",
        "\n",
        "for i in range(len(training)):\n",
        "  trainingSet.append(training[i][0])\n",
        "  trainingLabels.append(training[i][1])\n",
        "\n",
        "trainingSet = np.array(trainingSet)\n",
        "trainingLabels = np.array(trainingLabels)\n",
        "\n",
        "# prepare test-set\n",
        "testSet = []\n",
        "testLabels = []\n",
        "\n",
        "for i in range(len(labelsTestPub)):\n",
        "  if labelsTestPub[i] == 1 or labelsTestPub[i] == 2:\n",
        "    testSet.append(imagesTestPub[i])\n",
        "    testLabels.append(0)\n",
        "  if labelsTestPub[i] == 3 or labelsTestPub[i] == 4:\n",
        "    testSet.append(imagesTestPub[i])\n",
        "    testLabels.append(1)\n",
        "\n",
        "testSet = np.array(testSet)\n",
        "testSet = testSet.reshape(336, 150, 150, 1)\n",
        "\n",
        "# the output must have a categorigal values\n",
        "testLabelsCategorical = to_categorical(np.array(testLabels))\n",
        "trainingLabelsCategorical = to_categorical(np.array(trainingLabels))"
      ],
      "execution_count": null,
      "outputs": [
        {
          "output_type": "stream",
          "text": [
            "/usr/local/lib/python3.6/dist-packages/ipykernel_launcher.py:23: VisibleDeprecationWarning: Creating an ndarray from ragged nested sequences (which is a list-or-tuple of lists-or-tuples-or ndarrays with different lengths or shapes) is deprecated. If you meant to do this, you must specify 'dtype=object' when creating the ndarray\n"
          ],
          "name": "stderr"
        }
      ]
    },
    {
      "cell_type": "markdown",
      "metadata": {
        "id": "WG3Q0r9oFa7q"
      },
      "source": [
        "# **Augment Data**"
      ]
    },
    {
      "cell_type": "code",
      "metadata": {
        "id": "fgIE0UCpHuYK",
        "colab": {
          "base_uri": "https://localhost:8080/"
        },
        "outputId": "129bbb2e-0ebb-4d00-af15-fc1e79577dcc"
      },
      "source": [
        "from tensorflow.keras.preprocessing.image import ImageDataGenerator\n",
        "\n",
        "BATCH_SIZE = 64\n",
        "dataGenerator = ImageDataGenerator(\n",
        "      rotation_range=45,\n",
        "      width_shift_range=0.15,\n",
        "      height_shift_range=0.15,\n",
        "      shear_range=20,\n",
        "      zoom_range=0.15,\n",
        "      horizontal_flip=True,\n",
        "      fill_mode='reflect')\n",
        "\n",
        "\n",
        "augmentedData = []\n",
        "augmentedLabels = []\n",
        "\n",
        "for j in range(0,len(trainingSet)):\n",
        "  for i in range(0,4):\n",
        "    dataGenerated = dataGenerator.flow(trainingSet[j].reshape(1,150,150,1), batch_size=4)\n",
        "    augmentedData.append(dataGenerated[0].reshape(150, 150))\n",
        "    augmentedLabels.append(trainingLabels[j])\n",
        "    del dataGenerated\n",
        "\n",
        "augmentedLabels = to_categorical((np.array(augmentedLabels)))\n",
        "\n",
        "augmentedData = np.array(augmentedData)\n",
        "augmentedData = augmentedData.reshape(len(augmentedData), 150, 150, 1)\n",
        "print(augmentedData.shape, augmentedLabels.shape)"
      ],
      "execution_count": null,
      "outputs": [
        {
          "output_type": "stream",
          "text": [
            "(10704, 150, 150, 1) (10704, 2)\n"
          ],
          "name": "stdout"
        }
      ]
    },
    {
      "cell_type": "markdown",
      "metadata": {
        "id": "XpXk7OQCOjSc"
      },
      "source": [
        "# **VGG16**\r\n",
        "We test VGG16 neural network trained on imagenet dataset, freezing different convolutional layer belonging to different blocks and appending different fully connected neural networks as classifier."
      ]
    },
    {
      "cell_type": "code",
      "metadata": {
        "colab": {
          "base_uri": "https://localhost:8080/",
          "height": 916
        },
        "id": "irLpfR9v5uxZ",
        "outputId": "3f9d5054-2c09-4045-e6db-2367857332e9"
      },
      "source": [
        "from tensorflow.keras.applications import VGG16\r\n",
        "\r\n",
        "#import pretrained model\r\n",
        "conv_base = VGG16(weights='imagenet',\r\n",
        "                  include_top=False,\r\n",
        "                  input_shape=(150, 150, 3))\r\n",
        "\r\n",
        "conv_base.summary()\r\n",
        "\r\n",
        "\r\n",
        "# add fully connected layers as classifier\r\n",
        "model = models.Sequential()\r\n",
        "model.add(conv_base)\r\n",
        "model.add(layers.Flatten())\r\n",
        "model.add(layers.Dense(256, activation='relu'))\r\n",
        "model.add(layers.Dense(256, activation='relu'))\r\n",
        "model.add(layers.Dense(2, activation='sigmoid'))\r\n",
        "\r\n",
        "# Freeze layers\r\n",
        "conv_base.trainable = True\r\n",
        "set_trainable = False\r\n",
        "\r\n",
        "for layer in conv_base.layers:\r\n",
        "    if layer.name == 'block5_conv1':\r\n",
        "        set_trainable = True\r\n",
        "    if set_trainable:\r\n",
        "        layer.trainable = True\r\n",
        "    else:\r\n",
        "        layer.trainable = False\r\n",
        "\r\n",
        "# trick to use the pretrained network on gray scale immages\r\n",
        "trainingSet = np.repeat(trainingSet,3, axis = 3)\r\n",
        "testSet = np.repeat(testSet,3, axis = 3)\r\n",
        "\r\n",
        "model.compile(loss='binary_crossentropy',\r\n",
        "              optimizer=optimizers.RMSprop(lr=2e-5),\r\n",
        "              metrics=['accuracy'])\r\n",
        "\r\n",
        "earlyStopCallback = tf.keras.callbacks.EarlyStopping(monitor='val_loss', mode='min', verbose=1, patience=10)\r\n",
        "\r\n",
        "history = model.fit(trainingSet, trainingLabelsCategorical, epochs=100, callbacks=[earlyStopCallback], batch_size=32, validation_split=0.2)\r\n",
        "\r\n",
        "\r\n",
        "test_loss, test_acc = model.evaluate(testSet, testLabelsCategorical)\r\n",
        "print(test_loss, test_acc)\r\n",
        "plot_accurancy_loss(history)\r\n",
        "plot_confusionMatrix(model, testSet, testLabels)"
      ],
      "execution_count": null,
      "outputs": [
        {
          "output_type": "stream",
          "text": [
            "11/11 [==============================] - 1s 63ms/step - loss: 0.3613 - acc: 0.8750\n",
            "0.36125290393829346 0.875\n"
          ],
          "name": "stdout"
        },
        {
          "output_type": "display_data",
          "data": {
            "image/png": "[encoded data removed]",
            "text/plain": [
              "<Figure size 432x288 with 1 Axes>"
            ]
          },
          "metadata": {
            "tags": [],
            "needs_background": "light"
          }
        },
        {
          "output_type": "display_data",
          "data": {
            "image/png": "[encoded data removed]",
            "text/plain": [
              "<Figure size 432x288 with 1 Axes>"
            ]
          },
          "metadata": {
            "tags": [],
            "needs_background": "light"
          }
        },
        {
          "output_type": "stream",
          "text": [
            "/usr/local/lib/python3.6/dist-packages/tensorflow/python/keras/engine/sequential.py:450: UserWarning: `model.predict_classes()` is deprecated and will be removed after 2021-01-01. Please use instead:* `np.argmax(model.predict(x), axis=-1)`,   if your model does multi-class classification   (e.g. if it uses a `softmax` last-layer activation).* `(model.predict(x) > 0.5).astype(\"int32\")`,   if your model does binary classification   (e.g. if it uses a `sigmoid` last-layer activation).\n",
            "  warnings.warn('`model.predict_classes()` is deprecated and '\n"
          ],
          "name": "stderr"
        },
        {
          "output_type": "display_data",
          "data": {
            "image/png": "[encoded data removed]",
            "text/plain": [
              "<Figure size 432x288 with 2 Axes>"
            ]
          },
          "metadata": {
            "tags": [],
            "needs_background": "light"
          }
        }
      ]
    },
    {
      "cell_type": "markdown",
      "metadata": {
        "id": "K70MKG6CPRed"
      },
      "source": [
        "# **ResNet50**\r\n",
        "\r\n",
        "We test ResNet50 neural network trained on imagenet dataset, freezing different convolutional layer belonging to different blocks and appending different fully connected neural networks as classifier."
      ]
    },
    {
      "cell_type": "code",
      "metadata": {
        "id": "sZwzB_5iIhcw",
        "colab": {
          "base_uri": "https://localhost:8080/",
          "height": 1000
        },
        "outputId": "90fce35d-d6af-47b8-9e1b-7752568f284d"
      },
      "source": [
        "from tensorflow.keras.applications import ResNet50\n",
        "\n",
        "# trick to riproduce 3 layer\n",
        "img_input = tf.keras.layers.Input(shape=(150, 150, 1))\n",
        "img_conc = tf.keras.layers.Concatenate()([img_input, img_input, img_input])    \n",
        "\n",
        "# pre-trained network\n",
        "conv_base = ResNet50(weights='imagenet',\n",
        "                  include_top=False,\n",
        "                  input_shape=(150, 150, 3))\n",
        "\n",
        "# classifier\n",
        "model = models.Sequential()\n",
        "model.add(conv_base)\n",
        "model.add(layers.Flatten())\n",
        "model.add(layers.Dense(256, activation='relu'))\n",
        "model.add(layers.Dense(2, activation='sigmoid'))\n",
        "\n",
        "conv_base.trainable = True\n",
        "\n",
        "set_trainable = False\n",
        "for layer in conv_base.layers:\n",
        "    if layer.name == 'block5_conv1':\n",
        "        set_trainable = True\n",
        "    if set_trainable:\n",
        "        layer.trainable = True\n",
        "    else:\n",
        "        layer.trainable = False\n",
        "\n",
        "        model.compile(loss='binary_crossentropy',\n",
        "              optimizer=optimizers.RMSprop(lr=2e-5),\n",
        "              metrics=['accuracy'])\n",
        "\n",
        "earlyStopCallback = tf.keras.callbacks.EarlyStopping(monitor='val_loss', mode='min', verbose=1, patience=10)\n",
        "\n",
        "model.fit(trainingSet, trainingLabelsCategorical, epochs=100, callbacks=[earlyStopCallback], batch_size=32, validation_split=0.2)\n",
        "\n",
        "test_loss, test_acc = model.evaluate(testSet, testLabelsCategorical)\n",
        "print(test_loss, test_acc)\n",
        "plot_accurancy_loss(history)\n",
        "plot_confusionMatrix(model, testSet, testLabels)"
      ],
      "execution_count": null,
      "outputs": [
        {
          "output_type": "stream",
          "text": [
            "Epoch 1/100\n",
            "67/67 [==============================] - 9s 91ms/step - loss: 0.7033 - accuracy: 0.5283 - val_loss: 0.6908 - val_accuracy: 0.5541\n",
            "Epoch 2/100\n",
            "67/67 [==============================] - 5s 72ms/step - loss: 0.6952 - accuracy: 0.5430 - val_loss: 0.6891 - val_accuracy: 0.5541\n",
            "Epoch 3/100\n",
            "67/67 [==============================] - 5s 72ms/step - loss: 0.6981 - accuracy: 0.5391 - val_loss: 0.6875 - val_accuracy: 0.5541\n",
            "Epoch 4/100\n",
            "67/67 [==============================] - 5s 73ms/step - loss: 0.6965 - accuracy: 0.5593 - val_loss: 0.6988 - val_accuracy: 0.4459\n",
            "Epoch 5/100\n",
            "67/67 [==============================] - 5s 73ms/step - loss: 0.6994 - accuracy: 0.5409 - val_loss: 0.7105 - val_accuracy: 0.5541\n",
            "Epoch 6/100\n",
            "67/67 [==============================] - 5s 73ms/step - loss: 0.6941 - accuracy: 0.5447 - val_loss: 0.6820 - val_accuracy: 0.5541\n",
            "Epoch 7/100\n",
            "67/67 [==============================] - 5s 74ms/step - loss: 0.6918 - accuracy: 0.5322 - val_loss: 0.6830 - val_accuracy: 0.5541\n",
            "Epoch 8/100\n",
            "67/67 [==============================] - 5s 75ms/step - loss: 0.6919 - accuracy: 0.5391 - val_loss: 0.6822 - val_accuracy: 0.5541\n",
            "Epoch 9/100\n",
            "67/67 [==============================] - 5s 75ms/step - loss: 0.6898 - accuracy: 0.5327 - val_loss: 0.6792 - val_accuracy: 0.5541\n",
            "Epoch 10/100\n",
            "67/67 [==============================] - 5s 74ms/step - loss: 0.6868 - accuracy: 0.5472 - val_loss: 0.6804 - val_accuracy: 0.5541\n",
            "Epoch 11/100\n",
            "67/67 [==============================] - 5s 73ms/step - loss: 0.6837 - accuracy: 0.5720 - val_loss: 0.7004 - val_accuracy: 0.5541\n",
            "Epoch 12/100\n",
            "67/67 [==============================] - 5s 74ms/step - loss: 0.6811 - accuracy: 0.5546 - val_loss: 0.6758 - val_accuracy: 0.5541\n",
            "Epoch 13/100\n",
            "67/67 [==============================] - 5s 76ms/step - loss: 0.6838 - accuracy: 0.5537 - val_loss: 0.6777 - val_accuracy: 0.5541\n",
            "Epoch 14/100\n",
            "67/67 [==============================] - 5s 73ms/step - loss: 0.6880 - accuracy: 0.5303 - val_loss: 0.6930 - val_accuracy: 0.5541\n",
            "Epoch 15/100\n",
            "67/67 [==============================] - 5s 73ms/step - loss: 0.6777 - accuracy: 0.5676 - val_loss: 0.6729 - val_accuracy: 0.5541\n",
            "Epoch 16/100\n",
            "67/67 [==============================] - 5s 73ms/step - loss: 0.6850 - accuracy: 0.5496 - val_loss: 0.6746 - val_accuracy: 0.6716\n",
            "Epoch 17/100\n",
            "67/67 [==============================] - 5s 73ms/step - loss: 0.6795 - accuracy: 0.5733 - val_loss: 0.7184 - val_accuracy: 0.4515\n",
            "Epoch 18/100\n",
            "67/67 [==============================] - 5s 73ms/step - loss: 0.6891 - accuracy: 0.5429 - val_loss: 0.6794 - val_accuracy: 0.6586\n",
            "Epoch 19/100\n",
            "67/67 [==============================] - 5s 73ms/step - loss: 0.6826 - accuracy: 0.5690 - val_loss: 0.7008 - val_accuracy: 0.5541\n",
            "Epoch 20/100\n",
            "67/67 [==============================] - 5s 73ms/step - loss: 0.6780 - accuracy: 0.5692 - val_loss: 0.6813 - val_accuracy: 0.5224\n",
            "Epoch 21/100\n",
            "67/67 [==============================] - 5s 73ms/step - loss: 0.6848 - accuracy: 0.5389 - val_loss: 0.6683 - val_accuracy: 0.5541\n",
            "Epoch 22/100\n",
            "67/67 [==============================] - 5s 73ms/step - loss: 0.6821 - accuracy: 0.5571 - val_loss: 0.6742 - val_accuracy: 0.7164\n",
            "Epoch 23/100\n",
            "67/67 [==============================] - 5s 73ms/step - loss: 0.6797 - accuracy: 0.5592 - val_loss: 0.6709 - val_accuracy: 0.5541\n",
            "Epoch 24/100\n",
            "67/67 [==============================] - 5s 74ms/step - loss: 0.6778 - accuracy: 0.5599 - val_loss: 0.6786 - val_accuracy: 0.5354\n",
            "Epoch 25/100\n",
            "67/67 [==============================] - 5s 73ms/step - loss: 0.6812 - accuracy: 0.5334 - val_loss: 0.6685 - val_accuracy: 0.5541\n",
            "Epoch 26/100\n",
            "67/67 [==============================] - 5s 74ms/step - loss: 0.6724 - accuracy: 0.5732 - val_loss: 0.7185 - val_accuracy: 0.4534\n",
            "Epoch 27/100\n",
            "67/67 [==============================] - 5s 74ms/step - loss: 0.6685 - accuracy: 0.5695 - val_loss: 0.6679 - val_accuracy: 0.5541\n",
            "Epoch 28/100\n",
            "67/67 [==============================] - 5s 74ms/step - loss: 0.6770 - accuracy: 0.5785 - val_loss: 0.6656 - val_accuracy: 0.5541\n",
            "Epoch 29/100\n",
            "67/67 [==============================] - 5s 73ms/step - loss: 0.6795 - accuracy: 0.5660 - val_loss: 0.6636 - val_accuracy: 0.7276\n",
            "Epoch 30/100\n",
            "67/67 [==============================] - 5s 74ms/step - loss: 0.6677 - accuracy: 0.5958 - val_loss: 0.7004 - val_accuracy: 0.5541\n",
            "Epoch 31/100\n",
            "67/67 [==============================] - 5s 73ms/step - loss: 0.6735 - accuracy: 0.5764 - val_loss: 0.6828 - val_accuracy: 0.4981\n",
            "Epoch 32/100\n",
            "67/67 [==============================] - 5s 73ms/step - loss: 0.6692 - accuracy: 0.5889 - val_loss: 0.6688 - val_accuracy: 0.5541\n",
            "Epoch 33/100\n",
            "67/67 [==============================] - 5s 74ms/step - loss: 0.6664 - accuracy: 0.5835 - val_loss: 0.6568 - val_accuracy: 0.5560\n",
            "Epoch 34/100\n",
            "67/67 [==============================] - 5s 73ms/step - loss: 0.6684 - accuracy: 0.5752 - val_loss: 0.6634 - val_accuracy: 0.5541\n",
            "Epoch 35/100\n",
            "67/67 [==============================] - 5s 73ms/step - loss: 0.6608 - accuracy: 0.6048 - val_loss: 0.6571 - val_accuracy: 0.7500\n",
            "Epoch 36/100\n",
            "67/67 [==============================] - 5s 74ms/step - loss: 0.6630 - accuracy: 0.6052 - val_loss: 0.6580 - val_accuracy: 0.5541\n",
            "Epoch 37/100\n",
            "67/67 [==============================] - 5s 74ms/step - loss: 0.6626 - accuracy: 0.5972 - val_loss: 0.6576 - val_accuracy: 0.7500\n",
            "Epoch 38/100\n",
            "67/67 [==============================] - 5s 74ms/step - loss: 0.6693 - accuracy: 0.5787 - val_loss: 0.6529 - val_accuracy: 0.5541\n",
            "Epoch 39/100\n",
            "67/67 [==============================] - 5s 73ms/step - loss: 0.6586 - accuracy: 0.5985 - val_loss: 0.6599 - val_accuracy: 0.6698\n",
            "Epoch 40/100\n",
            "67/67 [==============================] - 5s 73ms/step - loss: 0.6670 - accuracy: 0.5775 - val_loss: 0.6655 - val_accuracy: 0.5840\n",
            "Epoch 41/100\n",
            "67/67 [==============================] - 5s 74ms/step - loss: 0.6602 - accuracy: 0.6016 - val_loss: 0.6545 - val_accuracy: 0.5541\n",
            "Epoch 42/100\n",
            "67/67 [==============================] - 5s 73ms/step - loss: 0.6595 - accuracy: 0.5893 - val_loss: 0.6498 - val_accuracy: 0.6269\n",
            "Epoch 43/100\n",
            "67/67 [==============================] - 5s 74ms/step - loss: 0.6561 - accuracy: 0.6132 - val_loss: 0.6613 - val_accuracy: 0.6157\n",
            "Epoch 44/100\n",
            "67/67 [==============================] - 5s 73ms/step - loss: 0.6614 - accuracy: 0.5854 - val_loss: 0.6502 - val_accuracy: 0.5541\n",
            "Epoch 45/100\n",
            "67/67 [==============================] - 5s 74ms/step - loss: 0.6572 - accuracy: 0.5992 - val_loss: 0.6597 - val_accuracy: 0.6138\n",
            "Epoch 46/100\n",
            "67/67 [==============================] - 5s 74ms/step - loss: 0.6624 - accuracy: 0.5822 - val_loss: 0.6466 - val_accuracy: 0.6716\n",
            "Epoch 47/100\n",
            "67/67 [==============================] - 5s 73ms/step - loss: 0.6628 - accuracy: 0.6144 - val_loss: 0.6474 - val_accuracy: 0.5541\n",
            "Epoch 48/100\n",
            "67/67 [==============================] - 5s 74ms/step - loss: 0.6637 - accuracy: 0.5372 - val_loss: 0.6564 - val_accuracy: 0.6269\n",
            "Epoch 49/100\n",
            "67/67 [==============================] - 5s 74ms/step - loss: 0.6574 - accuracy: 0.6094 - val_loss: 0.6440 - val_accuracy: 0.5616\n",
            "Epoch 50/100\n",
            "67/67 [==============================] - 5s 73ms/step - loss: 0.6505 - accuracy: 0.6177 - val_loss: 0.6824 - val_accuracy: 0.5056\n",
            "Epoch 51/100\n",
            "67/67 [==============================] - 5s 73ms/step - loss: 0.6596 - accuracy: 0.6199 - val_loss: 0.6436 - val_accuracy: 0.7537\n",
            "Epoch 52/100\n",
            "67/67 [==============================] - 5s 73ms/step - loss: 0.6583 - accuracy: 0.6095 - val_loss: 0.6472 - val_accuracy: 0.5541\n",
            "Epoch 53/100\n",
            "67/67 [==============================] - 5s 73ms/step - loss: 0.6556 - accuracy: 0.6003 - val_loss: 0.6413 - val_accuracy: 0.6213\n",
            "Epoch 54/100\n",
            "67/67 [==============================] - 5s 74ms/step - loss: 0.6517 - accuracy: 0.6089 - val_loss: 0.6442 - val_accuracy: 0.5541\n",
            "Epoch 55/100\n",
            "67/67 [==============================] - 5s 73ms/step - loss: 0.6547 - accuracy: 0.6076 - val_loss: 0.6406 - val_accuracy: 0.7537\n",
            "Epoch 56/100\n",
            "67/67 [==============================] - 5s 73ms/step - loss: 0.6516 - accuracy: 0.6013 - val_loss: 0.6720 - val_accuracy: 0.5261\n",
            "Epoch 57/100\n",
            "67/67 [==============================] - 5s 74ms/step - loss: 0.6586 - accuracy: 0.6322 - val_loss: 0.6620 - val_accuracy: 0.5840\n",
            "Epoch 58/100\n",
            "67/67 [==============================] - 5s 73ms/step - loss: 0.6486 - accuracy: 0.5848 - val_loss: 0.6600 - val_accuracy: 0.5765\n",
            "Epoch 59/100\n",
            "67/67 [==============================] - 5s 73ms/step - loss: 0.6607 - accuracy: 0.5840 - val_loss: 0.6470 - val_accuracy: 0.5541\n",
            "Epoch 60/100\n",
            "67/67 [==============================] - 5s 73ms/step - loss: 0.6477 - accuracy: 0.6199 - val_loss: 0.6360 - val_accuracy: 0.6735\n",
            "Epoch 61/100\n",
            "67/67 [==============================] - 5s 73ms/step - loss: 0.6504 - accuracy: 0.6341 - val_loss: 0.6477 - val_accuracy: 0.5541\n",
            "Epoch 62/100\n",
            "67/67 [==============================] - 5s 73ms/step - loss: 0.6535 - accuracy: 0.6011 - val_loss: 0.6355 - val_accuracy: 0.5690\n",
            "Epoch 63/100\n",
            "67/67 [==============================] - 5s 73ms/step - loss: 0.6540 - accuracy: 0.5869 - val_loss: 0.6367 - val_accuracy: 0.7575\n",
            "Epoch 64/100\n",
            "67/67 [==============================] - 5s 73ms/step - loss: 0.6496 - accuracy: 0.6258 - val_loss: 0.6380 - val_accuracy: 0.7295\n",
            "Epoch 65/100\n",
            "67/67 [==============================] - 5s 73ms/step - loss: 0.6464 - accuracy: 0.6267 - val_loss: 0.6677 - val_accuracy: 0.5541\n",
            "Epoch 66/100\n",
            "67/67 [==============================] - 5s 73ms/step - loss: 0.6471 - accuracy: 0.6290 - val_loss: 0.6317 - val_accuracy: 0.7425\n",
            "Epoch 67/100\n",
            "67/67 [==============================] - 5s 74ms/step - loss: 0.6421 - accuracy: 0.6673 - val_loss: 0.6531 - val_accuracy: 0.5933\n",
            "Epoch 68/100\n",
            "67/67 [==============================] - 5s 74ms/step - loss: 0.6426 - accuracy: 0.6245 - val_loss: 0.6324 - val_accuracy: 0.5597\n",
            "Epoch 69/100\n",
            "67/67 [==============================] - 5s 74ms/step - loss: 0.6459 - accuracy: 0.6059 - val_loss: 0.6318 - val_accuracy: 0.7649\n",
            "Epoch 70/100\n",
            "67/67 [==============================] - 5s 74ms/step - loss: 0.6430 - accuracy: 0.6218 - val_loss: 0.6333 - val_accuracy: 0.5578\n",
            "Epoch 71/100\n",
            "67/67 [==============================] - 5s 74ms/step - loss: 0.6389 - accuracy: 0.6032 - val_loss: 0.6282 - val_accuracy: 0.6903\n",
            "Epoch 72/100\n",
            "67/67 [==============================] - 5s 73ms/step - loss: 0.6513 - accuracy: 0.6308 - val_loss: 0.6323 - val_accuracy: 0.5560\n",
            "Epoch 73/100\n",
            "67/67 [==============================] - 5s 73ms/step - loss: 0.6406 - accuracy: 0.6346 - val_loss: 0.6758 - val_accuracy: 0.5205\n",
            "Epoch 74/100\n",
            "67/67 [==============================] - 5s 74ms/step - loss: 0.6432 - accuracy: 0.6448 - val_loss: 0.6404 - val_accuracy: 0.6362\n",
            "Epoch 75/100\n",
            "67/67 [==============================] - 5s 74ms/step - loss: 0.6356 - accuracy: 0.6209 - val_loss: 0.6719 - val_accuracy: 0.5261\n",
            "Epoch 76/100\n",
            "67/67 [==============================] - 5s 74ms/step - loss: 0.6366 - accuracy: 0.6462 - val_loss: 0.6279 - val_accuracy: 0.7481\n",
            "Epoch 77/100\n",
            "67/67 [==============================] - 5s 73ms/step - loss: 0.6414 - accuracy: 0.6168 - val_loss: 0.6351 - val_accuracy: 0.5541\n",
            "Epoch 78/100\n",
            "67/67 [==============================] - 5s 74ms/step - loss: 0.6384 - accuracy: 0.6031 - val_loss: 0.6232 - val_accuracy: 0.6269\n",
            "Epoch 79/100\n",
            "67/67 [==============================] - 5s 73ms/step - loss: 0.6427 - accuracy: 0.6176 - val_loss: 0.6280 - val_accuracy: 0.7201\n",
            "Epoch 80/100\n",
            "67/67 [==============================] - 5s 73ms/step - loss: 0.6306 - accuracy: 0.6755 - val_loss: 0.6237 - val_accuracy: 0.7724\n",
            "Epoch 81/100\n",
            "67/67 [==============================] - 5s 74ms/step - loss: 0.6323 - accuracy: 0.6677 - val_loss: 0.6263 - val_accuracy: 0.7201\n",
            "Epoch 82/100\n",
            "67/67 [==============================] - 5s 74ms/step - loss: 0.6346 - accuracy: 0.6341 - val_loss: 0.6295 - val_accuracy: 0.5560\n",
            "Epoch 83/100\n",
            "67/67 [==============================] - 5s 73ms/step - loss: 0.6301 - accuracy: 0.6260 - val_loss: 0.6192 - val_accuracy: 0.7593\n",
            "Epoch 84/100\n",
            "67/67 [==============================] - 5s 73ms/step - loss: 0.6347 - accuracy: 0.6538 - val_loss: 0.6210 - val_accuracy: 0.7743\n",
            "Epoch 85/100\n",
            "67/67 [==============================] - 5s 73ms/step - loss: 0.6311 - accuracy: 0.6465 - val_loss: 0.6251 - val_accuracy: 0.5597\n",
            "Epoch 86/100\n",
            "67/67 [==============================] - 5s 73ms/step - loss: 0.6248 - accuracy: 0.6620 - val_loss: 0.6261 - val_accuracy: 0.5597\n",
            "Epoch 87/100\n",
            "67/67 [==============================] - 5s 73ms/step - loss: 0.6261 - accuracy: 0.6400 - val_loss: 0.6163 - val_accuracy: 0.7108\n",
            "Epoch 88/100\n",
            "67/67 [==============================] - 5s 75ms/step - loss: 0.6303 - accuracy: 0.6618 - val_loss: 0.6168 - val_accuracy: 0.6940\n",
            "Epoch 89/100\n",
            "67/67 [==============================] - 5s 73ms/step - loss: 0.6331 - accuracy: 0.6525 - val_loss: 0.6331 - val_accuracy: 0.5541\n",
            "Epoch 90/100\n",
            "67/67 [==============================] - 5s 74ms/step - loss: 0.6229 - accuracy: 0.6577 - val_loss: 0.6217 - val_accuracy: 0.5616\n",
            "Epoch 91/100\n",
            "67/67 [==============================] - 5s 73ms/step - loss: 0.6314 - accuracy: 0.6410 - val_loss: 0.6466 - val_accuracy: 0.5840\n",
            "Epoch 92/100\n",
            "67/67 [==============================] - 5s 74ms/step - loss: 0.6293 - accuracy: 0.6495 - val_loss: 0.6255 - val_accuracy: 0.5578\n",
            "Epoch 93/100\n",
            "67/67 [==============================] - 5s 74ms/step - loss: 0.6257 - accuracy: 0.6390 - val_loss: 0.6162 - val_accuracy: 0.6045\n",
            "Epoch 94/100\n",
            "67/67 [==============================] - 5s 74ms/step - loss: 0.6330 - accuracy: 0.6528 - val_loss: 0.6165 - val_accuracy: 0.5877\n",
            "Epoch 95/100\n",
            "67/67 [==============================] - 5s 74ms/step - loss: 0.6271 - accuracy: 0.6400 - val_loss: 0.6111 - val_accuracy: 0.7295\n",
            "Epoch 96/100\n",
            "67/67 [==============================] - 5s 74ms/step - loss: 0.6263 - accuracy: 0.6717 - val_loss: 0.6337 - val_accuracy: 0.5541\n",
            "Epoch 97/100\n",
            "67/67 [==============================] - 5s 73ms/step - loss: 0.6218 - accuracy: 0.6521 - val_loss: 0.6103 - val_accuracy: 0.7295\n",
            "Epoch 98/100\n",
            "67/67 [==============================] - 5s 72ms/step - loss: 0.6217 - accuracy: 0.6781 - val_loss: 0.6243 - val_accuracy: 0.6493\n",
            "Epoch 99/100\n",
            "67/67 [==============================] - 5s 73ms/step - loss: 0.6255 - accuracy: 0.6465 - val_loss: 0.6214 - val_accuracy: 0.5597\n",
            "Epoch 100/100\n",
            "67/67 [==============================] - 5s 73ms/step - loss: 0.6243 - accuracy: 0.6555 - val_loss: 0.6212 - val_accuracy: 0.6604\n",
            "11/11 [==============================] - 1s 75ms/step - loss: 0.6169 - accuracy: 0.6815\n",
            "0.6169288754463196 0.6815476417541504\n"
          ],
          "name": "stdout"
        },
        {
          "output_type": "display_data",
          "data": {
            "image/png": "[encoded data removed]",
            "text/plain": [
              "<Figure size 432x288 with 1 Axes>"
            ]
          },
          "metadata": {
            "tags": [],
            "needs_background": "light"
          }
        },
        {
          "output_type": "display_data",
          "data": {
            "image/png": "[encoded data removed]",
            "text/plain": [
              "<Figure size 432x288 with 1 Axes>"
            ]
          },
          "metadata": {
            "tags": [],
            "needs_background": "light"
          }
        },
        {
          "output_type": "stream",
          "text": [
            "/usr/local/lib/python3.6/dist-packages/tensorflow/python/keras/engine/sequential.py:450: UserWarning: `model.predict_classes()` is deprecated and will be removed after 2021-01-01. Please use instead:* `np.argmax(model.predict(x), axis=-1)`,   if your model does multi-class classification   (e.g. if it uses a `softmax` last-layer activation).* `(model.predict(x) > 0.5).astype(\"int32\")`,   if your model does binary classification   (e.g. if it uses a `sigmoid` last-layer activation).\n",
            "  warnings.warn('`model.predict_classes()` is deprecated and '\n"
          ],
          "name": "stderr"
        },
        {
          "output_type": "display_data",
          "data": {
            "image/png": "[encoded data removed]",
            "text/plain": [
              "<Figure size 432x288 with 2 Axes>"
            ]
          },
          "metadata": {
            "tags": [],
            "needs_background": "light"
          }
        }
      ]
    }
  ]
}